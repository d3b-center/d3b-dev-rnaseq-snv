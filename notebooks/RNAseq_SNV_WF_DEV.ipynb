{
 "cells": [
  {
   "cell_type": "code",
   "execution_count": 1,
   "metadata": {},
   "outputs": [],
   "source": [
    "import sevenbridges as sbg\n",
    "from sevenbridges.errors import SbgError\n",
    "from sevenbridges.http.error_handlers import rate_limit_sleeper, maintenance_sleeper\n",
    "import sys\n",
    "import re\n",
    "import pdb\n",
    "import concurrent.futures\n",
    "from requests import request\n",
    "import json\n",
    "config = sbg.Config(profile='turbo')\n",
    "api = sbg.Api(config=config, error_handlers=[rate_limit_sleeper, maintenance_sleeper])"
   ]
  },
  {
   "cell_type": "markdown",
   "metadata": {},
   "source": [
    "## Create example bash calls from workflow\n",
    "Works best with non-restarted WF"
   ]
  },
  {
   "cell_type": "code",
   "execution_count": 2,
   "metadata": {},
   "outputs": [],
   "source": [
    "project = \"d3b-bixu/dev-rnaseq-snv\"\n",
    "task_id = \"8b37cb5b-ef56-4f3b-a7c9-87a89b07171f\"\n",
    "out_file = open(\"/Users/brownm28/Documents/2020-Apr-8_RNAseq_snv_dev/2020-06-16_gatk4.tsv\", \"w\")\n",
    "# task_id = \"3c20cc8e-18d7-43f2-bc2c-4a76d38a88f8\"\n",
    "task = api.tasks.get(task_id)\n",
    "jobs = {}\n",
    "temp = {}\n",
    "for job in task.get_execution_details().jobs:\n",
    "    if job.status == \"COMPLETED\":\n",
    "        check = job.name.split('_')\n",
    "        cmd = job.command_line\n",
    "        if job.command_line == None:\n",
    "            # pdb.set_trace()\n",
    "            cmd = \"embedded script or task retry\"\n",
    "            sys.stderr.write(\"WARN: Job \" + job.name + \" had null cmd\\n\")\n",
    "        if check[-1] == \"s\":\n",
    "            key = \"_\".join(check[:-2])\n",
    "            if key not in temp:\n",
    "                jobs[job.start_time] = {}\n",
    "                jobs[job.start_time][key] = cmd\n",
    "                temp[key] = 1\n",
    "            else:\n",
    "                temp[key] += 1\n",
    "        else:\n",
    "            jobs[job.start_time] = {}\n",
    "            jobs[job.start_time][job.name] = cmd\n",
    "out_file.write(\"Step\\tType\\tNum scatter\\tCommand\\n\")\n",
    "for rtime in sorted(jobs.keys()):\n",
    "    for key in jobs[rtime]:\n",
    "        rtype = \"run step\"\n",
    "        sct = \"NA\"\n",
    "        if key in temp and temp[key] > 1:\n",
    "            rtype = \"scatter\"\n",
    "            sct = str(temp[key])\n",
    "        cmds = jobs[rtime][key].split('\\n')\n",
    "        for cmd in cmds:\n",
    "            out_file.write(key + \"\\t\" + rtype + \"\\t\" + sct + \"\\t\" + cmd + \"\\n\")\n",
    "out_file.close()\n"
   ]
  },
  {
   "cell_type": "markdown",
   "metadata": {},
   "source": [
    "## Convert tsv to markdown table"
   ]
  },
  {
   "cell_type": "code",
   "execution_count": 3,
   "metadata": {},
   "outputs": [],
   "source": [
    "import sys\n",
    "\n",
    "# max desired col width\n",
    "max_w = 200\n",
    "tsv_in = open(\"/Users/brownm28/Documents/2020-Apr-8_RNAseq_snv_dev/2020-06-16_gatk4.tsv\")\n",
    "out_md = open(\"/Users/brownm28/Documents/2020-Apr-8_RNAseq_snv_dev/2020-06-16_gatk4.md\", \"w\")\n",
    "data = []\n",
    "max_len = []\n",
    "\n",
    "\n",
    "for line in tsv_in:\n",
    "    info = line.rstrip('\\n').split('\\t')\n",
    "    data.append(info)\n",
    "    if len(max_len) == 0:\n",
    "        for item in info:\n",
    "            max_len.append(len(item))\n",
    "    else:\n",
    "        for i in range(len(max_len)):\n",
    "            if len(info[i]) > max_w:\n",
    "                max_len[i] = max_w\n",
    "            elif len(info[i]) > max_len[i]:\n",
    "                max_len[i] = len(info[i])\n",
    "# print header first\n",
    "d_ct = []\n",
    "for i in range(len(data[0])):\n",
    "    d_ct.append(len(data[0][i]))\n",
    "    out_md.write(\" | \" + data[0][i] + \"\".join([\" \"] * max_len[i]))\n",
    "    d_ct[i] += max_len[i]\n",
    "out_md.write(\" |\\n\")\n",
    "for i in range(len(data[0])):\n",
    "    out_md.write(\" | \" + \"\".join([\"-\"] * d_ct[i]))\n",
    "out_md.write(\" |\\n\")\n",
    "# pdb.set_trace()\n",
    "for i in range(1, len(data), 1):\n",
    "    for j in range(len(data[i])):\n",
    "        d_ct = len(data[i][j]) + 2\n",
    "        out_md.write(\" | \" + data[i][j] + \"\".join([\" \"] * max_len[j]))\n",
    "        d_ct += max_len[j]\n",
    "    out_md.write(\" |\\n\")\n",
    "out_md.close()"
   ]
  },
  {
   "cell_type": "markdown",
   "metadata": {},
   "source": [
    "## Get run times"
   ]
  },
  {
   "cell_type": "markdown",
   "metadata": {},
   "source": [
    "### Get run times by step"
   ]
  },
  {
   "cell_type": "code",
   "execution_count": 2,
   "metadata": {},
   "outputs": [],
   "source": [
    "def get_job_run_time(task, phrase):\n",
    "    data = []\n",
    "    if re.search(phrase, task.name):\n",
    "        try:\n",
    "            for job in task.get_execution_details().jobs:\n",
    "                if job.status != \"COMPLETED\":\n",
    "                    sys.stderr.write(\"Skipping job likely killed due to spot instance kill for \" + job.name + \" from task \" + task.id + \"\\n\")\n",
    "                else:\n",
    "                    data.append([job.name, str((job.end_time-job.start_time).seconds/3600)])\n",
    "            # pdb.set_trace()\n",
    "            hold=1\n",
    "            return task.id, task.name, str(task.price.amount), str((task.end_time - task.start_time).seconds/3600), data\n",
    "        except Exception as e:\n",
    "            return [e, task.id]\n",
    "    else:\n",
    "        return []\n"
   ]
  },
  {
   "cell_type": "code",
   "execution_count": 3,
   "metadata": {},
   "outputs": [
    {
     "name": "stderr",
     "output_type": "stream",
     "text": [
      "Skipping job likely killed due to spot instance kill for star_fusion from task 90520afe-23e8-408e-a6d1-7a4307bff6cb\n",
      "Skipping job likely killed due to spot instance kill for star_fusion from task ad4166df-eb20-4403-9e62-a434fc023946\n",
      "Skipping job likely killed due to spot instance kill for pizzly from task b75638c2-fdc0-4321-8320-b7b3b7b6940e\n",
      "Skipping job likely killed due to spot instance kill for star_fusion from task cf2e69a6-c9b8-47d3-92a6-52c41f4cbc2a\n",
      "Skipping job likely killed due to spot instance kill for star_fusion from task c011ab43-7a02-4892-981d-5f897de739ac\n",
      "Skipping job likely killed due to spot instance kill for arriba_fusion from task b6276343-2100-44c2-afc7-23a45ba141cf\n",
      "Skipping job likely killed due to spot instance kill for pizzly from task c9cff929-f971-41b1-90b0-bf0a3e40f2fb\n",
      "Skipping job likely killed due to spot instance kill for star_fusion from task 5d9f1b03-f375-4363-bfaf-304fadb3ee6f\n",
      "Skipping job likely killed due to spot instance kill for star_fusion from task 431d8247-4865-4f6b-bfe9-4c68960c99a1\n",
      "Skipping job likely killed due to spot instance kill for star_fusion from task 8f03a519-ff5b-4f9c-9b8c-d854d7c89abf\n",
      "Skipping job likely killed due to spot instance kill for rsem from task df1c7941-34ef-4b0b-8bc3-125bceebd7ed\n",
      "Skipping job likely killed due to spot instance kill for star_fusion from task 64053f63-20bf-4adf-9317-44ce93d92d9e\n",
      "Skipping job likely killed due to spot instance kill for samtools_sort from task e6923c4c-ad12-45e8-9031-78bd85a61295\n",
      "Skipping job likely killed due to spot instance kill for samtools_sort from task 04cafca8-3505-4d4e-b954-8625cd9fd206\n",
      "Skipping job likely killed due to spot instance kill for rsem from task 6b347c20-62fc-4684-9628-ef6e0dd28b7c\n",
      "Skipping job likely killed due to spot instance kill for cutadapt from task b12927ef-06d1-4051-8ba3-620bc90e6950\n",
      "Processed 0 valid tasks\n",
      "Processed 100 valid tasks\n",
      "Processed 200 valid tasks\n",
      "Processed 300 valid tasks\n",
      "Processed 400 valid tasks\n",
      "Processed 500 valid tasks\n",
      "Processed 600 valid tasks\n",
      "Processed 700 valid tasks\n",
      "Processed 800 valid tasks\n",
      "Processed 900 valid tasks\n",
      "Processed 1000 valid tasks\n"
     ]
    }
   ],
   "source": [
    "project = \"kfdrc-harmonization/sd-bhjxbdqk-06\"\n",
    "phrase = \"RNAfusion-\"\n",
    "\n",
    "tasks = api.tasks.query(project=project, status=\"COMPLETED\").all()\n",
    "actual_out = open(\"/Users/brownm28/Documents/2020-Apr-8_RNAseq_snv_dev/cost_est/actual_cost.txt\", \"w\")\n",
    "actual_out.write(\"Task name\\tTask ID\\tCost\\tRun Time in hours\\n\")\n",
    "step_run = open(\"/Users/brownm28/Documents/2020-Apr-8_RNAseq_snv_dev/cost_est/step_run_times.txt\", \"w\")\n",
    "step_run.write(\"Run step\\tRun time in hours\\n\")\n",
    "# for task in tasks:\n",
    "#     result = get_job_run_time(task, phrase)\n",
    "#     if len(result) > 0:\n",
    "#         pdb.set_trace()\n",
    "#         actual_out.write(\"\\t\".join(result[0:4]) + \"\\n\")\n",
    "#         for step in result[4]:\n",
    "#             step_run.write(\"\\t\".join(step) + \"\\n\")\n",
    "x = 0\n",
    "m = 100\n",
    "with concurrent.futures.ThreadPoolExecutor(16) as executor:\n",
    "    results = {executor.submit(get_job_run_time, task, phrase): task for task in tasks}\n",
    "    for result in concurrent.futures.as_completed(results):\n",
    "        if len(result.result()) > 2:\n",
    "            if x % m == 0:\n",
    "                sys.stderr.write(\"Processed \" + str(x) + \" valid tasks\\n\")\n",
    "            actual_out.write(\"\\t\".join(result.result()[0:4]) + \"\\n\")\n",
    "            for step in result.result()[4]:\n",
    "                step_run.write(\"\\t\".join(step) + \"\\n\")\n",
    "            x += 1\n",
    "        elif len(result.result()) == 2:\n",
    "            sys.stderr.write(str(result.result()[0]) + \"\\tFailed processing task ID \" + result.result()[1] + \"\\n\")\n",
    "            exit(1)\n",
    "actual_out.close()\n",
    "step_run.close()\n"
   ]
  },
  {
   "cell_type": "markdown",
   "metadata": {},
   "source": [
    "## Tag source files"
   ]
  },
  {
   "cell_type": "code",
   "execution_count": 7,
   "metadata": {},
   "outputs": [],
   "source": [
    "def tag_file(info, header):\n",
    "    try:\n",
    "        meta = info.rstrip('\\n').split('\\t')\n",
    "        f_obj = api.files.get(meta[0])\n",
    "        metadata = {}\n",
    "        for i in range(3, len(header), 1):\n",
    "            metadata[header[i]] = meta[i]\n",
    "        f_obj.metadata = metadata\n",
    "        f_obj.save()\n",
    "    except Exception as e:\n",
    "        sys.stderr.write(str(e) + \"\\n\")\n",
    "        sys.stderr.write(\"Could not process \" + info)\n",
    "        exit(1)"
   ]
  },
  {
   "cell_type": "code",
   "execution_count": 8,
   "metadata": {},
   "outputs": [
    {
     "name": "stderr",
     "output_type": "stream",
     "text": [
      "No relevant changes were detected in order to update the resource on the server.\n",
      "No relevant changes were detected in order to update the resource on the server.\n",
      "Could not process 5eebb671e4b0a6d31133e684\tCOVWC-20200312-P2-E02-P.all-reads_Aligned.sortedByCoord.out.bam\td3b-bixu/rs-vpf5jbc3-cov-irt-controlled-access-study\tCOVWC-20200312-P2-E02-P\tPositive\n",
      "No relevant changes were detected in order to update the resource on the server.\n",
      "Could not process 5eebb672e4b0a6d31133e6a7\tCOVWC-20200312-P2-E02-P.all-reads_ReadsPerGene.out.tab\td3b-bixu/rs-vpf5jbc3-cov-irt-controlled-access-study\tCOVWC-20200312-P2-E02-P\tPositive\n",
      "No relevant changes were detected in order to update the resource on the server.\n",
      "Could not process 5eebb672e4b0a6d31133e693\tCOVWC-20200312-P2-E02-P.all-reads_Chimeric.out.junction\td3b-bixu/rs-vpf5jbc3-cov-irt-controlled-access-study\tCOVWC-20200312-P2-E02-P\tPositive\n",
      "No relevant changes were detected in order to update the resource on the server.\n",
      "Could not process 5eebb673e4b0a6d31133e6e2\tCOVWC-20200313-P4-C01-P.all-reads_Log.final.out\td3b-bixu/rs-vpf5jbc3-cov-irt-controlled-access-study\tCOVWC-20200313-P4-C01-P\tPositive\n",
      "Could not process 5eebb672e4b0a6d31133e6a2\tCOVWC-20200312-P2-E02-P.all-reads_Log.progress.out\td3b-bixu/rs-vpf5jbc3-cov-irt-controlled-access-study\tCOVWC-20200312-P2-E02-P\tPositive\n",
      "No relevant changes were detected in order to update the resource on the server.\n",
      "Could not process 5eebb673e4b0a6d31133e6d3\tCOVWC-20200313-P4-C01-P.all-reads_Aligned.sortedByCoord.out.bam.bai\td3b-bixu/rs-vpf5jbc3-cov-irt-controlled-access-study\tCOVWC-20200313-P4-C01-P\tPositive\n",
      "No relevant changes were detected in order to update the resource on the server.\n",
      "Could not process 5eebb672e4b0a6d31133e698\tCOVWC-20200312-P2-E02-P.all-reads_Log.final.out\td3b-bixu/rs-vpf5jbc3-cov-irt-controlled-access-study\tCOVWC-20200312-P2-E02-P\tPositive\n",
      "No relevant changes were detected in order to update the resource on the server.\n",
      "No relevant changes were detected in order to update the resource on the server.\n",
      "Could not process 5eebb672e4b0a6d31133e69d\tCOVWC-20200312-P2-E02-P.all-reads_Log.out\td3b-bixu/rs-vpf5jbc3-cov-irt-controlled-access-study\tCOVWC-20200312-P2-E02-P\tPositive\n",
      "No relevant changes were detected in order to update the resource on the server.\n",
      "Could not process 5eebb671e4b0a6d31133e689\tCOVWC-20200312-P2-E02-P.all-reads_Aligned.sortedByCoord.out.bam.bai\td3b-bixu/rs-vpf5jbc3-cov-irt-controlled-access-study\tCOVWC-20200312-P2-E02-P\tPositive\n",
      "Could not process 5eebb673e4b0a6d31133e6e7\tCOVWC-20200313-P4-C01-P.all-reads_Log.out\td3b-bixu/rs-vpf5jbc3-cov-irt-controlled-access-study\tCOVWC-20200313-P4-C01-P\tPositive\n",
      "No relevant changes were detected in order to update the resource on the server.\n",
      "Could not process 5eebb674e4b0a6d31133e6f6\tCOVWC-20200313-P4-C01-P.all-reads_SJ.out.tab\td3b-bixu/rs-vpf5jbc3-cov-irt-controlled-access-study\tCOVWC-20200313-P4-C01-P\tPositive\n",
      "No relevant changes were detected in order to update the resource on the server.\n",
      "Could not process 5eebb674e4b0a6d31133e6f1\tCOVWC-20200313-P4-C01-P.all-reads_ReadsPerGene.out.tab\td3b-bixu/rs-vpf5jbc3-cov-irt-controlled-access-study\tCOVWC-20200313-P4-C01-P\tPositive\n",
      "No relevant changes were detected in order to update the resource on the server.\n",
      "Could not process 5eebb673e4b0a6d31133e6dd\tCOVWC-20200313-P4-C01-P.all-reads_Chimeric.out.junction\td3b-bixu/rs-vpf5jbc3-cov-irt-controlled-access-study\tCOVWC-20200313-P4-C01-P\tPositive\n",
      "No relevant changes were detected in order to update the resource on the server.\n",
      "No relevant changes were detected in order to update the resource on the server.\n",
      "Could not process 5eebb673e4b0a6d31133e6d8\tCOVWC-20200313-P4-C01-P.all-reads_Aligned.toTranscriptome.out.bam\td3b-bixu/rs-vpf5jbc3-cov-irt-controlled-access-study\tCOVWC-20200313-P4-C01-P\tPositive\n",
      "Could not process 5eebb674e4b0a6d31133e6ec\tCOVWC-20200313-P4-C01-P.all-reads_Log.progress.out\td3b-bixu/rs-vpf5jbc3-cov-irt-controlled-access-study\tCOVWC-20200313-P4-C01-P\tPositive\n",
      "No relevant changes were detected in order to update the resource on the server.\n",
      "Could not process 5eebb673e4b0a6d31133e6ce\tCOVWC-20200313-P4-C01-P.all-reads_Aligned.sortedByCoord.out.bam\td3b-bixu/rs-vpf5jbc3-cov-irt-controlled-access-study\tCOVWC-20200313-P4-C01-P\tPositive\n",
      "No relevant changes were detected in order to update the resource on the server.\n",
      "Could not process 5eebb672e4b0a6d31133e6ac\tCOVWC-20200312-P2-E02-P.all-reads_SJ.out.tab\td3b-bixu/rs-vpf5jbc3-cov-irt-controlled-access-study\tCOVWC-20200312-P2-E02-P\tPositive\n",
      "No relevant changes were detected in order to update the resource on the server.\n",
      "No relevant changes were detected in order to update the resource on the server.\n",
      "Could not process 5eebb676e4b0a6d31133e740\tCOVWC-20200313-P4-D01-P.all-reads_SJ.out.tab\td3b-bixu/rs-vpf5jbc3-cov-irt-controlled-access-study\tCOVWC-20200313-P4-D01-P\tPositive\n",
      "No relevant changes were detected in order to update the resource on the server.\n",
      "Could not process 5eebb671e4b0a6d31133e68e\tCOVWC-20200312-P2-E02-P.all-reads_Aligned.toTranscriptome.out.bam\td3b-bixu/rs-vpf5jbc3-cov-irt-controlled-access-study\tCOVWC-20200312-P2-E02-P\tPositive\n",
      "No relevant changes were detected in order to update the resource on the server.\n",
      "Could not process 5eebb676e4b0a6d31133e72c\tCOVWC-20200313-P4-D01-P.all-reads_Log.final.out\td3b-bixu/rs-vpf5jbc3-cov-irt-controlled-access-study\tCOVWC-20200313-P4-D01-P\tPositive\n",
      "Could not process 5eebb675e4b0a6d31133e722\tCOVWC-20200313-P4-D01-P.all-reads_Aligned.toTranscriptome.out.bam\td3b-bixu/rs-vpf5jbc3-cov-irt-controlled-access-study\tCOVWC-20200313-P4-D01-P\tPositive\n",
      "No relevant changes were detected in order to update the resource on the server.\n",
      "Could not process 5eebb677e4b0a6d31133e762\tCOVWC-20200313-P4-F01-N.all-reads_Aligned.sortedByCoord.out.bam\td3b-bixu/rs-vpf5jbc3-cov-irt-controlled-access-study\tCOVWC-20200313-P4-F01-N\tNegative\n",
      "No relevant changes were detected in order to update the resource on the server.\n",
      "No relevant changes were detected in order to update the resource on the server.\n",
      "No relevant changes were detected in order to update the resource on the server.\n",
      "Could not process 5eebb678e4b0a6d31133e771\tCOVWC-20200313-P4-F01-N.all-reads_Chimeric.out.junction\td3b-bixu/rs-vpf5jbc3-cov-irt-controlled-access-study\tCOVWC-20200313-P4-F01-N\tNegative\n",
      "No relevant changes were detected in order to update the resource on the server.\n",
      "No relevant changes were detected in order to update the resource on the server.\n",
      "Could not process 5eebb678e4b0a6d31133e77b\tCOVWC-20200313-P4-F01-N.all-reads_Log.out\td3b-bixu/rs-vpf5jbc3-cov-irt-controlled-access-study\tCOVWC-20200313-P4-F01-N\tNegative\n",
      "Could not process 5eebb678e4b0a6d31133e776\tCOVWC-20200313-P4-F01-N.all-reads_Log.final.out\td3b-bixu/rs-vpf5jbc3-cov-irt-controlled-access-study\tCOVWC-20200313-P4-F01-N\tNegative\n",
      "Could not process 5eebb677e4b0a6d31133e76c\tCOVWC-20200313-P4-F01-N.all-reads_Aligned.toTranscriptome.out.bam\td3b-bixu/rs-vpf5jbc3-cov-irt-controlled-access-study\tCOVWC-20200313-P4-F01-N\tNegative\n",
      "Could not process 5eebb677e4b0a6d31133e767\tCOVWC-20200313-P4-F01-N.all-reads_Aligned.sortedByCoord.out.bam.bai\td3b-bixu/rs-vpf5jbc3-cov-irt-controlled-access-study\tCOVWC-20200313-P4-F01-N\tNegative\n",
      "No relevant changes were detected in order to update the resource on the server.\n",
      "No relevant changes were detected in order to update the resource on the server.\n",
      "Could not process 5eebb676e4b0a6d31133e731\tCOVWC-20200313-P4-D01-P.all-reads_Log.out\td3b-bixu/rs-vpf5jbc3-cov-irt-controlled-access-study\tCOVWC-20200313-P4-D01-P\tPositive\n",
      "Could not process 5eebb675e4b0a6d31133e718\tCOVWC-20200313-P4-D01-P.all-reads_Aligned.sortedByCoord.out.bam\td3b-bixu/rs-vpf5jbc3-cov-irt-controlled-access-study\tCOVWC-20200313-P4-D01-P\tPositive\n",
      "No relevant changes were detected in order to update the resource on the server.\n",
      "Could not process 5eebb678e4b0a6d31133e78a\tCOVWC-20200313-P4-F01-N.all-reads_SJ.out.tab\td3b-bixu/rs-vpf5jbc3-cov-irt-controlled-access-study\tCOVWC-20200313-P4-F01-N\tNegative\n",
      "No relevant changes were detected in order to update the resource on the server.\n",
      "Could not process 5eebb67ae4b0a6d31133e7c7\tCOVWC-20200313-P4-G01-N.all-reads_Log.out\td3b-bixu/rs-vpf5jbc3-cov-irt-controlled-access-study\tCOVWC-20200313-P4-G01-N\tNegative\n",
      "No relevant changes were detected in order to update the resource on the server.\n",
      "Could not process 5eebb679e4b0a6d31133e7ae\tCOVWC-20200313-P4-G01-N.all-reads_Aligned.sortedByCoord.out.bam\td3b-bixu/rs-vpf5jbc3-cov-irt-controlled-access-study\tCOVWC-20200313-P4-G01-N\tNegative\n",
      "No relevant changes were detected in order to update the resource on the server.\n",
      "Could not process 5eebb679e4b0a6d31133e7bd\tCOVWC-20200313-P4-G01-N.all-reads_Chimeric.out.junction\td3b-bixu/rs-vpf5jbc3-cov-irt-controlled-access-study\tCOVWC-20200313-P4-G01-N\tNegative\n",
      "No relevant changes were detected in order to update the resource on the server.\n",
      "Could not process 5eebb67ae4b0a6d31133e7c2\tCOVWC-20200313-P4-G01-N.all-reads_Log.final.out\td3b-bixu/rs-vpf5jbc3-cov-irt-controlled-access-study\tCOVWC-20200313-P4-G01-N\tNegative\n",
      "No relevant changes were detected in order to update the resource on the server.\n",
      "Could not process 5eebb67ae4b0a6d31133e7cc\tCOVWC-20200313-P4-G01-N.all-reads_Log.progress.out\td3b-bixu/rs-vpf5jbc3-cov-irt-controlled-access-study\tCOVWC-20200313-P4-G01-N\tNegative\n",
      "No relevant changes were detected in order to update the resource on the server.\n",
      "No relevant changes were detected in order to update the resource on the server.\n",
      "No relevant changes were detected in order to update the resource on the server.\n",
      "Could not process 5eebb676e4b0a6d31133e727\tCOVWC-20200313-P4-D01-P.all-reads_Chimeric.out.junction\td3b-bixu/rs-vpf5jbc3-cov-irt-controlled-access-study\tCOVWC-20200313-P4-D01-P\tPositive\n",
      "No relevant changes were detected in order to update the resource on the server.\n",
      "No relevant changes were detected in order to update the resource on the server.\n",
      "Could not process 5eebb679e4b0a6d31133e7b8\tCOVWC-20200313-P4-G01-N.all-reads_Aligned.toTranscriptome.out.bam\td3b-bixu/rs-vpf5jbc3-cov-irt-controlled-access-study\tCOVWC-20200313-P4-G01-N\tNegative\n",
      "Could not process 5eebb679e4b0a6d31133e7b3\tCOVWC-20200313-P4-G01-N.all-reads_Aligned.sortedByCoord.out.bam.bai\td3b-bixu/rs-vpf5jbc3-cov-irt-controlled-access-study\tCOVWC-20200313-P4-G01-N\tNegative\n",
      "Could not process 5eebb676e4b0a6d31133e736\tCOVWC-20200313-P4-D01-P.all-reads_Log.progress.out\td3b-bixu/rs-vpf5jbc3-cov-irt-controlled-access-study\tCOVWC-20200313-P4-D01-P\tPositive\n",
      "Could not process 5eebb678e4b0a6d31133e780\tCOVWC-20200313-P4-F01-N.all-reads_Log.progress.out\td3b-bixu/rs-vpf5jbc3-cov-irt-controlled-access-study\tCOVWC-20200313-P4-F01-N\tNegative\n",
      "No relevant changes were detected in order to update the resource on the server.\n",
      "No relevant changes were detected in order to update the resource on the server.\n",
      "Could not process 5eebb678e4b0a6d31133e785\tCOVWC-20200313-P4-F01-N.all-reads_ReadsPerGene.out.tab\td3b-bixu/rs-vpf5jbc3-cov-irt-controlled-access-study\tCOVWC-20200313-P4-F01-N\tNegative\n",
      "Could not process 5eebb676e4b0a6d31133e73b\tCOVWC-20200313-P4-D01-P.all-reads_ReadsPerGene.out.tab\td3b-bixu/rs-vpf5jbc3-cov-irt-controlled-access-study\tCOVWC-20200313-P4-D01-P\tPositive\n",
      "No relevant changes were detected in order to update the resource on the server.\n",
      "Could not process 5eebb675e4b0a6d31133e71d\tCOVWC-20200313-P4-D01-P.all-reads_Aligned.sortedByCoord.out.bam.bai\td3b-bixu/rs-vpf5jbc3-cov-irt-controlled-access-study\tCOVWC-20200313-P4-D01-P\tPositive\n",
      "No relevant changes were detected in order to update the resource on the server.\n",
      "Could not process 5eebb67ae4b0a6d31133e7d6\tCOVWC-20200313-P4-G01-N.all-reads_SJ.out.tab\td3b-bixu/rs-vpf5jbc3-cov-irt-controlled-access-study\tCOVWC-20200313-P4-G01-N\tNegative\n",
      "No relevant changes were detected in order to update the resource on the server.\n",
      "Could not process 5eebb67ce4b0a6d31133e80c\tCOVWC-20200313-P4-H01-N.all-reads_Log.final.out\td3b-bixu/rs-vpf5jbc3-cov-irt-controlled-access-study\tCOVWC-20200313-P4-H01-N\tNegative\n",
      "No relevant changes were detected in order to update the resource on the server.\n",
      "Could not process 5eebb67ce4b0a6d31133e816\tCOVWC-20200313-P4-H01-N.all-reads_Log.progress.out\td3b-bixu/rs-vpf5jbc3-cov-irt-controlled-access-study\tCOVWC-20200313-P4-H01-N\tNegative\n",
      "No relevant changes were detected in order to update the resource on the server.\n",
      "No relevant changes were detected in order to update the resource on the server.\n",
      "Could not process 5eebb67be4b0a6d31133e802\tCOVWC-20200313-P4-H01-N.all-reads_Aligned.toTranscriptome.out.bam\td3b-bixu/rs-vpf5jbc3-cov-irt-controlled-access-study\tCOVWC-20200313-P4-H01-N\tNegative\n",
      "Could not process 5eebb67be4b0a6d31133e7fd\tCOVWC-20200313-P4-H01-N.all-reads_Aligned.sortedByCoord.out.bam.bai\td3b-bixu/rs-vpf5jbc3-cov-irt-controlled-access-study\tCOVWC-20200313-P4-H01-N\tNegative\n",
      "No relevant changes were detected in order to update the resource on the server.\n",
      "Could not process 5eebb67ce4b0a6d31133e81b\tCOVWC-20200313-P4-H01-N.all-reads_ReadsPerGene.out.tab\td3b-bixu/rs-vpf5jbc3-cov-irt-controlled-access-study\tCOVWC-20200313-P4-H01-N\tNegative\n",
      "No relevant changes were detected in order to update the resource on the server.\n",
      "Could not process 5eebb67ce4b0a6d31133e820\tCOVWC-20200313-P4-H01-N.all-reads_SJ.out.tab\td3b-bixu/rs-vpf5jbc3-cov-irt-controlled-access-study\tCOVWC-20200313-P4-H01-N\tNegative\n",
      "No relevant changes were detected in order to update the resource on the server.\n",
      "Could not process 5eebb67ce4b0a6d31133e807\tCOVWC-20200313-P4-H01-N.all-reads_Chimeric.out.junction\td3b-bixu/rs-vpf5jbc3-cov-irt-controlled-access-study\tCOVWC-20200313-P4-H01-N\tNegative\n",
      "No relevant changes were detected in order to update the resource on the server.\n",
      "No relevant changes were detected in order to update the resource on the server.\n",
      "Could not process 5eebb67ce4b0a6d31133e811\tCOVWC-20200313-P4-H01-N.all-reads_Log.out\td3b-bixu/rs-vpf5jbc3-cov-irt-controlled-access-study\tCOVWC-20200313-P4-H01-N\tNegative\n",
      "Could not process 5eebb67be4b0a6d31133e7f8\tCOVWC-20200313-P4-H01-N.all-reads_Aligned.sortedByCoord.out.bam\td3b-bixu/rs-vpf5jbc3-cov-irt-controlled-access-study\tCOVWC-20200313-P4-H01-N\tNegative\n"
     ]
    },
    {
     "name": "stderr",
     "output_type": "stream",
     "text": [
      "No relevant changes were detected in order to update the resource on the server.\n",
      "Could not process 5eebb67ae4b0a6d31133e7d1\tCOVWC-20200313-P4-G01-N.all-reads_ReadsPerGene.out.tab\td3b-bixu/rs-vpf5jbc3-cov-irt-controlled-access-study\tCOVWC-20200313-P4-G01-N\tNegative\n"
     ]
    }
   ],
   "source": [
    "project = \"d3b-bixu/rs-vpf5jbc3-cov-irt-controlled-access-study\"\n",
    "manifest = open(\"/Users/brownm28/Documents/2020-Apr-8_RNAseq_snv_dev/manifests/covwc_to_tag.txt\")\n",
    "head = next(manifest)\n",
    "header = head.rstrip(\"\\n\").split(\"\\t\")\n",
    "x = 1\n",
    "m = 250\n",
    "with concurrent.futures.ThreadPoolExecutor(16) as executor:\n",
    "    results = {executor.submit(tag_file, line, header): line for line in manifest}\n",
    "    for result in concurrent.futures.as_completed(results):\n",
    "        if x % m == 0:\n",
    "            sys.stderr.write('Processed ' + str(x) + ' files\\n')\n",
    "            sys.stderr.flush()\n"
   ]
  },
  {
   "cell_type": "markdown",
   "metadata": {},
   "source": [
    "## Set up GATK4 RNAseq WF Tasks"
   ]
  },
  {
   "cell_type": "code",
   "execution_count": 12,
   "metadata": {},
   "outputs": [],
   "source": [
    "def get_gatk_refs(api, project):\n",
    "    try:\n",
    "        ref_dict = {}\n",
    "        ref_dict['reference_fasta'] = api.files.get('5eebc5d1e4b0a6d311357eb9')\n",
    "        ref_dict['reference_dict'] = api.files.get('5eecb14ae4b0efd899f474da')\n",
    "        known_sites = []\n",
    "        known_sites.append(api.files.get('5eecd8c3e4b0efd899f4ae44'))\n",
    "        known_sites.append(api.files.get('5eecd846e4b0efd899f4ae27'))\n",
    "        known_sites.append(api.files.get('5eecd846e4b0efd899f4ae26'))\n",
    "        known_sites.append(api.files.get('5eecd846e4b0efd899f4ae21'))\n",
    "        ref_dict['knownsites'] = known_sites\n",
    "        ref_dict['call_bed_file'] = api.files.get('5eebdeece4b0efd899f43eaa')\n",
    "        ref_dict['dbsnp_vcf'] = api.files.get('5eecd846e4b0efd899f4ae24')\n",
    "        ref_dict['tool_name'] = 'STAR_GATK4'\n",
    "    except Exception as e:\n",
    "        sys.stderr.write(str(e) + \"\\nFailed to get REFS\\n\")\n",
    "        exit(1)\n",
    "    return ref_dict"
   ]
  },
  {
   "cell_type": "code",
   "execution_count": 13,
   "metadata": {},
   "outputs": [],
   "source": [
    "def draft_task(in_file):\n",
    "    try:\n",
    "        input_dict = {}\n",
    "        for key in ref_obj:\n",
    "            input_dict[key] = ref_obj[key]\n",
    "        info = in_file.rstrip('\\n').split('\\t')\n",
    "        input_dict['STAR_sorted_genomic_bam'] = api.files.get(info[0])\n",
    "        task_name = \"GATK RNAseq SNV: \" + info[3]\n",
    "        task = api.tasks.create(name=task_name, project=project, app=app_name, inputs=input_dict, run=False)\n",
    "        task.inputs['output_basename'] = task.id\n",
    "        task.save()\n",
    "    except Exception as e:\n",
    "        sys.stderr.write(str(e) + \"\\nfailed to set up task for \" + in_file)\n",
    "        exit(1)"
   ]
  },
  {
   "cell_type": "code",
   "execution_count": 15,
   "metadata": {},
   "outputs": [],
   "source": [
    "project = 'd3b-bixu/rs-vpf5jbc3-cov-irt-controlled-access-study'\n",
    "app_name = project + \"/d3b-gatk-rnaseq-snv-wf\"\n",
    "manifest = open(\"/Users/brownm28/Documents/2020-Apr-8_RNAseq_snv_dev/manifests/bams_for_gatk_to_run.tsv\")\n",
    "head = next(manifest)\n",
    "ref_obj = get_gatk_refs(api, project)\n",
    "x = 1\n",
    "m = 250\n",
    "with concurrent.futures.ThreadPoolExecutor(16) as executor:\n",
    "    results = {executor.submit(draft_task, line ): line for line in manifest}\n",
    "    for result in concurrent.futures.as_completed(results):\n",
    "        if x % m == 0:\n",
    "            sys.stderr.write('Processed ' + str(x) + ' tasks\\n')\n",
    "            sys.stderr.flush()\n"
   ]
  },
  {
   "cell_type": "markdown",
   "metadata": {},
   "source": [
    "## Run VEP"
   ]
  },
  {
   "cell_type": "code",
   "execution_count": 12,
   "metadata": {},
   "outputs": [],
   "source": [
    "def get_vep_refs(api, project):\n",
    "    try:\n",
    "        ref_dict = {}\n",
    "        ref_dict['reference'] = api.files.get('5eebc5d1e4b0a6d311357eb9')\n",
    "        ref_dict['cache'] = api.files.get('5eed0f54e4b0efd899f4afda')\n",
    "        ref_dict['merged_cache'] = True\n",
    "        ref_dict['tool_name'] = 'STAR_GATK4'\n",
    "    except Exception as e:\n",
    "        sys.stderr.write(str(e) + \"\\nFailed to get REFS\\n\")\n",
    "        exit(1)\n",
    "    return ref_dict"
   ]
  },
  {
   "cell_type": "code",
   "execution_count": 13,
   "metadata": {},
   "outputs": [],
   "source": [
    "def draft_vep_task(in_file):\n",
    "    try:\n",
    "        input_dict = {}\n",
    "        for key in ref_obj:\n",
    "            input_dict[key] = ref_obj[key]\n",
    "        info = in_file.rstrip('\\n').split(',')\n",
    "        input_dict['input_vcf'] = api.files.get(info[0])\n",
    "        task_name = \"VEP R100 ANNOTATE: \" + info[3]\n",
    "        task = api.tasks.create(name=task_name, project=project, app=app_name, inputs=input_dict, run=False)\n",
    "        task.inputs['output_basename'] = task.id\n",
    "        task.save()\n",
    "    except Exception as e:\n",
    "        sys.stderr.write(str(e) + \"\\nfailed to set up task for \" + in_file)\n",
    "        exit(1)"
   ]
  },
  {
   "cell_type": "code",
   "execution_count": 15,
   "metadata": {},
   "outputs": [],
   "source": [
    "project = 'd3b-bixu/rs-vpf5jbc3-cov-irt-controlled-access-study'\n",
    "app_name = project + \"/vep-1oo-annotate\"\n",
    "manifest = open(\"/Users/brownm28/Documents/2020-Apr-8_RNAseq_snv_dev/manifests/vcf_to_annotate-manifest.csv\")\n",
    "head = next(manifest)\n",
    "ref_obj = get_vep_refs(api, project)\n",
    "x = 1\n",
    "m = 250\n",
    "with concurrent.futures.ThreadPoolExecutor(16) as executor:\n",
    "    results = {executor.submit(draft_vep_task, line ): line for line in manifest}\n",
    "    for result in concurrent.futures.as_completed(results):\n",
    "        if x % m == 0:\n",
    "            sys.stderr.write('Processed ' + str(x) + ' tasks\\n')\n",
    "            sys.stderr.flush()\n"
   ]
  },
  {
   "cell_type": "markdown",
   "metadata": {},
   "source": [
    "## Copy metadata to outputs"
   ]
  },
  {
   "cell_type": "code",
   "execution_count": 2,
   "metadata": {},
   "outputs": [],
   "source": [
    "def add_metadata_to_outputs(task, phrase, in_key):\n",
    "    if re.search(phrase, task.name):\n",
    "        sys.stderr.write('Valid task found ' + task.name + '\\n')\n",
    "        metadata = task.inputs[in_key].metadata\n",
    "        for out_key in task.outputs:\n",
    "            # pdb.set_trace()\n",
    "            try:\n",
    "                if type(task.outputs[out_key]) is not list:\n",
    "                    file_obj = api.files.get(task.outputs[out_key].id)\n",
    "                    for key in metadata:\n",
    "                        file_obj.metadata[key] = metadata[key]\n",
    "                    file_obj.save()\n",
    "                else:\n",
    "                    for output in task.outputs[out_key]:\n",
    "                        if type(output) is not list:\n",
    "                            file_obj = api.files.get(output.id)\n",
    "                            for key in metadata:\n",
    "                                file_obj.metadata[key] = metadata[key]\n",
    "                            file_obj.save()\n",
    "                        else:\n",
    "                            for item in output:\n",
    "                                if item is not None:\n",
    "                                    file_obj = api.files.get(item.id)\n",
    "                                    for key in metadata:\n",
    "                                        file_obj.metadata[key] = metadata[key]\n",
    "                                    file_obj.save()\n",
    "\n",
    "            except Exception as e:\n",
    "                print(e)\n",
    "                print(\"Skipping \" + out_key + \" for \" + task.name + \" due to error\")"
   ]
  },
  {
   "cell_type": "code",
   "execution_count": 16,
   "metadata": {},
   "outputs": [
    {
     "name": "stdout",
     "output_type": "stream",
     "text": [
      "You sure tag outputs with task prefix: VEP R100 ANNOTATE? Type \"YASS\" if so\n",
      "YASS\n"
     ]
    },
    {
     "name": "stderr",
     "output_type": "stream",
     "text": [
      "Valid task found VEP R100 ANNOTATE: COVHA-20200311-P1-A01-CP\n"
     ]
    },
    {
     "name": "stdout",
     "output_type": "stream",
     "text": [
      "No relevant changes were detected in order to update the resource on the server.\n",
      "Skipping output_txt for VEP R100 ANNOTATE: COVHA-20200311-P1-A01-CP due to error\n",
      "No relevant changes were detected in order to update the resource on the server.\n",
      "Skipping output_vcf for VEP R100 ANNOTATE: COVHA-20200311-P1-A01-CP due to error\n",
      "No relevant changes were detected in order to update the resource on the server.\n",
      "Skipping warn_txt for VEP R100 ANNOTATE: COVHA-20200311-P1-A01-CP due to error\n"
     ]
    },
    {
     "name": "stderr",
     "output_type": "stream",
     "text": [
      "Valid task found VEP R100 ANNOTATE: COVHA-20200312-P3-F07-N\n",
      "Valid task found VEP R100 ANNOTATE: COVHA-20200312-P2-D02-P\n"
     ]
    },
    {
     "name": "stdout",
     "output_type": "stream",
     "text": [
      "'NoneType' object has no attribute 'id'\n",
      "Skipping warn_txt for VEP R100 ANNOTATE: COVHA-20200312-P3-F07-N due to error\n"
     ]
    },
    {
     "name": "stderr",
     "output_type": "stream",
     "text": [
      "Valid task found VEP R100 ANNOTATE: COVHA-20200312-P3-D04-P\n",
      "Valid task found VEP R100 ANNOTATE: COVHA-20200314-P7-A05-N\n"
     ]
    },
    {
     "name": "stdout",
     "output_type": "stream",
     "text": [
      "'NoneType' object has no attribute 'id'\n",
      "Skipping warn_txt for VEP R100 ANNOTATE: COVHA-20200312-P3-D04-P due to error\n",
      "'NoneType' object has no attribute 'id'\n",
      "Skipping warn_txt for VEP R100 ANNOTATE: COVHA-20200314-P7-A05-N due to error\n"
     ]
    },
    {
     "name": "stderr",
     "output_type": "stream",
     "text": [
      "Valid task found VEP R100 ANNOTATE: COVHA-20200312-P3-H01-N\n",
      "Valid task found VEP R100 ANNOTATE: COVHA-20200311-P1-B04-N\n"
     ]
    },
    {
     "name": "stdout",
     "output_type": "stream",
     "text": [
      "'NoneType' object has no attribute 'id'\n",
      "Skipping warn_txt for VEP R100 ANNOTATE: COVHA-20200312-P3-H01-N due to error\n",
      "'NoneType' object has no attribute 'id'\n",
      "Skipping warn_txt for VEP R100 ANNOTATE: COVHA-20200311-P1-B04-N due to error\n"
     ]
    },
    {
     "name": "stderr",
     "output_type": "stream",
     "text": [
      "Valid task found VEP R100 ANNOTATE: COVHA-20200311-P1-G07-N\n",
      "Valid task found VEP R100 ANNOTATE: COVHA-20200311-P1-D04-N\n"
     ]
    },
    {
     "name": "stdout",
     "output_type": "stream",
     "text": [
      "'NoneType' object has no attribute 'id'\n",
      "Skipping warn_txt for VEP R100 ANNOTATE: COVHA-20200311-P1-G07-N due to error\n",
      "'NoneType' object has no attribute 'id'\n",
      "Skipping warn_txt for VEP R100 ANNOTATE: COVHA-20200311-P1-D04-N due to error\n"
     ]
    },
    {
     "name": "stderr",
     "output_type": "stream",
     "text": [
      "Valid task found VEP R100 ANNOTATE: COVHA-20200312-P3-B02-N\n",
      "Valid task found VEP R100 ANNOTATE: COVHA-20200313-P5-D05-N\n"
     ]
    },
    {
     "name": "stdout",
     "output_type": "stream",
     "text": [
      "'NoneType' object has no attribute 'id'\n",
      "Skipping warn_txt for VEP R100 ANNOTATE: COVHA-20200312-P3-B02-N due to error\n",
      "'NoneType' object has no attribute 'id'\n",
      "Skipping warn_txt for VEP R100 ANNOTATE: COVHA-20200313-P5-D05-N due to error\n"
     ]
    },
    {
     "name": "stderr",
     "output_type": "stream",
     "text": [
      "Valid task found VEP R100 ANNOTATE: COVHA-20200311-P1-A04-CN\n",
      "Valid task found VEP R100 ANNOTATE: COVHA-20200314-P6-B02-P\n"
     ]
    },
    {
     "name": "stdout",
     "output_type": "stream",
     "text": [
      "'NoneType' object has no attribute 'id'\n",
      "Skipping warn_txt for VEP R100 ANNOTATE: COVHA-20200311-P1-A04-CN due to error\n"
     ]
    },
    {
     "name": "stderr",
     "output_type": "stream",
     "text": [
      "Valid task found VEP R100 ANNOTATE: COVHA-20200314-P7-B07-P\n",
      "Valid task found VEP R100 ANNOTATE: COVHA-20200312-P2-H02-N\n",
      "Valid task found VEP R100 ANNOTATE: COVHA-20200311-P1-E05-N\n"
     ]
    },
    {
     "name": "stdout",
     "output_type": "stream",
     "text": [
      "'NoneType' object has no attribute 'id'\n",
      "Skipping warn_txt for VEP R100 ANNOTATE: COVHA-20200312-P2-H02-N due to error\n",
      "'NoneType' object has no attribute 'id'\n",
      "Skipping warn_txt for VEP R100 ANNOTATE: COVHA-20200311-P1-E05-N due to error\n"
     ]
    },
    {
     "name": "stderr",
     "output_type": "stream",
     "text": [
      "Valid task found VEP R100 ANNOTATE: COVHA-20200313-P4-D05-N\n"
     ]
    },
    {
     "name": "stdout",
     "output_type": "stream",
     "text": [
      "'NoneType' object has no attribute 'id'\n",
      "Skipping warn_txt for VEP R100 ANNOTATE: COVHA-20200313-P4-D05-N due to error\n"
     ]
    },
    {
     "name": "stderr",
     "output_type": "stream",
     "text": [
      "Valid task found VEP R100 ANNOTATE: COVHA-20200311-P1-F08-N\n",
      "Valid task found VEP R100 ANNOTATE: COVHA-20200314-P6-A06-N\n"
     ]
    },
    {
     "name": "stdout",
     "output_type": "stream",
     "text": [
      "'NoneType' object has no attribute 'id'\n",
      "Skipping warn_txt for VEP R100 ANNOTATE: COVHA-20200311-P1-F08-N due to error\n",
      "'NoneType' object has no attribute 'id'\n",
      "Skipping warn_txt for VEP R100 ANNOTATE: COVHA-20200314-P6-A06-N due to error\n",
      "'NoneType' object has no attribute 'id'\n",
      "Skipping warn_txt for VEP R100 ANNOTATE: COVHA-20200312-P3-E01-N due to error\n"
     ]
    },
    {
     "name": "stderr",
     "output_type": "stream",
     "text": [
      "Valid task found VEP R100 ANNOTATE: COVHA-20200312-P3-E01-N\n",
      "Valid task found VEP R100 ANNOTATE: COVHA-20200312-P2-B05-N\n"
     ]
    },
    {
     "name": "stdout",
     "output_type": "stream",
     "text": [
      "'NoneType' object has no attribute 'id'\n",
      "Skipping warn_txt for VEP R100 ANNOTATE: COVHA-20200312-P2-B05-N due to error\n",
      "'NoneType' object has no attribute 'id'\n",
      "Skipping warn_txt for VEP R100 ANNOTATE: COVHA-20200312-P3-D06-N due to error\n"
     ]
    },
    {
     "name": "stderr",
     "output_type": "stream",
     "text": [
      "Valid task found VEP R100 ANNOTATE: COVHA-20200312-P3-D06-N\n",
      "Valid task found VEP R100 ANNOTATE: COVHA-20200312-P3-A04-CN\n",
      "Valid task found VEP R100 ANNOTATE: COVHA-20200312-P3-G04-N\n",
      "Valid task found VEP R100 ANNOTATE: COVHA-20200311-P1-G03-N\n",
      "Valid task found VEP R100 ANNOTATE: COVHA-20200314-P6-G08-N\n"
     ]
    },
    {
     "name": "stdout",
     "output_type": "stream",
     "text": [
      "'NoneType' object has no attribute 'id'\n",
      "Skipping warn_txt for VEP R100 ANNOTATE: COVHA-20200311-P1-G03-N due to error\n",
      "'NoneType' object has no attribute 'id'\n",
      "Skipping warn_txt for VEP R100 ANNOTATE: COVHA-20200314-P6-G08-N due to error\n"
     ]
    },
    {
     "name": "stderr",
     "output_type": "stream",
     "text": [
      "Valid task found VEP R100 ANNOTATE: COVHA-20200312-P2-D01-N\n",
      "Valid task found VEP R100 ANNOTATE: COVHA-20200311-P1-E01-N\n"
     ]
    },
    {
     "name": "stdout",
     "output_type": "stream",
     "text": [
      "'NoneType' object has no attribute 'id'\n",
      "Skipping warn_txt for VEP R100 ANNOTATE: COVHA-20200311-P1-E01-N due to error\n",
      "'NoneType' object has no attribute 'id'\n",
      "Skipping warn_txt for VEP R100 ANNOTATE: COVHA-20200311-P1-C01-N due to error\n"
     ]
    },
    {
     "name": "stderr",
     "output_type": "stream",
     "text": [
      "Valid task found VEP R100 ANNOTATE: COVHA-20200311-P1-C01-N\n",
      "Valid task found VEP R100 ANNOTATE: COVHA-20200314-P6-D01-N\n"
     ]
    },
    {
     "name": "stdout",
     "output_type": "stream",
     "text": [
      "'NoneType' object has no attribute 'id'\n",
      "Skipping warn_txt for VEP R100 ANNOTATE: COVHA-20200314-P6-D01-N due to error\n"
     ]
    },
    {
     "name": "stderr",
     "output_type": "stream",
     "text": [
      "Valid task found VEP R100 ANNOTATE: COVHA-20200313-P5-C05-P\n",
      "Valid task found VEP R100 ANNOTATE: COVHA-20200313-P4-B06-P\n",
      "Valid task found VEP R100 ANNOTATE: COVHA-20200313-P4-A02-N\n",
      "Valid task found VEP R100 ANNOTATE: COVHA-20200311-P1-A05-N\n"
     ]
    },
    {
     "name": "stdout",
     "output_type": "stream",
     "text": [
      "'NoneType' object has no attribute 'id'\n",
      "Skipping warn_txt for VEP R100 ANNOTATE: COVHA-20200313-P4-A02-N due to error\n",
      "'NoneType' object has no attribute 'id'\n",
      "Skipping warn_txt for VEP R100 ANNOTATE: COVHA-20200311-P1-A05-N due to error\n"
     ]
    },
    {
     "name": "stderr",
     "output_type": "stream",
     "text": [
      "Valid task found VEP R100 ANNOTATE: COVHA-20200313-P4-A06-N\n",
      "Valid task found VEP R100 ANNOTATE: COVHA-20200312-P3-G05-N\n"
     ]
    },
    {
     "name": "stdout",
     "output_type": "stream",
     "text": [
      "'NoneType' object has no attribute 'id'\n",
      "Skipping warn_txt for VEP R100 ANNOTATE: COVHA-20200313-P4-A06-N due to error\n",
      "'NoneType' object has no attribute 'id'\n",
      "Skipping warn_txt for VEP R100 ANNOTATE: COVHA-20200312-P3-G05-N due to error\n"
     ]
    },
    {
     "name": "stderr",
     "output_type": "stream",
     "text": [
      "Valid task found VEP R100 ANNOTATE: COVHA-20200312-P3-F06-N\n",
      "Valid task found VEP R100 ANNOTATE: COVHA-20200314-P6-C08-N\n"
     ]
    },
    {
     "name": "stdout",
     "output_type": "stream",
     "text": [
      "'NoneType' object has no attribute 'id'\n",
      "Skipping warn_txt for VEP R100 ANNOTATE: COVHA-20200312-P3-F06-N due to error\n",
      "'NoneType' object has no attribute 'id'\n",
      "Skipping warn_txt for VEP R100 ANNOTATE: COVHA-20200314-P6-C08-N due to error\n"
     ]
    },
    {
     "name": "stderr",
     "output_type": "stream",
     "text": [
      "Valid task found VEP R100 ANNOTATE: COVHA-20200311-P1-D01-N\n",
      "Valid task found VEP R100 ANNOTATE: COVHA-20200312-P3-C04-N\n"
     ]
    },
    {
     "name": "stdout",
     "output_type": "stream",
     "text": [
      "'NoneType' object has no attribute 'id'\n",
      "Skipping warn_txt for VEP R100 ANNOTATE: COVHA-20200311-P1-D01-N due to error\n",
      "'NoneType' object has no attribute 'id'\n",
      "Skipping warn_txt for VEP R100 ANNOTATE: COVHA-20200312-P3-C04-N due to error\n"
     ]
    },
    {
     "name": "stderr",
     "output_type": "stream",
     "text": [
      "Valid task found VEP R100 ANNOTATE: COVHA-20200313-P5-G04-N\n",
      "Valid task found VEP R100 ANNOTATE: COVHA-20200312-P3-E07-N\n"
     ]
    },
    {
     "name": "stdout",
     "output_type": "stream",
     "text": [
      "'NoneType' object has no attribute 'id'\n",
      "Skipping warn_txt for VEP R100 ANNOTATE: COVHA-20200313-P5-G04-N due to error\n",
      "'NoneType' object has no attribute 'id'\n",
      "Skipping warn_txt for VEP R100 ANNOTATE: COVHA-20200312-P3-E07-N due to error\n"
     ]
    },
    {
     "name": "stderr",
     "output_type": "stream",
     "text": [
      "Valid task found VEP R100 ANNOTATE: COVHA-20200313-P5-H04-N\n",
      "Valid task found VEP R100 ANNOTATE: COVHA-20200311-P1-F07-N\n"
     ]
    },
    {
     "name": "stdout",
     "output_type": "stream",
     "text": [
      "'NoneType' object has no attribute 'id'\n",
      "Skipping warn_txt for VEP R100 ANNOTATE: COVHA-20200313-P5-H04-N due to error\n",
      "'NoneType' object has no attribute 'id'\n",
      "Skipping warn_txt for VEP R100 ANNOTATE: COVHA-20200311-P1-F07-N due to error\n"
     ]
    },
    {
     "name": "stderr",
     "output_type": "stream",
     "text": [
      "Valid task found VEP R100 ANNOTATE: COVHA-20200314-P7-E09-N\n"
     ]
    },
    {
     "name": "stdout",
     "output_type": "stream",
     "text": [
      "'NoneType' object has no attribute 'id'\n",
      "Skipping warn_txt for VEP R100 ANNOTATE: COVHA-20200314-P7-E09-N due to error\n",
      "'NoneType' object has no attribute 'id'\n",
      "Skipping warn_txt for VEP R100 ANNOTATE: COVHA-20200314-P6-B07-N due to error\n"
     ]
    },
    {
     "name": "stderr",
     "output_type": "stream",
     "text": [
      "Valid task found VEP R100 ANNOTATE: COVHA-20200314-P6-B07-N\n",
      "Valid task found VEP R100 ANNOTATE: COVHA-20200312-P3-E02-P\n",
      "Valid task found VEP R100 ANNOTATE: COVHA-20200314-P7-C05-N\n",
      "Valid task found VEP R100 ANNOTATE: COVHA-20200312-P3-C02-N\n"
     ]
    },
    {
     "name": "stdout",
     "output_type": "stream",
     "text": [
      "'NoneType' object has no attribute 'id'\n",
      "Skipping warn_txt for VEP R100 ANNOTATE: COVHA-20200314-P7-C05-N due to error\n",
      "'NoneType' object has no attribute 'id'\n",
      "Skipping warn_txt for VEP R100 ANNOTATE: COVHA-20200312-P3-C02-N due to error\n"
     ]
    },
    {
     "name": "stderr",
     "output_type": "stream",
     "text": [
      "Valid task found VEP R100 ANNOTATE: COVHA-20200314-P6-C01-N\n",
      "Valid task found VEP R100 ANNOTATE: COVHA-20200313-P5-B04-N\n"
     ]
    },
    {
     "name": "stdout",
     "output_type": "stream",
     "text": [
      "'NoneType' object has no attribute 'id'\n",
      "Skipping warn_txt for VEP R100 ANNOTATE: COVHA-20200314-P6-C01-N due to error\n",
      "'NoneType' object has no attribute 'id'\n",
      "Skipping warn_txt for VEP R100 ANNOTATE: COVHA-20200313-P5-B04-N due to error\n"
     ]
    },
    {
     "name": "stderr",
     "output_type": "stream",
     "text": [
      "Valid task found VEP R100 ANNOTATE: COVHA-20200314-P9-C05-N\n"
     ]
    },
    {
     "name": "stdout",
     "output_type": "stream",
     "text": [
      "'NoneType' object has no attribute 'id'\n",
      "Skipping warn_txt for VEP R100 ANNOTATE: COVHA-20200314-P9-C05-N due to error\n"
     ]
    },
    {
     "name": "stderr",
     "output_type": "stream",
     "text": [
      "Valid task found VEP R100 ANNOTATE: COVHA-20200311-P1-A02-N\n",
      "Valid task found VEP R100 ANNOTATE: COVHA-20200312-P2-E01-N\n",
      "Valid task found VEP R100 ANNOTATE: COVHA-20200311-P1-B08-N\n"
     ]
    },
    {
     "name": "stdout",
     "output_type": "stream",
     "text": [
      "'NoneType' object has no attribute 'id'\n",
      "Skipping warn_txt for VEP R100 ANNOTATE: COVHA-20200312-P2-E01-N due to error\n",
      "'NoneType' object has no attribute 'id'\n",
      "Skipping warn_txt for VEP R100 ANNOTATE: COVHA-20200311-P1-B08-N due to error\n"
     ]
    },
    {
     "name": "stderr",
     "output_type": "stream",
     "text": [
      "Valid task found VEP R100 ANNOTATE: COVHA-20200314-P6-F03-P\n",
      "Valid task found VEP R100 ANNOTATE: COVHA-20200311-P1-H06-N\n",
      "Valid task found VEP R100 ANNOTATE: COVHA-20200312-P3-B07-N\n"
     ]
    },
    {
     "name": "stdout",
     "output_type": "stream",
     "text": [
      "'NoneType' object has no attribute 'id'\n",
      "Skipping warn_txt for VEP R100 ANNOTATE: COVHA-20200311-P1-H06-N due to error\n",
      "'NoneType' object has no attribute 'id'\n",
      "Skipping warn_txt for VEP R100 ANNOTATE: COVHA-20200312-P3-B07-N due to error\n"
     ]
    },
    {
     "name": "stderr",
     "output_type": "stream",
     "text": [
      "Valid task found VEP R100 ANNOTATE: COVHA-20200313-P5-C04-N\n",
      "Valid task found VEP R100 ANNOTATE: COVHA-20200312-P2-H03-P\n",
      "Valid task found VEP R100 ANNOTATE: COVHA-20200312-P3-A01-CP\n",
      "Valid task found VEP R100 ANNOTATE: COVHA-20200312-P2-G02-N\n",
      "Valid task found VEP R100 ANNOTATE: COVHA-20200312-P2-A05-N\n"
     ]
    },
    {
     "name": "stdout",
     "output_type": "stream",
     "text": [
      "'NoneType' object has no attribute 'id'\n",
      "Skipping warn_txt for VEP R100 ANNOTATE: COVHA-20200312-P2-G02-N due to error\n",
      "'NoneType' object has no attribute 'id'\n",
      "Skipping warn_txt for VEP R100 ANNOTATE: COVHA-20200312-P2-A05-N due to error\n"
     ]
    },
    {
     "name": "stderr",
     "output_type": "stream",
     "text": [
      "Valid task found VEP R100 ANNOTATE: COVHA-20200314-P9-A05-P\n",
      "Valid task found VEP R100 ANNOTATE: COVHA-20200314-P7-B05-N\n",
      "Valid task found VEP R100 ANNOTATE: COVHA-20200312-P2-A03-N\n"
     ]
    },
    {
     "name": "stdout",
     "output_type": "stream",
     "text": [
      "'NoneType' object has no attribute 'id'\n",
      "Skipping warn_txt for VEP R100 ANNOTATE: COVHA-20200314-P7-B05-N due to error\n",
      "'NoneType' object has no attribute 'id'\n",
      "Skipping warn_txt for VEP R100 ANNOTATE: COVHA-20200312-P2-A03-N due to error\n"
     ]
    },
    {
     "name": "stderr",
     "output_type": "stream",
     "text": [
      "Valid task found VEP R100 ANNOTATE: COVHA-20200314-P6-E08-P\n",
      "Valid task found VEP R100 ANNOTATE: COVHA-20200314-P8-C01-N\n",
      "Valid task found VEP R100 ANNOTATE: COVHA-20200312-P2-D04-P\n"
     ]
    },
    {
     "name": "stdout",
     "output_type": "stream",
     "text": [
      "'NoneType' object has no attribute 'id'\n",
      "Skipping warn_txt for VEP R100 ANNOTATE: COVHA-20200314-P8-C01-N due to error\n"
     ]
    },
    {
     "name": "stderr",
     "output_type": "stream",
     "text": [
      "Valid task found VEP R100 ANNOTATE: COVHA-20200312-P3-G01-N\n",
      "Valid task found VEP R100 ANNOTATE: COVHA-20200312-P3-H06-N\n"
     ]
    },
    {
     "name": "stdout",
     "output_type": "stream",
     "text": [
      "'NoneType' object has no attribute 'id'\n",
      "Skipping warn_txt for VEP R100 ANNOTATE: COVHA-20200312-P3-G01-N due to error\n",
      "'NoneType' object has no attribute 'id'\n",
      "Skipping warn_txt for VEP R100 ANNOTATE: COVHA-20200312-P3-H06-N due to error\n"
     ]
    },
    {
     "name": "stderr",
     "output_type": "stream",
     "text": [
      "Valid task found VEP R100 ANNOTATE: COVHA-20200312-P2-B03-N\n",
      "Valid task found VEP R100 ANNOTATE: COVHA-20200313-P4-E02-N\n"
     ]
    },
    {
     "name": "stdout",
     "output_type": "stream",
     "text": [
      "'NoneType' object has no attribute 'id'\n",
      "Skipping warn_txt for VEP R100 ANNOTATE: COVHA-20200312-P2-B03-N due to error\n",
      "'NoneType' object has no attribute 'id'\n",
      "Skipping warn_txt for VEP R100 ANNOTATE: COVHA-20200313-P4-E02-N due to error\n"
     ]
    },
    {
     "name": "stderr",
     "output_type": "stream",
     "text": [
      "Valid task found VEP R100 ANNOTATE: COVHA-20200312-P3-B06-N\n",
      "Valid task found VEP R100 ANNOTATE: COVHA-20200311-P1-A07-CN\n"
     ]
    },
    {
     "name": "stdout",
     "output_type": "stream",
     "text": [
      "'NoneType' object has no attribute 'id'\n",
      "Skipping warn_txt for VEP R100 ANNOTATE: COVHA-20200312-P3-B06-N due to error\n"
     ]
    },
    {
     "name": "stderr",
     "output_type": "stream",
     "text": [
      "Valid task found VEP R100 ANNOTATE: COVHA-20200314-P9-E06-P\n",
      "Valid task found VEP R100 ANNOTATE: COVHA-20200313-P4-G05-N\n",
      "Valid task found VEP R100 ANNOTATE: COVHA-20200312-P3-D05-N\n"
     ]
    },
    {
     "name": "stdout",
     "output_type": "stream",
     "text": [
      "'NoneType' object has no attribute 'id'\n",
      "Skipping warn_txt for VEP R100 ANNOTATE: COVHA-20200313-P4-G05-N due to error\n",
      "'NoneType' object has no attribute 'id'\n",
      "Skipping warn_txt for VEP R100 ANNOTATE: COVHA-20200312-P3-D05-N due to error\n"
     ]
    },
    {
     "name": "stderr",
     "output_type": "stream",
     "text": [
      "Valid task found VEP R100 ANNOTATE: COVHA-20200313-P5-F01-P\n",
      "Valid task found VEP R100 ANNOTATE: COVHA-20200313-P4-H05-N\n"
     ]
    },
    {
     "name": "stdout",
     "output_type": "stream",
     "text": [
      "'NoneType' object has no attribute 'id'\n",
      "Skipping warn_txt for VEP R100 ANNOTATE: COVHA-20200313-P4-H05-N due to error\n"
     ]
    },
    {
     "name": "stderr",
     "output_type": "stream",
     "text": [
      "Valid task found VEP R100 ANNOTATE: COVHA-20200311-P1-E08-P\n",
      "Valid task found VEP R100 ANNOTATE: COVHA-20200314-P6-C02-N\n",
      "Valid task found VEP R100 ANNOTATE: COVHA-20200311-P7-H08-N\n",
      "Valid task found VEP R100 ANNOTATE: COVHA-20200313-P5-C03-N\n"
     ]
    },
    {
     "name": "stdout",
     "output_type": "stream",
     "text": [
      "'NoneType' object has no attribute 'id'\n",
      "Skipping warn_txt for VEP R100 ANNOTATE: COVHA-20200311-P7-H08-N due to error\n",
      "'NoneType' object has no attribute 'id'\n",
      "Skipping warn_txt for VEP R100 ANNOTATE: COVHA-20200313-P5-C03-N due to error\n"
     ]
    },
    {
     "name": "stderr",
     "output_type": "stream",
     "text": [
      "Valid task found VEP R100 ANNOTATE: COVHA-20200313-P4-E04-N\n",
      "Valid task found VEP R100 ANNOTATE: COVHA-20200311-P1-A08-N\n"
     ]
    },
    {
     "name": "stdout",
     "output_type": "stream",
     "text": [
      "'NoneType' object has no attribute 'id'\n",
      "Skipping warn_txt for VEP R100 ANNOTATE: COVHA-20200313-P4-E04-N due to error\n",
      "'NoneType' object has no attribute 'id'\n",
      "Skipping warn_txt for VEP R100 ANNOTATE: COVHA-20200311-P1-A08-N due to error\n"
     ]
    },
    {
     "name": "stderr",
     "output_type": "stream",
     "text": [
      "Valid task found VEP R100 ANNOTATE: COVHA-20200313-P5-E03-N\n",
      "Valid task found VEP R100 ANNOTATE: COVHA-20200313-P5-A03-P\n"
     ]
    },
    {
     "name": "stdout",
     "output_type": "stream",
     "text": [
      "'NoneType' object has no attribute 'id'\n",
      "Skipping warn_txt for VEP R100 ANNOTATE: COVHA-20200313-P5-E03-N due to error\n"
     ]
    },
    {
     "name": "stderr",
     "output_type": "stream",
     "text": [
      "Valid task found VEP R100 ANNOTATE: COVHA-20200313-P5-D03-N\n",
      "Valid task found VEP R100 ANNOTATE: COVHA-20200314-P6-F04-N\n"
     ]
    },
    {
     "name": "stdout",
     "output_type": "stream",
     "text": [
      "'NoneType' object has no attribute 'id'\n",
      "Skipping warn_txt for VEP R100 ANNOTATE: COVHA-20200313-P5-D03-N due to error\n",
      "'NoneType' object has no attribute 'id'\n",
      "Skipping warn_txt for VEP R100 ANNOTATE: COVHA-20200314-P6-F04-N due to error\n",
      "'NoneType' object has no attribute 'id'\n",
      "Skipping warn_txt for VEP R100 ANNOTATE: COVHA-20200314-P7-G05-N due to error\n"
     ]
    },
    {
     "name": "stderr",
     "output_type": "stream",
     "text": [
      "Valid task found VEP R100 ANNOTATE: COVHA-20200314-P7-G05-N\n",
      "Valid task found VEP R100 ANNOTATE: COVHA-20200313-P5-B01-CN\n"
     ]
    },
    {
     "name": "stdout",
     "output_type": "stream",
     "text": [
      "'NoneType' object has no attribute 'id'\n",
      "Skipping warn_txt for VEP R100 ANNOTATE: COVHA-20200313-P5-B01-CN due to error\n"
     ]
    },
    {
     "name": "stderr",
     "output_type": "stream",
     "text": [
      "Valid task found VEP R100 ANNOTATE: COVHA-20200314-P8-G06-P\n",
      "Valid task found VEP R100 ANNOTATE: COVHA-20200313-P5-G02-P\n",
      "Valid task found VEP R100 ANNOTATE: COVHA-20200314-P6-B01-CN\n"
     ]
    },
    {
     "name": "stdout",
     "output_type": "stream",
     "text": [
      "'NoneType' object has no attribute 'id'\n",
      "Skipping warn_txt for VEP R100 ANNOTATE: COVHA-20200313-P5-G02-P due to error\n",
      "'NoneType' object has no attribute 'id'\n",
      "Skipping warn_txt for VEP R100 ANNOTATE: COVHA-20200314-P6-B01-CN due to error\n"
     ]
    },
    {
     "name": "stderr",
     "output_type": "stream",
     "text": [
      "Valid task found VEP R100 ANNOTATE: COVHA-20200311-P1-D03-N\n",
      "Valid task found VEP R100 ANNOTATE: COVHA-20200311-P1-B03-N\n"
     ]
    },
    {
     "name": "stdout",
     "output_type": "stream",
     "text": [
      "'NoneType' object has no attribute 'id'\n",
      "Skipping warn_txt for VEP R100 ANNOTATE: COVHA-20200311-P1-D03-N due to error\n",
      "'NoneType' object has no attribute 'id'\n",
      "Skipping warn_txt for VEP R100 ANNOTATE: COVHA-20200311-P1-B03-N due to error\n"
     ]
    },
    {
     "name": "stderr",
     "output_type": "stream",
     "text": [
      "Valid task found VEP R100 ANNOTATE: COVHA-20200313-P4-H03-P\n",
      "Valid task found VEP R100 ANNOTATE: COVHA-20200314-P7-F01-N\n",
      "Valid task found VEP R100 ANNOTATE: COVHA-20200313-P4-D04-P\n"
     ]
    },
    {
     "name": "stdout",
     "output_type": "stream",
     "text": [
      "'NoneType' object has no attribute 'id'\n",
      "Skipping warn_txt for VEP R100 ANNOTATE: COVHA-20200314-P7-F01-N due to error\n"
     ]
    },
    {
     "name": "stderr",
     "output_type": "stream",
     "text": [
      "Valid task found VEP R100 ANNOTATE: COVHA-20200311-P6-H08-N\n",
      "Valid task found VEP R100 ANNOTATE: COVHA-20200311-P1-D06-N\n"
     ]
    },
    {
     "name": "stdout",
     "output_type": "stream",
     "text": [
      "'NoneType' object has no attribute 'id'\n",
      "Skipping warn_txt for VEP R100 ANNOTATE: COVHA-20200311-P6-H08-N due to error\n",
      "'NoneType' object has no attribute 'id'\n",
      "Skipping warn_txt for VEP R100 ANNOTATE: COVHA-20200311-P1-D06-N due to error\n",
      "'NoneType' object has no attribute 'id'\n",
      "Skipping warn_txt for VEP R100 ANNOTATE: COVHA-20200314-P6-G02-N due to error\n"
     ]
    },
    {
     "name": "stderr",
     "output_type": "stream",
     "text": [
      "Valid task found VEP R100 ANNOTATE: COVHA-20200314-P6-G02-N\n",
      "Valid task found VEP R100 ANNOTATE: COVHA-20200312-P2-H04-N\n"
     ]
    },
    {
     "name": "stdout",
     "output_type": "stream",
     "text": [
      "'NoneType' object has no attribute 'id'\n",
      "Skipping warn_txt for VEP R100 ANNOTATE: COVHA-20200312-P2-H04-N due to error\n"
     ]
    },
    {
     "name": "stderr",
     "output_type": "stream",
     "text": [
      "Valid task found VEP R100 ANNOTATE: COVHA-20200313-P5-H03-P\n",
      "Valid task found VEP R100 ANNOTATE: COVHA-20200311-P1-F02-N\n",
      "Valid task found VEP R100 ANNOTATE: COVHA-20200312-P3-F03-P\n"
     ]
    },
    {
     "name": "stdout",
     "output_type": "stream",
     "text": [
      "'NoneType' object has no attribute 'id'\n",
      "Skipping warn_txt for VEP R100 ANNOTATE: COVHA-20200311-P1-F02-N due to error\n",
      "'NoneType' object has no attribute 'id'\n",
      "Skipping warn_txt for VEP R100 ANNOTATE: COVHA-20200312-P3-F03-P due to error\n"
     ]
    },
    {
     "name": "stderr",
     "output_type": "stream",
     "text": [
      "Valid task found VEP R100 ANNOTATE: COVHA-20200313-P4-A05-N\n",
      "Valid task found VEP R100 ANNOTATE: COVHA-20200313-P4-A04-CN\n"
     ]
    },
    {
     "name": "stdout",
     "output_type": "stream",
     "text": [
      "'NoneType' object has no attribute 'id'\n",
      "Skipping warn_txt for VEP R100 ANNOTATE: COVHA-20200313-P4-A05-N due to error\n",
      "'NoneType' object has no attribute 'id'\n",
      "Skipping warn_txt for VEP R100 ANNOTATE: COVHA-20200313-P4-A04-CN due to error\n"
     ]
    },
    {
     "name": "stderr",
     "output_type": "stream",
     "text": [
      "Valid task found VEP R100 ANNOTATE: COVHA-20200312-P2-B01-CN\n",
      "Valid task found VEP R100 ANNOTATE: COVHA-20200313-P5-D04-N\n"
     ]
    },
    {
     "name": "stdout",
     "output_type": "stream",
     "text": [
      "'NoneType' object has no attribute 'id'\n",
      "Skipping warn_txt for VEP R100 ANNOTATE: COVHA-20200312-P2-B01-CN due to error\n",
      "'NoneType' object has no attribute 'id'\n",
      "Skipping warn_txt for VEP R100 ANNOTATE: COVHA-20200313-P5-D04-N due to error\n"
     ]
    },
    {
     "name": "stderr",
     "output_type": "stream",
     "text": [
      "Valid task found VEP R100 ANNOTATE: COVHA-20200312-P2-D03-P\n",
      "Valid task found VEP R100 ANNOTATE: COVHA-20200314-P8-B01-CN\n"
     ]
    },
    {
     "name": "stdout",
     "output_type": "stream",
     "text": [
      "'NoneType' object has no attribute 'id'\n",
      "Skipping warn_txt for VEP R100 ANNOTATE: COVHA-20200312-P2-D03-P due to error\n",
      "'NoneType' object has no attribute 'id'\n",
      "Skipping warn_txt for VEP R100 ANNOTATE: COVHA-20200314-P8-B01-CN due to error\n"
     ]
    },
    {
     "name": "stderr",
     "output_type": "stream",
     "text": [
      "Valid task found VEP R100 ANNOTATE: COVHA-20200314-P7-A09-N\n",
      "Valid task found VEP R100 ANNOTATE: COVHA-20200314-P9-C08-N\n"
     ]
    },
    {
     "name": "stdout",
     "output_type": "stream",
     "text": [
      "'NoneType' object has no attribute 'id'\n",
      "Skipping warn_txt for VEP R100 ANNOTATE: COVHA-20200314-P7-A09-N due to error\n",
      "'NoneType' object has no attribute 'id'\n",
      "Skipping warn_txt for VEP R100 ANNOTATE: COVHA-20200314-P9-C08-N due to error\n"
     ]
    },
    {
     "name": "stderr",
     "output_type": "stream",
     "text": [
      "Valid task found VEP R100 ANNOTATE: COVHA-20200314-P7-D09-P\n",
      "Valid task found VEP R100 ANNOTATE: COVHA-20200312-P2-F01-N\n"
     ]
    },
    {
     "name": "stdout",
     "output_type": "stream",
     "text": [
      "'NoneType' object has no attribute 'id'\n",
      "Skipping warn_txt for VEP R100 ANNOTATE: COVHA-20200312-P2-F01-N due to error\n"
     ]
    },
    {
     "name": "stderr",
     "output_type": "stream",
     "text": [
      "Valid task found VEP R100 ANNOTATE: COVHA-20200314-P6-A02-P\n",
      "Valid task found VEP R100 ANNOTATE: COVHA-20200314-P6-A07-CN\n",
      "Valid task found VEP R100 ANNOTATE: COVHA-20200312-P3-B03-N\n"
     ]
    },
    {
     "name": "stdout",
     "output_type": "stream",
     "text": [
      "'NoneType' object has no attribute 'id'\n",
      "Skipping warn_txt for VEP R100 ANNOTATE: COVHA-20200314-P6-A07-CN due to error\n",
      "'NoneType' object has no attribute 'id'\n",
      "Skipping warn_txt for VEP R100 ANNOTATE: COVHA-20200312-P3-B03-N due to error\n"
     ]
    },
    {
     "name": "stderr",
     "output_type": "stream",
     "text": [
      "Valid task found VEP R100 ANNOTATE: COVHA-20200314-P8-E03-P\n",
      "Valid task found VEP R100 ANNOTATE: COVHA-20200314-P7-F05-P\n",
      "Valid task found VEP R100 ANNOTATE: COVHA-20200313-P4-F03-N\n",
      "Valid task found VEP R100 ANNOTATE: COVHA-20200314-P6-H07-N\n"
     ]
    },
    {
     "name": "stdout",
     "output_type": "stream",
     "text": [
      "'NoneType' object has no attribute 'id'\n",
      "Skipping warn_txt for VEP R100 ANNOTATE: COVHA-20200313-P4-F03-N due to error\n"
     ]
    },
    {
     "name": "stderr",
     "output_type": "stream",
     "text": [
      "Valid task found VEP R100 ANNOTATE: COVHA-20200312-P3-E04-P\n",
      "Valid task found VEP R100 ANNOTATE: COVHA-20200314-P6-B03-N\n"
     ]
    },
    {
     "name": "stdout",
     "output_type": "stream",
     "text": [
      "'NoneType' object has no attribute 'id'\n",
      "Skipping warn_txt for VEP R100 ANNOTATE: COVHA-20200312-P3-E04-P due to error\n",
      "'NoneType' object has no attribute 'id'\n",
      "Skipping warn_txt for VEP R100 ANNOTATE: COVHA-20200314-P6-B03-N due to error\n"
     ]
    },
    {
     "name": "stderr",
     "output_type": "stream",
     "text": [
      "Valid task found VEP R100 ANNOTATE: COVHA-20200311-P1-H01-N\n",
      "Valid task found VEP R100 ANNOTATE: COVHA-20200313-P5-H05-N\n"
     ]
    },
    {
     "name": "stdout",
     "output_type": "stream",
     "text": [
      "'NoneType' object has no attribute 'id'\n",
      "Skipping warn_txt for VEP R100 ANNOTATE: COVHA-20200311-P1-H01-N due to error\n"
     ]
    },
    {
     "name": "stderr",
     "output_type": "stream",
     "text": [
      "Valid task found VEP R100 ANNOTATE: COVHA-20200314-P9-C09-N\n",
      "Valid task found VEP R100 ANNOTATE: COVHA-20200314-P6-F02-P\n"
     ]
    },
    {
     "name": "stdout",
     "output_type": "stream",
     "text": [
      "'NoneType' object has no attribute 'id'\n",
      "Skipping warn_txt for VEP R100 ANNOTATE: COVHA-20200314-P9-C09-N due to error\n"
     ]
    },
    {
     "name": "stderr",
     "output_type": "stream",
     "text": [
      "Valid task found VEP R100 ANNOTATE: COVHA-20200312-P3-A03-N\n",
      "Valid task found VEP R100 ANNOTATE: COVHA-20200312-P3-A02-N\n",
      "Valid task found VEP R100 ANNOTATE: COVHA-20200313-P5-B03-N\n"
     ]
    },
    {
     "name": "stdout",
     "output_type": "stream",
     "text": [
      "'NoneType' object has no attribute 'id'\n",
      "Skipping warn_txt for VEP R100 ANNOTATE: COVHA-20200312-P3-A02-N due to error\n",
      "'NoneType' object has no attribute 'id'\n",
      "Skipping warn_txt for VEP R100 ANNOTATE: COVHA-20200313-P5-B03-N due to error\n"
     ]
    },
    {
     "name": "stderr",
     "output_type": "stream",
     "text": [
      "Valid task found VEP R100 ANNOTATE: COVHA-20200314-P8-C04-N\n",
      "Valid task found VEP R100 ANNOTATE: COVHA-20200312-P3-B01-CN\n",
      "Valid task found VEP R100 ANNOTATE: COVHA-20200312-P2-A04-CN\n",
      "Valid task found VEP R100 ANNOTATE: COVHA-20200314-P6-F08-N\n"
     ]
    },
    {
     "name": "stdout",
     "output_type": "stream",
     "text": [
      "'NoneType' object has no attribute 'id'\n",
      "Skipping warn_txt for VEP R100 ANNOTATE: COVHA-20200312-P2-A04-CN due to error\n"
     ]
    },
    {
     "name": "stderr",
     "output_type": "stream",
     "text": [
      "Valid task found VEP R100 ANNOTATE: COVHA-20200312-P2-C01-P\n",
      "Valid task found VEP R100 ANNOTATE: COVHA-20200313-P5-D02-N\n",
      "Valid task found VEP R100 ANNOTATE: COVHA-20200312-P3-C05-N\n"
     ]
    },
    {
     "name": "stdout",
     "output_type": "stream",
     "text": [
      "'NoneType' object has no attribute 'id'\n",
      "Skipping warn_txt for VEP R100 ANNOTATE: COVHA-20200313-P5-D02-N due to error\n",
      "'NoneType' object has no attribute 'id'\n",
      "Skipping warn_txt for VEP R100 ANNOTATE: COVHA-20200312-P3-C05-N due to error\n"
     ]
    },
    {
     "name": "stderr",
     "output_type": "stream",
     "text": [
      "Valid task found VEP R100 ANNOTATE: COVHA-20200314-P7-A01-CP\n",
      "Valid task found VEP R100 ANNOTATE: COVHA-20200311-P1-G01-P\n",
      "Valid task found VEP R100 ANNOTATE: COVHA-20200313-P5-F02-N\n",
      "Valid task found VEP R100 ANNOTATE: COVHA-20200314-P7-E05-N\n"
     ]
    },
    {
     "name": "stdout",
     "output_type": "stream",
     "text": [
      "'NoneType' object has no attribute 'id'\n",
      "Skipping warn_txt for VEP R100 ANNOTATE: COVHA-20200313-P5-F02-N due to error\n",
      "'NoneType' object has no attribute 'id'\n",
      "Skipping warn_txt for VEP R100 ANNOTATE: COVHA-20200314-P7-E05-N due to error\n",
      "'NoneType' object has no attribute 'id'\n",
      "Skipping warn_txt for VEP R100 ANNOTATE: COVHA-20200314-P8-H02-N due to error\n"
     ]
    },
    {
     "name": "stderr",
     "output_type": "stream",
     "text": [
      "Valid task found VEP R100 ANNOTATE: COVHA-20200314-P8-H02-N\n",
      "Valid task found VEP R100 ANNOTATE: COVHA-20200311-P1-F05-N\n"
     ]
    },
    {
     "name": "stdout",
     "output_type": "stream",
     "text": [
      "'NoneType' object has no attribute 'id'\n",
      "Skipping warn_txt for VEP R100 ANNOTATE: COVHA-20200311-P1-F05-N due to error\n",
      "'NoneType' object has no attribute 'id'\n",
      "Skipping warn_txt for VEP R100 ANNOTATE: COVHA-20200312-P2-H01-N due to error\n"
     ]
    },
    {
     "name": "stderr",
     "output_type": "stream",
     "text": [
      "Valid task found VEP R100 ANNOTATE: COVHA-20200312-P2-H01-N\n",
      "Valid task found VEP R100 ANNOTATE: COVHA-20200313-P5-B02-N\n"
     ]
    },
    {
     "name": "stdout",
     "output_type": "stream",
     "text": [
      "'NoneType' object has no attribute 'id'\n",
      "Skipping warn_txt for VEP R100 ANNOTATE: COVHA-20200313-P5-B02-N due to error\n"
     ]
    },
    {
     "name": "stderr",
     "output_type": "stream",
     "text": [
      "Valid task found VEP R100 ANNOTATE: COVHA-20200312-P3-C06-N\n",
      "Valid task found VEP R100 ANNOTATE: COVHA-20200314-P7-H07-P\n",
      "Valid task found VEP R100 ANNOTATE: COVHA-20200313-P4-F05-N\n",
      "Valid task found VEP R100 ANNOTATE: COVHA-20200311-P1-H03-N\n"
     ]
    },
    {
     "name": "stdout",
     "output_type": "stream",
     "text": [
      "'NoneType' object has no attribute 'id'\n",
      "Skipping warn_txt for VEP R100 ANNOTATE: COVHA-20200313-P4-F05-N due to error\n",
      "'NoneType' object has no attribute 'id'\n",
      "Skipping warn_txt for VEP R100 ANNOTATE: COVHA-20200311-P1-H03-N due to error\n"
     ]
    },
    {
     "name": "stderr",
     "output_type": "stream",
     "text": [
      "Valid task found VEP R100 ANNOTATE: COVHA-20200312-P2-F03-N\n",
      "Valid task found VEP R100 ANNOTATE: COVHA-20200311-P1-C02-N\n",
      "Valid task found VEP R100 ANNOTATE: COVHA-20200311-P1-H04-N\n"
     ]
    },
    {
     "name": "stdout",
     "output_type": "stream",
     "text": [
      "'NoneType' object has no attribute 'id'\n",
      "Skipping warn_txt for VEP R100 ANNOTATE: COVHA-20200311-P1-C02-N due to error\n",
      "'NoneType' object has no attribute 'id'\n",
      "Skipping warn_txt for VEP R100 ANNOTATE: COVHA-20200311-P1-H04-N due to error\n"
     ]
    },
    {
     "name": "stderr",
     "output_type": "stream",
     "text": [
      "Valid task found VEP R100 ANNOTATE: COVHA-20200312-P3-A05-N\n",
      "Valid task found VEP R100 ANNOTATE: COVHA-20200314-P7-G03-N\n"
     ]
    },
    {
     "name": "stdout",
     "output_type": "stream",
     "text": [
      "'NoneType' object has no attribute 'id'\n",
      "Skipping warn_txt for VEP R100 ANNOTATE: COVHA-20200312-P3-A05-N due to error\n",
      "'NoneType' object has no attribute 'id'\n",
      "Skipping warn_txt for VEP R100 ANNOTATE: COVHA-20200314-P7-G03-N due to error\n"
     ]
    },
    {
     "name": "stderr",
     "output_type": "stream",
     "text": [
      "Valid task found VEP R100 ANNOTATE: COVHA-20200313-P4-G04-P\n",
      "Valid task found VEP R100 ANNOTATE: COVHA-20200311-P1-B06-N\n",
      "Valid task found VEP R100 ANNOTATE: COVHA-20200314-P7-C09-N\n"
     ]
    },
    {
     "name": "stdout",
     "output_type": "stream",
     "text": [
      "'NoneType' object has no attribute 'id'\n",
      "Skipping warn_txt for VEP R100 ANNOTATE: COVHA-20200311-P1-B06-N due to error\n",
      "'NoneType' object has no attribute 'id'\n",
      "Skipping warn_txt for VEP R100 ANNOTATE: COVHA-20200314-P7-C09-N due to error\n"
     ]
    },
    {
     "name": "stderr",
     "output_type": "stream",
     "text": [
      "Valid task found VEP R100 ANNOTATE: COVHA-20200314-P7-A08-N\n",
      "Valid task found VEP R100 ANNOTATE: COVHA-20200311-P1-B07-N\n",
      "Valid task found VEP R100 ANNOTATE: COVHA-20200313-P5-H01-N\n"
     ]
    },
    {
     "name": "stdout",
     "output_type": "stream",
     "text": [
      "'NoneType' object has no attribute 'id'\n",
      "Skipping warn_txt for VEP R100 ANNOTATE: COVHA-20200311-P1-B07-N due to error\n",
      "'NoneType' object has no attribute 'id'\n",
      "Skipping warn_txt for VEP R100 ANNOTATE: COVHA-20200313-P5-H01-N due to error\n"
     ]
    },
    {
     "name": "stderr",
     "output_type": "stream",
     "text": [
      "Valid task found VEP R100 ANNOTATE: COVHA-20200312-P2-G01-N\n",
      "Valid task found VEP R100 ANNOTATE: COVHA-20200312-P3-D02-N\n"
     ]
    },
    {
     "name": "stdout",
     "output_type": "stream",
     "text": [
      "'NoneType' object has no attribute 'id'\n",
      "Skipping warn_txt for VEP R100 ANNOTATE: COVHA-20200312-P2-G01-N due to error\n",
      "'NoneType' object has no attribute 'id'\n",
      "Skipping warn_txt for VEP R100 ANNOTATE: COVHA-20200312-P3-D02-N due to error\n"
     ]
    },
    {
     "name": "stderr",
     "output_type": "stream",
     "text": [
      "Valid task found VEP R100 ANNOTATE: COVHA-20200314-P6-A04-CN\n",
      "Valid task found VEP R100 ANNOTATE: COVHA-20200314-P6-H01-N\n"
     ]
    },
    {
     "name": "stdout",
     "output_type": "stream",
     "text": [
      "'NoneType' object has no attribute 'id'\n",
      "Skipping warn_txt for VEP R100 ANNOTATE: COVHA-20200314-P6-H01-N due to error\n"
     ]
    },
    {
     "name": "stderr",
     "output_type": "stream",
     "text": [
      "Valid task found VEP R100 ANNOTATE: COVHA-20200312-P3-E06-N\n",
      "Valid task found VEP R100 ANNOTATE: COVHA-20200314-P6-D08-N\n"
     ]
    },
    {
     "name": "stdout",
     "output_type": "stream",
     "text": [
      "'NoneType' object has no attribute 'id'\n",
      "Skipping warn_txt for VEP R100 ANNOTATE: COVHA-20200312-P3-E06-N due to error\n",
      "'NoneType' object has no attribute 'id'\n",
      "Skipping warn_txt for VEP R100 ANNOTATE: COVHA-20200314-P6-D08-N due to error\n"
     ]
    },
    {
     "name": "stderr",
     "output_type": "stream",
     "text": [
      "Valid task found VEP R100 ANNOTATE: COVHA-20200312-P3-E05-N\n",
      "Valid task found VEP R100 ANNOTATE: COVHA-20200313-P4-F04-N\n"
     ]
    },
    {
     "name": "stdout",
     "output_type": "stream",
     "text": [
      "'NoneType' object has no attribute 'id'\n",
      "Skipping warn_txt for VEP R100 ANNOTATE: COVHA-20200312-P3-E05-N due to error\n",
      "'NoneType' object has no attribute 'id'\n",
      "Skipping warn_txt for VEP R100 ANNOTATE: COVHA-20200313-P4-F04-N due to error\n"
     ]
    },
    {
     "name": "stderr",
     "output_type": "stream",
     "text": [
      "Valid task found VEP R100 ANNOTATE: COVHA-20200313-P5-E02-N\n",
      "Valid task found VEP R100 ANNOTATE: COVHA-20200314-P7-C03-N\n",
      "Valid task found VEP R100 ANNOTATE: COVHA-20200313-P4-C04-N\n"
     ]
    },
    {
     "name": "stdout",
     "output_type": "stream",
     "text": [
      "'NoneType' object has no attribute 'id'\n",
      "Skipping warn_txt for VEP R100 ANNOTATE: COVHA-20200314-P7-C03-N due to error\n",
      "'NoneType' object has no attribute 'id'\n",
      "Skipping warn_txt for VEP R100 ANNOTATE: COVHA-20200313-P4-C04-N due to error\n"
     ]
    },
    {
     "name": "stderr",
     "output_type": "stream",
     "text": [
      "Valid task found VEP R100 ANNOTATE: COVHA-20200312-P3-A06-N\n",
      "Valid task found VEP R100 ANNOTATE: COVHA-20200313-P4-B04-N\n",
      "Valid task found VEP R100 ANNOTATE: COVHA-20200314-P6-E06-N\n"
     ]
    },
    {
     "name": "stdout",
     "output_type": "stream",
     "text": [
      "'NoneType' object has no attribute 'id'\n",
      "Skipping warn_txt for VEP R100 ANNOTATE: COVHA-20200313-P4-B04-N due to error\n"
     ]
    },
    {
     "name": "stderr",
     "output_type": "stream",
     "text": [
      "Valid task found VEP R100 ANNOTATE: COVHA-20200312-P3-C07-P\n",
      "Valid task found VEP R100 ANNOTATE: COVHA-20200312-P3-C03-N\n"
     ]
    },
    {
     "name": "stdout",
     "output_type": "stream",
     "text": [
      "'NoneType' object has no attribute 'id'\n",
      "Skipping warn_txt for VEP R100 ANNOTATE: COVHA-20200312-P3-C07-P due to error\n",
      "'NoneType' object has no attribute 'id'\n",
      "Skipping warn_txt for VEP R100 ANNOTATE: COVHA-20200312-P3-C03-N due to error\n"
     ]
    },
    {
     "name": "stderr",
     "output_type": "stream",
     "text": [
      "Valid task found VEP R100 ANNOTATE: COVHA-20200314-P6-A08-N\n",
      "Valid task found VEP R100 ANNOTATE: COVHA-20200314-P7-D07-N\n"
     ]
    },
    {
     "name": "stdout",
     "output_type": "stream",
     "text": [
      "'NoneType' object has no attribute 'id'\n",
      "Skipping warn_txt for VEP R100 ANNOTATE: COVHA-20200314-P6-A08-N due to error\n",
      "'NoneType' object has no attribute 'id'\n",
      "Skipping warn_txt for VEP R100 ANNOTATE: COVHA-20200314-P7-D07-N due to error\n"
     ]
    },
    {
     "name": "stderr",
     "output_type": "stream",
     "text": [
      "Valid task found VEP R100 ANNOTATE: COVHA-20200312-P2-G03-N\n",
      "Valid task found VEP R100 ANNOTATE: COVHA-20200313-P4-H04-N\n"
     ]
    },
    {
     "name": "stdout",
     "output_type": "stream",
     "text": [
      "'NoneType' object has no attribute 'id'\n",
      "Skipping warn_txt for VEP R100 ANNOTATE: COVHA-20200312-P2-G03-N due to error\n",
      "'NoneType' object has no attribute 'id'\n",
      "Skipping warn_txt for VEP R100 ANNOTATE: COVHA-20200313-P4-H04-N due to error\n"
     ]
    },
    {
     "name": "stderr",
     "output_type": "stream",
     "text": [
      "Valid task found VEP R100 ANNOTATE: COVHA-20200314-P7-B01-CN\n",
      "Valid task found VEP R100 ANNOTATE: COVHA-20200313-P4-B05-N\n"
     ]
    },
    {
     "name": "stdout",
     "output_type": "stream",
     "text": [
      "'NoneType' object has no attribute 'id'\n",
      "Skipping warn_txt for VEP R100 ANNOTATE: COVHA-20200314-P7-B01-CN due to error\n",
      "'NoneType' object has no attribute 'id'\n",
      "Skipping warn_txt for VEP R100 ANNOTATE: COVHA-20200313-P4-B05-N due to error\n"
     ]
    },
    {
     "name": "stderr",
     "output_type": "stream",
     "text": [
      "Valid task found VEP R100 ANNOTATE: COVHA-20200311-P1-A03-N\n",
      "Valid task found VEP R100 ANNOTATE: COVHA-20200314-P6-E05-P\n"
     ]
    },
    {
     "name": "stdout",
     "output_type": "stream",
     "text": [
      "'NoneType' object has no attribute 'id'\n",
      "Skipping warn_txt for VEP R100 ANNOTATE: COVHA-20200311-P1-A03-N due to error\n"
     ]
    },
    {
     "name": "stderr",
     "output_type": "stream",
     "text": [
      "Valid task found VEP R100 ANNOTATE: COVHA-20200313-P4-C02-N\n",
      "Valid task found VEP R100 ANNOTATE: COVHA-20200311-P1-F01-N\n"
     ]
    },
    {
     "name": "stdout",
     "output_type": "stream",
     "text": [
      "'NoneType' object has no attribute 'id'\n",
      "Skipping warn_txt for VEP R100 ANNOTATE: COVHA-20200313-P4-C02-N due to error\n",
      "'NoneType' object has no attribute 'id'\n",
      "Skipping warn_txt for VEP R100 ANNOTATE: COVHA-20200311-P1-F01-N due to error\n",
      "'NoneType' object has no attribute 'id'\n",
      "Skipping warn_txt for VEP R100 ANNOTATE: COVHA-20200312-P3-H05-P due to error\n"
     ]
    },
    {
     "name": "stderr",
     "output_type": "stream",
     "text": [
      "Valid task found VEP R100 ANNOTATE: COVHA-20200312-P3-H05-P\n",
      "Valid task found VEP R100 ANNOTATE: COVHA-20200311-P1-A06-P\n",
      "Valid task found VEP R100 ANNOTATE: COVHA-20200312-P3-H07-N\n"
     ]
    },
    {
     "name": "stdout",
     "output_type": "stream",
     "text": [
      "'NoneType' object has no attribute 'id'\n",
      "Skipping warn_txt for VEP R100 ANNOTATE: COVHA-20200312-P3-H07-N due to error\n",
      "'NoneType' object has no attribute 'id'\n",
      "Skipping warn_txt for VEP R100 ANNOTATE: COVHA-20200311-P1-D05-N due to error\n"
     ]
    },
    {
     "name": "stderr",
     "output_type": "stream",
     "text": [
      "Valid task found VEP R100 ANNOTATE: COVHA-20200311-P1-D05-N\n",
      "Valid task found VEP R100 ANNOTATE: COVHA-20200314-P9-D04-N\n"
     ]
    },
    {
     "name": "stdout",
     "output_type": "stream",
     "text": [
      "'NoneType' object has no attribute 'id'\n",
      "Skipping warn_txt for VEP R100 ANNOTATE: COVHA-20200314-P9-D04-N due to error\n",
      "'NoneType' object has no attribute 'id'\n",
      "Skipping warn_txt for VEP R100 ANNOTATE: COVHA-20200314-P6-C03-N due to error\n"
     ]
    },
    {
     "name": "stderr",
     "output_type": "stream",
     "text": [
      "Valid task found VEP R100 ANNOTATE: COVHA-20200314-P6-C03-N\n",
      "Valid task found VEP R100 ANNOTATE: COVHA-20200314-P8-H01-N\n",
      "Valid task found VEP R100 ANNOTATE: COVHA-20200311-P1-G08-N\n"
     ]
    },
    {
     "name": "stdout",
     "output_type": "stream",
     "text": [
      "'NoneType' object has no attribute 'id'\n",
      "Skipping warn_txt for VEP R100 ANNOTATE: COVHA-20200311-P1-G08-N due to error\n",
      "'NoneType' object has no attribute 'id'\n",
      "Skipping warn_txt for VEP R100 ANNOTATE: COVHA-20200314-P7-D08-N due to error\n"
     ]
    },
    {
     "name": "stderr",
     "output_type": "stream",
     "text": [
      "Valid task found VEP R100 ANNOTATE: COVHA-20200314-P7-D08-N\n",
      "Valid task found VEP R100 ANNOTATE: COVHA-20200314-P8-B05-N\n"
     ]
    },
    {
     "name": "stdout",
     "output_type": "stream",
     "text": [
      "'NoneType' object has no attribute 'id'\n",
      "Skipping warn_txt for VEP R100 ANNOTATE: COVHA-20200314-P8-B05-N due to error\n",
      "'NoneType' object has no attribute 'id'\n",
      "Skipping warn_txt for VEP R100 ANNOTATE: COVHA-20200314-P8-F05-N due to error\n"
     ]
    },
    {
     "name": "stderr",
     "output_type": "stream",
     "text": [
      "Valid task found VEP R100 ANNOTATE: COVHA-20200314-P8-F05-N\n",
      "Valid task found VEP R100 ANNOTATE: COVHA-20200314-P6-F07-N\n",
      "Valid task found VEP R100 ANNOTATE: COVHA-20200314-P7-C04-N\n",
      "Valid task found VEP R100 ANNOTATE: COVHA-20200314-P6-G03-N\n"
     ]
    },
    {
     "name": "stdout",
     "output_type": "stream",
     "text": [
      "'NoneType' object has no attribute 'id'\n",
      "Skipping warn_txt for VEP R100 ANNOTATE: COVHA-20200314-P7-C04-N due to error\n",
      "'NoneType' object has no attribute 'id'\n",
      "Skipping warn_txt for VEP R100 ANNOTATE: COVHA-20200314-P6-G03-N due to error\n"
     ]
    },
    {
     "name": "stderr",
     "output_type": "stream",
     "text": [
      "Valid task found VEP R100 ANNOTATE: COVHA-20200312-P3-G06-N\n",
      "Valid task found VEP R100 ANNOTATE: COVHA-20200312-P2-C05-N\n"
     ]
    },
    {
     "name": "stdout",
     "output_type": "stream",
     "text": [
      "'NoneType' object has no attribute 'id'\n",
      "Skipping warn_txt for VEP R100 ANNOTATE: COVHA-20200312-P3-G06-N due to error\n",
      "'NoneType' object has no attribute 'id'\n",
      "Skipping warn_txt for VEP R100 ANNOTATE: COVHA-20200312-P2-C05-N due to error\n"
     ]
    },
    {
     "name": "stderr",
     "output_type": "stream",
     "text": [
      "Valid task found VEP R100 ANNOTATE: COVHA-20200314-P6-G06-N\n",
      "Valid task found VEP R100 ANNOTATE: COVHA-20200314-P9-A09-N\n"
     ]
    },
    {
     "name": "stdout",
     "output_type": "stream",
     "text": [
      "'NoneType' object has no attribute 'id'\n",
      "Skipping warn_txt for VEP R100 ANNOTATE: COVHA-20200314-P6-G06-N due to error\n",
      "'NoneType' object has no attribute 'id'\n",
      "Skipping warn_txt for VEP R100 ANNOTATE: COVHA-20200314-P9-A09-N due to error\n"
     ]
    },
    {
     "name": "stderr",
     "output_type": "stream",
     "text": [
      "Valid task found VEP R100 ANNOTATE: COVHA-20200314-P9-E07-N\n",
      "Valid task found VEP R100 ANNOTATE: COVHA-20200313-P4-G03-N\n"
     ]
    },
    {
     "name": "stdout",
     "output_type": "stream",
     "text": [
      "'NoneType' object has no attribute 'id'\n",
      "Skipping warn_txt for VEP R100 ANNOTATE: COVHA-20200314-P9-E07-N due to error\n"
     ]
    },
    {
     "name": "stderr",
     "output_type": "stream",
     "text": [
      "Valid task found VEP R100 ANNOTATE: COVHA-20200314-P9-D07-N\n",
      "Valid task found VEP R100 ANNOTATE: COVHA-20200312-P3-F04-N\n"
     ]
    },
    {
     "name": "stdout",
     "output_type": "stream",
     "text": [
      "'NoneType' object has no attribute 'id'\n",
      "Skipping warn_txt for VEP R100 ANNOTATE: COVHA-20200314-P9-D07-N due to error\n"
     ]
    },
    {
     "name": "stderr",
     "output_type": "stream",
     "text": [
      "Valid task found VEP R100 ANNOTATE: COVHA-20200314-P7-A04-CN\n",
      "Valid task found VEP R100 ANNOTATE: COVHA-20200312-P3-H03-P\n"
     ]
    },
    {
     "name": "stdout",
     "output_type": "stream",
     "text": [
      "'NoneType' object has no attribute 'id'\n",
      "Skipping warn_txt for VEP R100 ANNOTATE: COVHA-20200314-P7-A04-CN due to error\n",
      "'NoneType' object has no attribute 'id'\n",
      "Skipping warn_txt for VEP R100 ANNOTATE: COVHA-20200312-P3-H03-P due to error\n"
     ]
    },
    {
     "name": "stderr",
     "output_type": "stream",
     "text": [
      "Valid task found VEP R100 ANNOTATE: COVHA-20200314-P7-C06-P\n",
      "Valid task found VEP R100 ANNOTATE: COVHA-20200313-P4-B02-N\n"
     ]
    },
    {
     "name": "stdout",
     "output_type": "stream",
     "text": [
      "'NoneType' object has no attribute 'id'\n",
      "Skipping warn_txt for VEP R100 ANNOTATE: COVHA-20200313-P4-B02-N due to error\n",
      "'NoneType' object has no attribute 'id'\n",
      "Skipping warn_txt for VEP R100 ANNOTATE: COVHA-20200314-P6-E01-N due to error\n"
     ]
    },
    {
     "name": "stderr",
     "output_type": "stream",
     "text": [
      "Valid task found VEP R100 ANNOTATE: COVHA-20200314-P6-E01-N\n",
      "Valid task found VEP R100 ANNOTATE: COVHA-20200314-P9-E08-N\n"
     ]
    },
    {
     "name": "stdout",
     "output_type": "stream",
     "text": [
      "'NoneType' object has no attribute 'id'\n",
      "Skipping warn_txt for VEP R100 ANNOTATE: COVHA-20200314-P9-E08-N due to error\n"
     ]
    },
    {
     "name": "stderr",
     "output_type": "stream",
     "text": [
      "Valid task found VEP R100 ANNOTATE: COVHA-20200313-P5-G03-P\n",
      "Valid task found VEP R100 ANNOTATE: COVHA-20200313-P5-D01-N\n",
      "Valid task found VEP R100 ANNOTATE: COVHA-20200314-P8-G05-N\n"
     ]
    },
    {
     "name": "stdout",
     "output_type": "stream",
     "text": [
      "'NoneType' object has no attribute 'id'\n",
      "Skipping warn_txt for VEP R100 ANNOTATE: COVHA-20200313-P5-D01-N due to error\n",
      "'NoneType' object has no attribute 'id'\n",
      "Skipping warn_txt for VEP R100 ANNOTATE: COVHA-20200314-P8-G05-N due to error\n"
     ]
    },
    {
     "name": "stderr",
     "output_type": "stream",
     "text": [
      "Valid task found VEP R100 ANNOTATE: COVHA-20200313-P5-A04-CN\n",
      "Valid task found VEP R100 ANNOTATE: COVHA-20200312-P2-F02-P\n"
     ]
    },
    {
     "name": "stdout",
     "output_type": "stream",
     "text": [
      "'NoneType' object has no attribute 'id'\n",
      "Skipping warn_txt for VEP R100 ANNOTATE: COVHA-20200313-P5-A04-CN due to error\n",
      "'NoneType' object has no attribute 'id'\n",
      "Skipping warn_txt for VEP R100 ANNOTATE: COVHA-20200312-P2-F02-P due to error\n"
     ]
    },
    {
     "name": "stderr",
     "output_type": "stream",
     "text": [
      "Valid task found VEP R100 ANNOTATE: COVHA-20200314-P6-H02-P\n",
      "Valid task found VEP R100 ANNOTATE: COVHA-20200311-P1-G06-N\n",
      "Valid task found VEP R100 ANNOTATE: COVHA-20200314-P8-A04-CN\n",
      "Valid task found VEP R100 ANNOTATE: COVHA-20200314-P9-C07-N\n"
     ]
    },
    {
     "name": "stdout",
     "output_type": "stream",
     "text": [
      "'NoneType' object has no attribute 'id'\n",
      "Skipping warn_txt for VEP R100 ANNOTATE: COVHA-20200314-P8-A04-CN due to error\n",
      "'NoneType' object has no attribute 'id'\n",
      "Skipping warn_txt for VEP R100 ANNOTATE: COVHA-20200314-P9-C07-N due to error\n"
     ]
    },
    {
     "name": "stderr",
     "output_type": "stream",
     "text": [
      "Valid task found VEP R100 ANNOTATE: COVHA-20200314-P6-F09-N\n",
      "Valid task found VEP R100 ANNOTATE: COVHA-20200314-P8-C05-N\n"
     ]
    },
    {
     "name": "stdout",
     "output_type": "stream",
     "text": [
      "'NoneType' object has no attribute 'id'\n",
      "Skipping warn_txt for VEP R100 ANNOTATE: COVHA-20200314-P6-F09-N due to error\n",
      "'NoneType' object has no attribute 'id'\n",
      "Skipping warn_txt for VEP R100 ANNOTATE: COVHA-20200314-P8-C05-N due to error\n"
     ]
    },
    {
     "name": "stderr",
     "output_type": "stream",
     "text": [
      "Valid task found VEP R100 ANNOTATE: COVHA-20200313-P4-E03-N\n",
      "Valid task found VEP R100 ANNOTATE: COVHA-20200312-P3-D01-N\n",
      "Valid task found VEP R100 ANNOTATE: COVHA-20200313-P5-C01-N\n"
     ]
    },
    {
     "name": "stdout",
     "output_type": "stream",
     "text": [
      "'NoneType' object has no attribute 'id'\n",
      "Skipping warn_txt for VEP R100 ANNOTATE: COVHA-20200312-P3-D01-N due to error\n"
     ]
    },
    {
     "name": "stderr",
     "output_type": "stream",
     "text": [
      "Valid task found VEP R100 ANNOTATE: COVHA-20200312-P2-E03-N\n",
      "Valid task found VEP R100 ANNOTATE: COVHA-20200312-P3-H04-N\n"
     ]
    },
    {
     "name": "stdout",
     "output_type": "stream",
     "text": [
      "'NoneType' object has no attribute 'id'\n",
      "Skipping warn_txt for VEP R100 ANNOTATE: COVHA-20200312-P2-E03-N due to error\n"
     ]
    },
    {
     "name": "stderr",
     "output_type": "stream",
     "text": [
      "Valid task found VEP R100 ANNOTATE: COVHA-20200313-P5-G01-N\n",
      "Valid task found VEP R100 ANNOTATE: COVHA-20200314-P6-D03-P\n"
     ]
    },
    {
     "name": "stdout",
     "output_type": "stream",
     "text": [
      "'NoneType' object has no attribute 'id'\n",
      "Skipping warn_txt for VEP R100 ANNOTATE: COVHA-20200313-P5-G01-N due to error\n"
     ]
    },
    {
     "name": "stderr",
     "output_type": "stream",
     "text": [
      "Valid task found VEP R100 ANNOTATE: COVHA-20200311-P1-H05-N\n",
      "Valid task found VEP R100 ANNOTATE: COVHA-20200312-P3-B05-N\n"
     ]
    },
    {
     "name": "stdout",
     "output_type": "stream",
     "text": [
      "'NoneType' object has no attribute 'id'\n",
      "Skipping warn_txt for VEP R100 ANNOTATE: COVHA-20200311-P1-H05-N due to error\n",
      "'NoneType' object has no attribute 'id'\n",
      "Skipping warn_txt for VEP R100 ANNOTATE: COVHA-20200312-P3-B05-N due to error\n"
     ]
    },
    {
     "name": "stderr",
     "output_type": "stream",
     "text": [
      "Valid task found VEP R100 ANNOTATE: COVHA-20200312-P2-B02-N\n",
      "Valid task found VEP R100 ANNOTATE: COVHA-20200314-P6-B08-N\n"
     ]
    },
    {
     "name": "stdout",
     "output_type": "stream",
     "text": [
      "'NoneType' object has no attribute 'id'\n",
      "Skipping warn_txt for VEP R100 ANNOTATE: COVHA-20200312-P2-B02-N due to error\n",
      "'NoneType' object has no attribute 'id'\n",
      "Skipping warn_txt for VEP R100 ANNOTATE: COVHA-20200314-P6-B08-N due to error\n"
     ]
    },
    {
     "name": "stderr",
     "output_type": "stream",
     "text": [
      "Valid task found VEP R100 ANNOTATE: COVHA-20200314-P9-E03-N\n",
      "Valid task found VEP R100 ANNOTATE: COVHA-20200311-P1-C03-N\n"
     ]
    },
    {
     "name": "stdout",
     "output_type": "stream",
     "text": [
      "'NoneType' object has no attribute 'id'\n",
      "Skipping warn_txt for VEP R100 ANNOTATE: COVHA-20200314-P9-E03-N due to error\n",
      "'NoneType' object has no attribute 'id'\n",
      "Skipping warn_txt for VEP R100 ANNOTATE: COVHA-20200311-P1-C03-N due to error\n"
     ]
    },
    {
     "name": "stderr",
     "output_type": "stream",
     "text": [
      "Valid task found VEP R100 ANNOTATE: COVHA-20200312-P2-C04-N\n",
      "Valid task found VEP R100 ANNOTATE: COVHA-20200312-P3-D03-N\n"
     ]
    },
    {
     "name": "stdout",
     "output_type": "stream",
     "text": [
      "'NoneType' object has no attribute 'id'\n",
      "Skipping warn_txt for VEP R100 ANNOTATE: COVHA-20200312-P2-C04-N due to error\n",
      "'NoneType' object has no attribute 'id'\n",
      "Skipping warn_txt for VEP R100 ANNOTATE: COVHA-20200312-P3-D03-N due to error\n"
     ]
    },
    {
     "name": "stderr",
     "output_type": "stream",
     "text": [
      "Valid task found VEP R100 ANNOTATE: COVHA-20200314-P6-E03-N\n",
      "Valid task found VEP R100 ANNOTATE: COVHA-20200314-P7-H05-N\n"
     ]
    },
    {
     "name": "stdout",
     "output_type": "stream",
     "text": [
      "'NoneType' object has no attribute 'id'\n",
      "Skipping warn_txt for VEP R100 ANNOTATE: COVHA-20200314-P6-E03-N due to error\n",
      "'NoneType' object has no attribute 'id'\n",
      "Skipping warn_txt for VEP R100 ANNOTATE: COVHA-20200314-P7-H05-N due to error\n"
     ]
    },
    {
     "name": "stderr",
     "output_type": "stream",
     "text": [
      "Valid task found VEP R100 ANNOTATE: COVHA-20200314-P7-G06-N\n",
      "Valid task found VEP R100 ANNOTATE: COVHA-20200314-P9-D08-N\n"
     ]
    },
    {
     "name": "stdout",
     "output_type": "stream",
     "text": [
      "'NoneType' object has no attribute 'id'\n",
      "Skipping warn_txt for VEP R100 ANNOTATE: COVHA-20200314-P7-G06-N due to error\n",
      "'NoneType' object has no attribute 'id'\n",
      "Skipping warn_txt for VEP R100 ANNOTATE: COVHA-20200314-P9-D08-N due to error\n"
     ]
    },
    {
     "name": "stderr",
     "output_type": "stream",
     "text": [
      "Valid task found VEP R100 ANNOTATE: COVHA-20200314-P9-C06-P\n",
      "Valid task found VEP R100 ANNOTATE: COVHA-20200312-P3-D07-N\n",
      "Valid task found VEP R100 ANNOTATE: COVHA-20200312-P3-G07-N\n"
     ]
    },
    {
     "name": "stdout",
     "output_type": "stream",
     "text": [
      "'NoneType' object has no attribute 'id'\n",
      "Skipping warn_txt for VEP R100 ANNOTATE: COVHA-20200312-P3-D07-N due to error\n"
     ]
    },
    {
     "name": "stderr",
     "output_type": "stream",
     "text": [
      "Valid task found VEP R100 ANNOTATE: COVHA-20200314-P6-A09-N\n",
      "Valid task found VEP R100 ANNOTATE: COVHA-20200314-P8-H05-N\n"
     ]
    },
    {
     "name": "stdout",
     "output_type": "stream",
     "text": [
      "'NoneType' object has no attribute 'id'\n",
      "Skipping warn_txt for VEP R100 ANNOTATE: COVHA-20200314-P6-A09-N due to error\n",
      "'NoneType' object has no attribute 'id'\n",
      "Skipping warn_txt for VEP R100 ANNOTATE: COVHA-20200314-P8-H05-N due to error\n"
     ]
    },
    {
     "name": "stderr",
     "output_type": "stream",
     "text": [
      "Valid task found VEP R100 ANNOTATE: COVHA-20200314-P6-E02-N\n",
      "Valid task found VEP R100 ANNOTATE: COVHA-20200311-P1-D08-P\n"
     ]
    },
    {
     "name": "stdout",
     "output_type": "stream",
     "text": [
      "'NoneType' object has no attribute 'id'\n",
      "Skipping warn_txt for VEP R100 ANNOTATE: COVHA-20200314-P6-E02-N due to error\n"
     ]
    },
    {
     "name": "stderr",
     "output_type": "stream",
     "text": [
      "Valid task found VEP R100 ANNOTATE: COVHA-20200313-P4-G02-N\n",
      "Valid task found VEP R100 ANNOTATE: COVHA-20200314-P7-F02-P\n"
     ]
    },
    {
     "name": "stdout",
     "output_type": "stream",
     "text": [
      "'NoneType' object has no attribute 'id'\n",
      "Skipping warn_txt for VEP R100 ANNOTATE: COVHA-20200313-P4-G02-N due to error\n"
     ]
    },
    {
     "name": "stderr",
     "output_type": "stream",
     "text": [
      "Valid task found VEP R100 ANNOTATE: COVHA-20200314-P7-D03-P\n",
      "Valid task found VEP R100 ANNOTATE: COVHA-20200314-P7-E03-P\n",
      "Valid task found VEP R100 ANNOTATE: COVHA-20200312-P2-D05-N\n",
      "Valid task found VEP R100 ANNOTATE: COVHA-20200314-P6-A01-CP\n"
     ]
    },
    {
     "name": "stdout",
     "output_type": "stream",
     "text": [
      "'NoneType' object has no attribute 'id'\n",
      "Skipping warn_txt for VEP R100 ANNOTATE: COVHA-20200312-P2-D05-N due to error\n"
     ]
    },
    {
     "name": "stderr",
     "output_type": "stream",
     "text": [
      "Valid task found VEP R100 ANNOTATE: COVHA-20200313-P4-F02-N\n",
      "Valid task found VEP R100 ANNOTATE: COVHA-20200314-P7-F07-N\n"
     ]
    },
    {
     "name": "stdout",
     "output_type": "stream",
     "text": [
      "'NoneType' object has no attribute 'id'\n",
      "Skipping warn_txt for VEP R100 ANNOTATE: COVHA-20200313-P4-F02-N due to error\n",
      "'NoneType' object has no attribute 'id'\n",
      "Skipping warn_txt for VEP R100 ANNOTATE: COVHA-20200314-P7-F07-N due to error\n",
      "'NoneType' object has no attribute 'id'\n",
      "Skipping warn_txt for VEP R100 ANNOTATE: COVHA-20200314-P7-D06-N due to error\n"
     ]
    },
    {
     "name": "stderr",
     "output_type": "stream",
     "text": [
      "Valid task found VEP R100 ANNOTATE: COVHA-20200314-P7-D06-N\n",
      "Valid task found VEP R100 ANNOTATE: COVHA-20200313-P5-C02-N\n"
     ]
    },
    {
     "name": "stdout",
     "output_type": "stream",
     "text": [
      "'NoneType' object has no attribute 'id'\n",
      "Skipping warn_txt for VEP R100 ANNOTATE: COVHA-20200313-P5-C02-N due to error\n"
     ]
    },
    {
     "name": "stderr",
     "output_type": "stream",
     "text": [
      "Valid task found VEP R100 ANNOTATE: COVHA-20200311-P1-D07-N\n",
      "Valid task found VEP R100 ANNOTATE: COVHA-20200313-P4-D02-N\n"
     ]
    },
    {
     "name": "stdout",
     "output_type": "stream",
     "text": [
      "'NoneType' object has no attribute 'id'\n",
      "Skipping warn_txt for VEP R100 ANNOTATE: COVHA-20200313-P4-D02-N due to error\n"
     ]
    },
    {
     "name": "stderr",
     "output_type": "stream",
     "text": [
      "Valid task found VEP R100 ANNOTATE: COVHA-20200314-P9-D03-P\n",
      "Valid task found VEP R100 ANNOTATE: COVHA-20200314-P8-E04-N\n"
     ]
    },
    {
     "name": "stdout",
     "output_type": "stream",
     "text": [
      "'NoneType' object has no attribute 'id'\n",
      "Skipping warn_txt for VEP R100 ANNOTATE: COVHA-20200314-P8-E04-N due to error\n",
      "'NoneType' object has no attribute 'id'\n",
      "Skipping warn_txt for VEP R100 ANNOTATE: COVHA-20200312-P2-A02-N due to error\n"
     ]
    },
    {
     "name": "stderr",
     "output_type": "stream",
     "text": [
      "Valid task found VEP R100 ANNOTATE: COVHA-20200312-P2-A02-N\n",
      "Valid task found VEP R100 ANNOTATE: COVHA-20200313-P5-E01-N\n",
      "Valid task found VEP R100 ANNOTATE: COVHA-20200313-P4-H02-N\n",
      "Valid task found VEP R100 ANNOTATE: COVHA-20200314-P6-H06-N\n"
     ]
    },
    {
     "name": "stdout",
     "output_type": "stream",
     "text": [
      "'NoneType' object has no attribute 'id'\n",
      "Skipping warn_txt for VEP R100 ANNOTATE: COVHA-20200313-P4-H02-N due to error\n",
      "'NoneType' object has no attribute 'id'\n",
      "Skipping warn_txt for VEP R100 ANNOTATE: COVHA-20200314-P6-H06-N due to error\n"
     ]
    },
    {
     "name": "stderr",
     "output_type": "stream",
     "text": [
      "Valid task found VEP R100 ANNOTATE: COVHA-20200311-P1-G04-N\n"
     ]
    },
    {
     "name": "stdout",
     "output_type": "stream",
     "text": [
      "'NoneType' object has no attribute 'id'\n",
      "Skipping warn_txt for VEP R100 ANNOTATE: COVHA-20200311-P1-G04-N due to error\n",
      "'NoneType' object has no attribute 'id'\n",
      "Skipping warn_txt for VEP R100 ANNOTATE: COVHA-20200311-P1-E06-N due to error\n"
     ]
    },
    {
     "name": "stderr",
     "output_type": "stream",
     "text": [
      "Valid task found VEP R100 ANNOTATE: COVHA-20200311-P1-E06-N\n",
      "Valid task found VEP R100 ANNOTATE: COVHA-20200314-P6-C04-P\n",
      "Valid task found VEP R100 ANNOTATE: COVHA-20200314-P7-B03-P\n",
      "Valid task found VEP R100 ANNOTATE: COVHA-20200312-P3-B04-N\n",
      "Valid task found VEP R100 ANNOTATE: COVHA-20200313-P4-D03-N\n",
      "Valid task found VEP R100 ANNOTATE: COVHA-20200312-P2-B04-P\n"
     ]
    },
    {
     "name": "stdout",
     "output_type": "stream",
     "text": [
      "'NoneType' object has no attribute 'id'\n",
      "Skipping warn_txt for VEP R100 ANNOTATE: COVHA-20200313-P4-D03-N due to error\n"
     ]
    },
    {
     "name": "stderr",
     "output_type": "stream",
     "text": [
      "Valid task found VEP R100 ANNOTATE: COVHA-20200311-P9-H08-N\n",
      "Valid task found VEP R100 ANNOTATE: COVHA-20200314-P6-B09-P\n"
     ]
    },
    {
     "name": "stdout",
     "output_type": "stream",
     "text": [
      "'NoneType' object has no attribute 'id'\n",
      "Skipping warn_txt for VEP R100 ANNOTATE: COVHA-20200311-P9-H08-N due to error\n"
     ]
    },
    {
     "name": "stderr",
     "output_type": "stream",
     "text": [
      "Valid task found VEP R100 ANNOTATE: COVHA-20200312-P3-C01-N\n",
      "Valid task found VEP R100 ANNOTATE: COVHA-20200312-P3-G03-P\n"
     ]
    },
    {
     "name": "stdout",
     "output_type": "stream",
     "text": [
      "'NoneType' object has no attribute 'id'\n",
      "Skipping warn_txt for VEP R100 ANNOTATE: COVHA-20200312-P3-C01-N due to error\n",
      "'NoneType' object has no attribute 'id'\n",
      "Skipping warn_txt for VEP R100 ANNOTATE: COVHA-20200312-P3-G03-P due to error\n"
     ]
    },
    {
     "name": "stderr",
     "output_type": "stream",
     "text": [
      "Valid task found VEP R100 ANNOTATE: COVHA-20200314-P6-E07-N\n",
      "Valid task found VEP R100 ANNOTATE: COVHA-20200311-P1-C04-N\n"
     ]
    },
    {
     "name": "stdout",
     "output_type": "stream",
     "text": [
      "'NoneType' object has no attribute 'id'\n",
      "Skipping warn_txt for VEP R100 ANNOTATE: COVHA-20200314-P6-E07-N due to error\n",
      "'NoneType' object has no attribute 'id'\n",
      "Skipping warn_txt for VEP R100 ANNOTATE: COVHA-20200311-P1-C04-N due to error\n"
     ]
    },
    {
     "name": "stderr",
     "output_type": "stream",
     "text": [
      "Valid task found VEP R100 ANNOTATE: COVHA-20200312-P2-E04-N\n"
     ]
    },
    {
     "name": "stdout",
     "output_type": "stream",
     "text": [
      "'NoneType' object has no attribute 'id'\n",
      "Skipping warn_txt for VEP R100 ANNOTATE: COVHA-20200312-P2-E04-N due to error\n"
     ]
    },
    {
     "name": "stderr",
     "output_type": "stream",
     "text": [
      "Valid task found VEP R100 ANNOTATE: COVHA-20200314-P9-B05-P\n",
      "Valid task found VEP R100 ANNOTATE: COVHA-20200313-P5-F05-N\n",
      "Valid task found VEP R100 ANNOTATE: COVHA-20200314-P9-B03-N\n"
     ]
    },
    {
     "name": "stdout",
     "output_type": "stream",
     "text": [
      "'NoneType' object has no attribute 'id'\n",
      "Skipping warn_txt for VEP R100 ANNOTATE: COVHA-20200313-P5-F05-N due to error\n",
      "'NoneType' object has no attribute 'id'\n",
      "Skipping warn_txt for VEP R100 ANNOTATE: COVHA-20200314-P9-B03-N due to error\n"
     ]
    },
    {
     "name": "stderr",
     "output_type": "stream",
     "text": [
      "Valid task found VEP R100 ANNOTATE: COVHA-20200314-P6-G01-N\n",
      "Valid task found VEP R100 ANNOTATE: COVHA-20200314-P6-D06-N\n"
     ]
    },
    {
     "name": "stdout",
     "output_type": "stream",
     "text": [
      "'NoneType' object has no attribute 'id'\n",
      "Skipping warn_txt for VEP R100 ANNOTATE: COVHA-20200314-P6-G01-N due to error\n",
      "'NoneType' object has no attribute 'id'\n",
      "Skipping warn_txt for VEP R100 ANNOTATE: COVHA-20200314-P6-D06-N due to error\n",
      "'NoneType' object has no attribute 'id'\n",
      "Skipping warn_txt for VEP R100 ANNOTATE: COVHA-20200313-P5-E04-N due to error\n"
     ]
    },
    {
     "name": "stderr",
     "output_type": "stream",
     "text": [
      "Valid task found VEP R100 ANNOTATE: COVHA-20200313-P5-E04-N\n",
      "Valid task found VEP R100 ANNOTATE: COVHA-20200313-P5-F04-N\n"
     ]
    },
    {
     "name": "stdout",
     "output_type": "stream",
     "text": [
      "'NoneType' object has no attribute 'id'\n",
      "Skipping warn_txt for VEP R100 ANNOTATE: COVHA-20200313-P5-F04-N due to error\n",
      "'NoneType' object has no attribute 'id'\n",
      "Skipping warn_txt for VEP R100 ANNOTATE: COVHA-20200314-P7-F08-N due to error\n"
     ]
    },
    {
     "name": "stderr",
     "output_type": "stream",
     "text": [
      "Valid task found VEP R100 ANNOTATE: COVHA-20200314-P7-F08-N\n",
      "Valid task found VEP R100 ANNOTATE: COVHA-20200314-P9-E09-N\n",
      "Valid task found VEP R100 ANNOTATE: COVHA-20200311-P1-D02-N\n",
      "Valid task found VEP R100 ANNOTATE: COVHA-20200312-P2-G04-N\n"
     ]
    },
    {
     "name": "stdout",
     "output_type": "stream",
     "text": [
      "'NoneType' object has no attribute 'id'\n",
      "Skipping warn_txt for VEP R100 ANNOTATE: COVHA-20200311-P1-D02-N due to error\n",
      "'NoneType' object has no attribute 'id'\n",
      "Skipping warn_txt for VEP R100 ANNOTATE: COVHA-20200312-P2-G04-N due to error\n"
     ]
    },
    {
     "name": "stderr",
     "output_type": "stream",
     "text": [
      "Valid task found VEP R100 ANNOTATE: COVHA-20200311-P1-F03-N\n",
      "Valid task found VEP R100 ANNOTATE: COVHA-20200314-P8-D02-N\n",
      "Valid task found VEP R100 ANNOTATE: COVHA-20200314-P6-E04-N\n",
      "Valid task found VEP R100 ANNOTATE: COVHA-20200313-P4-A03-N\n",
      "Valid task found VEP R100 ANNOTATE: COVHA-20200314-P8-A05-N\n"
     ]
    },
    {
     "name": "stdout",
     "output_type": "stream",
     "text": [
      "'NoneType' object has no attribute 'id'\n",
      "Skipping warn_txt for VEP R100 ANNOTATE: COVHA-20200313-P4-A03-N due to error\n",
      "'NoneType' object has no attribute 'id'\n",
      "Skipping warn_txt for VEP R100 ANNOTATE: COVHA-20200314-P8-A05-N due to error\n"
     ]
    },
    {
     "name": "stderr",
     "output_type": "stream",
     "text": [
      "Valid task found VEP R100 ANNOTATE: COVHA-20200314-P9-B04-N\n",
      "Valid task found VEP R100 ANNOTATE: COVHA-20200313-P5-H02-P\n"
     ]
    },
    {
     "name": "stdout",
     "output_type": "stream",
     "text": [
      "'NoneType' object has no attribute 'id'\n",
      "Skipping warn_txt for VEP R100 ANNOTATE: COVHA-20200314-P9-B04-N due to error\n"
     ]
    },
    {
     "name": "stderr",
     "output_type": "stream",
     "text": [
      "Valid task found VEP R100 ANNOTATE: COVHA-20200312-P2-E05-N\n",
      "Valid task found VEP R100 ANNOTATE: COVHA-20200314-P9-D09-N\n"
     ]
    },
    {
     "name": "stdout",
     "output_type": "stream",
     "text": [
      "'NoneType' object has no attribute 'id'\n",
      "Skipping warn_txt for VEP R100 ANNOTATE: COVHA-20200312-P2-E05-N due to error\n",
      "'NoneType' object has no attribute 'id'\n",
      "Skipping warn_txt for VEP R100 ANNOTATE: COVHA-20200314-P9-D09-N due to error\n"
     ]
    },
    {
     "name": "stderr",
     "output_type": "stream",
     "text": [
      "Valid task found VEP R100 ANNOTATE: COVHA-20200313-P5-B05-N\n",
      "Valid task found VEP R100 ANNOTATE: COVHA-20200311-P1-F06-N\n"
     ]
    },
    {
     "name": "stdout",
     "output_type": "stream",
     "text": [
      "'NoneType' object has no attribute 'id'\n",
      "Skipping warn_txt for VEP R100 ANNOTATE: COVHA-20200313-P5-B05-N due to error\n",
      "'NoneType' object has no attribute 'id'\n",
      "Skipping warn_txt for VEP R100 ANNOTATE: COVHA-20200311-P1-F06-N due to error\n"
     ]
    },
    {
     "name": "stderr",
     "output_type": "stream",
     "text": [
      "Valid task found VEP R100 ANNOTATE: COVHA-20200314-P9-E05-N\n",
      "Valid task found VEP R100 ANNOTATE: COVHA-20200314-P7-E08-P\n"
     ]
    },
    {
     "name": "stdout",
     "output_type": "stream",
     "text": [
      "'NoneType' object has no attribute 'id'\n",
      "Skipping warn_txt for VEP R100 ANNOTATE: COVHA-20200314-P9-E05-N due to error\n"
     ]
    },
    {
     "name": "stderr",
     "output_type": "stream",
     "text": [
      "Valid task found VEP R100 ANNOTATE: COVHA-20200314-P8-B02-N\n",
      "Valid task found VEP R100 ANNOTATE: COVHA-20200314-P9-H03-N\n"
     ]
    },
    {
     "name": "stdout",
     "output_type": "stream",
     "text": [
      "'NoneType' object has no attribute 'id'\n",
      "Skipping warn_txt for VEP R100 ANNOTATE: COVHA-20200314-P8-B02-N due to error\n",
      "'NoneType' object has no attribute 'id'\n",
      "Skipping warn_txt for VEP R100 ANNOTATE: COVHA-20200314-P9-H03-N due to error\n"
     ]
    },
    {
     "name": "stderr",
     "output_type": "stream",
     "text": [
      "Valid task found VEP R100 ANNOTATE: COVHA-20200313-P4-C03-N\n",
      "Valid task found VEP R100 ANNOTATE: COVHA-20200314-P9-F05-N\n"
     ]
    },
    {
     "name": "stdout",
     "output_type": "stream",
     "text": [
      "'NoneType' object has no attribute 'id'\n",
      "Skipping warn_txt for VEP R100 ANNOTATE: COVHA-20200313-P4-C03-N due to error\n",
      "'NoneType' object has no attribute 'id'\n",
      "Skipping warn_txt for VEP R100 ANNOTATE: COVHA-20200314-P9-F05-N due to error\n"
     ]
    },
    {
     "name": "stderr",
     "output_type": "stream",
     "text": [
      "Valid task found VEP R100 ANNOTATE: COVHA-20200314-P7-E02-N\n",
      "Valid task found VEP R100 ANNOTATE: COVHA-20200314-P9-F06-N\n"
     ]
    },
    {
     "name": "stdout",
     "output_type": "stream",
     "text": [
      "'NoneType' object has no attribute 'id'\n",
      "Skipping warn_txt for VEP R100 ANNOTATE: COVHA-20200314-P7-E02-N due to error\n",
      "'NoneType' object has no attribute 'id'\n",
      "Skipping warn_txt for VEP R100 ANNOTATE: COVHA-20200314-P9-F06-N due to error\n"
     ]
    },
    {
     "name": "stderr",
     "output_type": "stream",
     "text": [
      "Valid task found VEP R100 ANNOTATE: COVHA-20200314-P7-H04-N\n"
     ]
    },
    {
     "name": "stdout",
     "output_type": "stream",
     "text": [
      "'NoneType' object has no attribute 'id'\n",
      "Skipping warn_txt for VEP R100 ANNOTATE: COVHA-20200314-P7-H04-N due to error\n"
     ]
    },
    {
     "name": "stderr",
     "output_type": "stream",
     "text": [
      "Valid task found VEP R100 ANNOTATE: COVHA-20200314-P9-B07-N\n",
      "Valid task found VEP R100 ANNOTATE: COVHA-20200313-P4-E05-P\n"
     ]
    },
    {
     "name": "stdout",
     "output_type": "stream",
     "text": [
      "'NoneType' object has no attribute 'id'\n",
      "Skipping warn_txt for VEP R100 ANNOTATE: COVHA-20200314-P9-B07-N due to error\n"
     ]
    },
    {
     "name": "stderr",
     "output_type": "stream",
     "text": [
      "Valid task found VEP R100 ANNOTATE: COVHA-20200314-P9-G04-P\n",
      "Valid task found VEP R100 ANNOTATE: COVHA-20200314-P6-E09-N\n",
      "Valid task found VEP R100 ANNOTATE: COVHA-20200314-P7-D01-N\n"
     ]
    },
    {
     "name": "stdout",
     "output_type": "stream",
     "text": [
      "'NoneType' object has no attribute 'id'\n",
      "Skipping warn_txt for VEP R100 ANNOTATE: COVHA-20200314-P6-E09-N due to error\n",
      "'NoneType' object has no attribute 'id'\n",
      "Skipping warn_txt for VEP R100 ANNOTATE: COVHA-20200314-P7-D01-N due to error\n"
     ]
    },
    {
     "name": "stderr",
     "output_type": "stream",
     "text": [
      "Valid task found VEP R100 ANNOTATE: COVHA-20200314-P6-A03-N\n",
      "Valid task found VEP R100 ANNOTATE: COVHA-20200314-P7-D02-P\n"
     ]
    },
    {
     "name": "stdout",
     "output_type": "stream",
     "text": [
      "'NoneType' object has no attribute 'id'\n",
      "Skipping warn_txt for VEP R100 ANNOTATE: COVHA-20200314-P6-A03-N due to error\n",
      "'NoneType' object has no attribute 'id'\n",
      "Skipping warn_txt for VEP R100 ANNOTATE: COVHA-20200314-P7-D02-P due to error\n"
     ]
    },
    {
     "name": "stderr",
     "output_type": "stream",
     "text": [
      "Valid task found VEP R100 ANNOTATE: COVHA-20200311-P1-H08-N\n"
     ]
    },
    {
     "name": "stdout",
     "output_type": "stream",
     "text": [
      "'NoneType' object has no attribute 'id'\n",
      "Skipping warn_txt for VEP R100 ANNOTATE: COVHA-20200311-P1-H08-N due to error\n"
     ]
    },
    {
     "name": "stderr",
     "output_type": "stream",
     "text": [
      "Valid task found VEP R100 ANNOTATE: COVHA-20200314-P8-E01-P\n",
      "Valid task found VEP R100 ANNOTATE: COVHA-20200314-P8-D05-N\n",
      "Valid task found VEP R100 ANNOTATE: COVHA-20200314-P7-G02-N\n"
     ]
    },
    {
     "name": "stdout",
     "output_type": "stream",
     "text": [
      "'NoneType' object has no attribute 'id'\n",
      "Skipping warn_txt for VEP R100 ANNOTATE: COVHA-20200314-P8-D05-N due to error\n",
      "'NoneType' object has no attribute 'id'\n",
      "Skipping warn_txt for VEP R100 ANNOTATE: COVHA-20200314-P7-G02-N due to error\n"
     ]
    },
    {
     "name": "stderr",
     "output_type": "stream",
     "text": [
      "Valid task found VEP R100 ANNOTATE: COVHA-20200314-P9-A08-P\n",
      "Valid task found VEP R100 ANNOTATE: COVHA-20200314-P9-B06-P\n",
      "Valid task found VEP R100 ANNOTATE: COVHA-20200314-P8-C02-N\n"
     ]
    },
    {
     "name": "stdout",
     "output_type": "stream",
     "text": [
      "'NoneType' object has no attribute 'id'\n",
      "Skipping warn_txt for VEP R100 ANNOTATE: COVHA-20200314-P8-C02-N due to error\n",
      "'NoneType' object has no attribute 'id'\n",
      "Skipping warn_txt for VEP R100 ANNOTATE: COVHA-20200311-P1-H07-N due to error\n"
     ]
    },
    {
     "name": "stderr",
     "output_type": "stream",
     "text": [
      "Valid task found VEP R100 ANNOTATE: COVHA-20200311-P1-H07-N\n",
      "Valid task found VEP R100 ANNOTATE: COVHA-20200313-P5-E05-N\n",
      "Valid task found VEP R100 ANNOTATE: COVHA-20200312-P2-C02-P\n",
      "Valid task found VEP R100 ANNOTATE: COVHA-20200315-P10-F08-N\n",
      "Valid task found VEP R100 ANNOTATE: COVHA-20200315-P10-A01-CP\n"
     ]
    },
    {
     "name": "stdout",
     "output_type": "stream",
     "text": [
      "'NoneType' object has no attribute 'id'\n",
      "Skipping warn_txt for VEP R100 ANNOTATE: COVHA-20200315-P10-F08-N due to error\n"
     ]
    },
    {
     "name": "stderr",
     "output_type": "stream",
     "text": [
      "Valid task found VEP R100 ANNOTATE: COVHA-20200314-P8-E05-N\n",
      "Valid task found VEP R100 ANNOTATE: COVHA-20200314-P8-F03-P\n",
      "Valid task found VEP R100 ANNOTATE: COVHA-20200314-P7-B06-N\n"
     ]
    },
    {
     "name": "stdout",
     "output_type": "stream",
     "text": [
      "'NoneType' object has no attribute 'id'\n",
      "Skipping warn_txt for VEP R100 ANNOTATE: COVHA-20200314-P7-B06-N due to error\n"
     ]
    },
    {
     "name": "stderr",
     "output_type": "stream",
     "text": [
      "Valid task found VEP R100 ANNOTATE: COVHA-20200315-P10-A10-CP\n",
      "Valid task found VEP R100 ANNOTATE: COVHA-20200314-P8-G04-N\n",
      "Valid task found VEP R100 ANNOTATE: COVHA-20200314-P6-C07-N\n"
     ]
    },
    {
     "name": "stdout",
     "output_type": "stream",
     "text": [
      "'NoneType' object has no attribute 'id'\n",
      "Skipping warn_txt for VEP R100 ANNOTATE: COVHA-20200314-P8-G04-N due to error\n",
      "'NoneType' object has no attribute 'id'\n",
      "Skipping warn_txt for VEP R100 ANNOTATE: COVHA-20200314-P6-C07-N due to error\n"
     ]
    },
    {
     "name": "stderr",
     "output_type": "stream",
     "text": [
      "Valid task found VEP R100 ANNOTATE: COVHA-20200315-P10-E12-N\n",
      "Valid task found VEP R100 ANNOTATE: COVHA-20200314-P6-C05-N\n"
     ]
    },
    {
     "name": "stdout",
     "output_type": "stream",
     "text": [
      "'NoneType' object has no attribute 'id'\n",
      "Skipping warn_txt for VEP R100 ANNOTATE: COVHA-20200315-P10-E12-N due to error\n",
      "'NoneType' object has no attribute 'id'\n",
      "Skipping warn_txt for VEP R100 ANNOTATE: COVHA-20200314-P6-C05-N due to error\n"
     ]
    },
    {
     "name": "stderr",
     "output_type": "stream",
     "text": [
      "Valid task found VEP R100 ANNOTATE: COVHA-20200315-P10-B01-CN\n"
     ]
    },
    {
     "name": "stdout",
     "output_type": "stream",
     "text": [
      "'NoneType' object has no attribute 'id'\n",
      "Skipping warn_txt for VEP R100 ANNOTATE: COVHA-20200315-P10-B01-CN due to error\n",
      "'NoneType' object has no attribute 'id'\n",
      "Skipping warn_txt for VEP R100 ANNOTATE: COVHA-20200314-P7-E06-N due to error\n"
     ]
    },
    {
     "name": "stderr",
     "output_type": "stream",
     "text": [
      "Valid task found VEP R100 ANNOTATE: COVHA-20200314-P7-E06-N\n",
      "Valid task found VEP R100 ANNOTATE: COVHA-20200314-P8-D01-N\n"
     ]
    },
    {
     "name": "stdout",
     "output_type": "stream",
     "text": [
      "'NoneType' object has no attribute 'id'\n",
      "Skipping warn_txt for VEP R100 ANNOTATE: COVHA-20200314-P8-D01-N due to error\n",
      "'NoneType' object has no attribute 'id'\n",
      "Skipping warn_txt for VEP R100 ANNOTATE: COVHA-20200314-P8-D03-N due to error\n"
     ]
    },
    {
     "name": "stderr",
     "output_type": "stream",
     "text": [
      "Valid task found VEP R100 ANNOTATE: COVHA-20200314-P8-D03-N\n",
      "Valid task found VEP R100 ANNOTATE: COVHA-20200314-P8-C06-N\n",
      "Valid task found VEP R100 ANNOTATE: COVHA-20200315-P10-D05-N\n",
      "Valid task found VEP R100 ANNOTATE: COVHA-20200311-P1-C07-N\n"
     ]
    },
    {
     "name": "stdout",
     "output_type": "stream",
     "text": [
      "'NoneType' object has no attribute 'id'\n",
      "Skipping warn_txt for VEP R100 ANNOTATE: COVHA-20200315-P10-D05-N due to error\n"
     ]
    },
    {
     "name": "stderr",
     "output_type": "stream",
     "text": [
      "Valid task found VEP R100 ANNOTATE: COVHA-20200314-P8-B04-N\n",
      "Valid task found VEP R100 ANNOTATE: COVHA-20200314-P8-F04-P\n"
     ]
    },
    {
     "name": "stdout",
     "output_type": "stream",
     "text": [
      "'NoneType' object has no attribute 'id'\n",
      "Skipping warn_txt for VEP R100 ANNOTATE: COVHA-20200314-P8-B04-N due to error\n"
     ]
    },
    {
     "name": "stderr",
     "output_type": "stream",
     "text": [
      "Valid task found VEP R100 ANNOTATE: COVHA-20200314-P9-D05-N\n",
      "Valid task found VEP R100 ANNOTATE: COVHA-20200314-P7-E04-P\n",
      "Valid task found VEP R100 ANNOTATE: COVHA-20200314-P8-F01-P\n",
      "Valid task found VEP R100 ANNOTATE: COVHA-20200314-P9-A03-N\n",
      "Valid task found VEP R100 ANNOTATE: COVHA-20200315-P10-E09-N\n"
     ]
    },
    {
     "name": "stdout",
     "output_type": "stream",
     "text": [
      "'NoneType' object has no attribute 'id'\n",
      "Skipping warn_txt for VEP R100 ANNOTATE: COVHA-20200314-P9-A03-N due to error\n",
      "'NoneType' object has no attribute 'id'\n",
      "Skipping warn_txt for VEP R100 ANNOTATE: COVHA-20200315-P10-E09-N due to error\n"
     ]
    },
    {
     "name": "stderr",
     "output_type": "stream",
     "text": [
      "Valid task found VEP R100 ANNOTATE: COVHA-20200314-P8-A01-CP\n",
      "Valid task found VEP R100 ANNOTATE: COVHA-20200315-P10-A04-CN\n",
      "Valid task found VEP R100 ANNOTATE: COVHA-20200315-P10-C03-P\n"
     ]
    },
    {
     "name": "stdout",
     "output_type": "stream",
     "text": [
      "'NoneType' object has no attribute 'id'\n",
      "Skipping warn_txt for VEP R100 ANNOTATE: COVHA-20200315-P10-A04-CN due to error\n"
     ]
    },
    {
     "name": "stderr",
     "output_type": "stream",
     "text": [
      "Valid task found VEP R100 ANNOTATE: COVHA-20200315-P10-B10-CN\n",
      "Valid task found VEP R100 ANNOTATE: COVHA-20200313-P4-C06-N\n",
      "Valid task found VEP R100 ANNOTATE: COVHA-20200314-P7-G01-P\n"
     ]
    },
    {
     "name": "stdout",
     "output_type": "stream",
     "text": [
      "'NoneType' object has no attribute 'id'\n",
      "Skipping warn_txt for VEP R100 ANNOTATE: COVHA-20200313-P4-C06-N due to error\n"
     ]
    },
    {
     "name": "stderr",
     "output_type": "stream",
     "text": [
      "Valid task found VEP R100 ANNOTATE: COVHA-20200314-P6-D05-N\n",
      "Valid task found VEP R100 ANNOTATE: COVHA-20200315-P10-B05-N\n"
     ]
    },
    {
     "name": "stdout",
     "output_type": "stream",
     "text": [
      "'NoneType' object has no attribute 'id'\n",
      "Skipping warn_txt for VEP R100 ANNOTATE: COVHA-20200314-P6-D05-N due to error\n",
      "'NoneType' object has no attribute 'id'\n",
      "Skipping warn_txt for VEP R100 ANNOTATE: COVHA-20200315-P10-B05-N due to error\n"
     ]
    },
    {
     "name": "stderr",
     "output_type": "stream",
     "text": [
      "Valid task found VEP R100 ANNOTATE: COVHA-20200315-P10-D03-N\n"
     ]
    },
    {
     "name": "stdout",
     "output_type": "stream",
     "text": [
      "'NoneType' object has no attribute 'id'\n",
      "Skipping warn_txt for VEP R100 ANNOTATE: COVHA-20200315-P10-D03-N due to error\n"
     ]
    },
    {
     "name": "stderr",
     "output_type": "stream",
     "text": [
      "Valid task found VEP R100 ANNOTATE: COVHA-20200314-P7-F03-N\n",
      "Valid task found VEP R100 ANNOTATE: COVHA-20200313-P4-B03-N\n"
     ]
    },
    {
     "name": "stdout",
     "output_type": "stream",
     "text": [
      "'NoneType' object has no attribute 'id'\n",
      "Skipping warn_txt for VEP R100 ANNOTATE: COVHA-20200314-P7-F03-N due to error\n",
      "'NoneType' object has no attribute 'id'\n",
      "Skipping warn_txt for VEP R100 ANNOTATE: COVHA-20200313-P4-B03-N due to error\n"
     ]
    },
    {
     "name": "stderr",
     "output_type": "stream",
     "text": [
      "Valid task found VEP R100 ANNOTATE: COVHA-20200316-P11-E07-N\n",
      "Valid task found VEP R100 ANNOTATE: COVHA-20200314-P6-G05-N\n"
     ]
    },
    {
     "name": "stdout",
     "output_type": "stream",
     "text": [
      "'NoneType' object has no attribute 'id'\n",
      "Skipping warn_txt for VEP R100 ANNOTATE: COVHA-20200316-P11-E07-N due to error\n"
     ]
    },
    {
     "name": "stderr",
     "output_type": "stream",
     "text": [
      "Valid task found VEP R100 ANNOTATE: COVHA-20200314-P9-F08-N\n"
     ]
    },
    {
     "name": "stdout",
     "output_type": "stream",
     "text": [
      "'NoneType' object has no attribute 'id'\n",
      "Skipping warn_txt for VEP R100 ANNOTATE: COVHA-20200314-P9-F08-N due to error\n",
      "'NoneType' object has no attribute 'id'\n",
      "Skipping warn_txt for VEP R100 ANNOTATE: COVHA-20200314-P9-G08-N due to error\n"
     ]
    },
    {
     "name": "stderr",
     "output_type": "stream",
     "text": [
      "Valid task found VEP R100 ANNOTATE: COVHA-20200314-P9-G08-N\n",
      "Valid task found VEP R100 ANNOTATE: COVHA-20200314-P9-G07-N\n"
     ]
    },
    {
     "name": "stdout",
     "output_type": "stream",
     "text": [
      "'NoneType' object has no attribute 'id'\n",
      "Skipping warn_txt for VEP R100 ANNOTATE: COVHA-20200314-P9-G07-N due to error\n"
     ]
    },
    {
     "name": "stderr",
     "output_type": "stream",
     "text": [
      "Valid task found VEP R100 ANNOTATE: COVHA-20200314-P9-B09-P\n",
      "Valid task found VEP R100 ANNOTATE: COVHA-20200315-P9-E02-P\n"
     ]
    },
    {
     "name": "stdout",
     "output_type": "stream",
     "text": [
      "'NoneType' object has no attribute 'id'\n",
      "Skipping warn_txt for VEP R100 ANNOTATE: COVHA-20200315-P9-E02-P due to error\n"
     ]
    },
    {
     "name": "stderr",
     "output_type": "stream",
     "text": [
      "Valid task found VEP R100 ANNOTATE: COVHA-20200314-P8-D06-N\n",
      "Valid task found VEP R100 ANNOTATE: COVHA-20200314-P7-G07-N\n",
      "Valid task found VEP R100 ANNOTATE: COVHA-20200314-P12-C08-N\n"
     ]
    },
    {
     "name": "stdout",
     "output_type": "stream",
     "text": [
      "'NoneType' object has no attribute 'id'\n",
      "Skipping warn_txt for VEP R100 ANNOTATE: COVHA-20200314-P7-G07-N due to error\n",
      "'NoneType' object has no attribute 'id'\n",
      "Skipping warn_txt for VEP R100 ANNOTATE: COVHA-20200314-P12-C08-N due to error\n"
     ]
    },
    {
     "name": "stderr",
     "output_type": "stream",
     "text": [
      "Valid task found VEP R100 ANNOTATE: COVHA-20200314-P7-G04-N\n",
      "Valid task found VEP R100 ANNOTATE: COVHA-20200315-P10-H06-N\n"
     ]
    },
    {
     "name": "stdout",
     "output_type": "stream",
     "text": [
      "'NoneType' object has no attribute 'id'\n",
      "Skipping warn_txt for VEP R100 ANNOTATE: COVHA-20200314-P7-G04-N due to error\n",
      "'NoneType' object has no attribute 'id'\n",
      "Skipping warn_txt for VEP R100 ANNOTATE: COVHA-20200315-P10-H06-N due to error\n"
     ]
    },
    {
     "name": "stderr",
     "output_type": "stream",
     "text": [
      "Valid task found VEP R100 ANNOTATE: COVHA-20200314-P6-D02-N\n",
      "Valid task found VEP R100 ANNOTATE: COVHA-20200315-P10-A05-P\n"
     ]
    },
    {
     "name": "stdout",
     "output_type": "stream",
     "text": [
      "'NoneType' object has no attribute 'id'\n",
      "Skipping warn_txt for VEP R100 ANNOTATE: COVHA-20200314-P6-D02-N due to error\n"
     ]
    },
    {
     "name": "stderr",
     "output_type": "stream",
     "text": [
      "Valid task found VEP R100 ANNOTATE: COVHA-20200315-P10-D09-P\n",
      "Valid task found VEP R100 ANNOTATE: COVHA-20200314-P9-H07-N\n",
      "Valid task found VEP R100 ANNOTATE: COVHA-20200314-P8-E02-N\n"
     ]
    },
    {
     "name": "stdout",
     "output_type": "stream",
     "text": [
      "'NoneType' object has no attribute 'id'\n",
      "Skipping warn_txt for VEP R100 ANNOTATE: COVHA-20200314-P9-H07-N due to error\n",
      "'NoneType' object has no attribute 'id'\n",
      "Skipping warn_txt for VEP R100 ANNOTATE: COVHA-20200314-P8-E02-N due to error\n"
     ]
    },
    {
     "name": "stderr",
     "output_type": "stream",
     "text": [
      "Valid task found VEP R100 ANNOTATE: COVHA-20200316-P11-A01-CP\n",
      "Valid task found VEP R100 ANNOTATE: COVHA-20200315-P10-B04-N\n",
      "Valid task found VEP R100 ANNOTATE: COVHA-20200316-P11-F03-N\n"
     ]
    },
    {
     "name": "stdout",
     "output_type": "stream",
     "text": [
      "'NoneType' object has no attribute 'id'\n",
      "Skipping warn_txt for VEP R100 ANNOTATE: COVHA-20200315-P10-B04-N due to error\n",
      "'NoneType' object has no attribute 'id'\n",
      "Skipping warn_txt for VEP R100 ANNOTATE: COVHA-20200316-P11-F03-N due to error\n"
     ]
    },
    {
     "name": "stderr",
     "output_type": "stream",
     "text": [
      "Valid task found VEP R100 ANNOTATE: COVHA-20200314-P8-A06-N\n"
     ]
    },
    {
     "name": "stdout",
     "output_type": "stream",
     "text": [
      "'NoneType' object has no attribute 'id'\n",
      "Skipping warn_txt for VEP R100 ANNOTATE: COVHA-20200314-P8-A06-N due to error\n",
      "'NoneType' object has no attribute 'id'\n",
      "Skipping warn_txt for VEP R100 ANNOTATE: COVHA-20200316-P11-E03-N due to error\n"
     ]
    },
    {
     "name": "stderr",
     "output_type": "stream",
     "text": [
      "Valid task found VEP R100 ANNOTATE: COVHA-20200316-P11-E03-N\n",
      "Valid task found VEP R100 ANNOTATE: COVHA-20200314-P8-G03-N\n"
     ]
    },
    {
     "name": "stdout",
     "output_type": "stream",
     "text": [
      "'NoneType' object has no attribute 'id'\n",
      "Skipping warn_txt for VEP R100 ANNOTATE: COVHA-20200314-P8-G03-N due to error\n",
      "'NoneType' object has no attribute 'id'\n",
      "Skipping warn_txt for VEP R100 ANNOTATE: COVHA-20200315-P10-E05-N due to error\n"
     ]
    },
    {
     "name": "stderr",
     "output_type": "stream",
     "text": [
      "Valid task found VEP R100 ANNOTATE: COVHA-20200315-P10-E05-N\n",
      "Valid task found VEP R100 ANNOTATE: COVHA-20200314-P8-B03-N\n"
     ]
    },
    {
     "name": "stdout",
     "output_type": "stream",
     "text": [
      "'NoneType' object has no attribute 'id'\n",
      "Skipping warn_txt for VEP R100 ANNOTATE: COVHA-20200314-P8-B03-N due to error\n"
     ]
    },
    {
     "name": "stderr",
     "output_type": "stream",
     "text": [
      "Valid task found VEP R100 ANNOTATE: COVHA-20200314-P6-F05-N\n"
     ]
    },
    {
     "name": "stdout",
     "output_type": "stream",
     "text": [
      "'NoneType' object has no attribute 'id'\n",
      "Skipping warn_txt for VEP R100 ANNOTATE: COVHA-20200314-P6-F05-N due to error\n",
      "'NoneType' object has no attribute 'id'\n",
      "Skipping warn_txt for VEP R100 ANNOTATE: COVHA-20200311-P1-H02-N due to error\n"
     ]
    },
    {
     "name": "stderr",
     "output_type": "stream",
     "text": [
      "Valid task found VEP R100 ANNOTATE: COVHA-20200311-P1-H02-N\n",
      "Valid task found VEP R100 ANNOTATE: COVHA-20200315-P10-H10-N\n"
     ]
    },
    {
     "name": "stdout",
     "output_type": "stream",
     "text": [
      "'NoneType' object has no attribute 'id'\n",
      "Skipping warn_txt for VEP R100 ANNOTATE: COVHA-20200315-P10-H10-N due to error\n"
     ]
    },
    {
     "name": "stderr",
     "output_type": "stream",
     "text": [
      "Valid task found VEP R100 ANNOTATE: COVHA-20200316-P11-D09-N\n",
      "Valid task found VEP R100 ANNOTATE: COVHA-20200314-P7-E01-N\n",
      "Valid task found VEP R100 ANNOTATE: COVHA-20200315-P9-D01-N\n"
     ]
    },
    {
     "name": "stdout",
     "output_type": "stream",
     "text": [
      "'NoneType' object has no attribute 'id'\n",
      "Skipping warn_txt for VEP R100 ANNOTATE: COVHA-20200314-P7-E01-N due to error\n",
      "'NoneType' object has no attribute 'id'\n",
      "Skipping warn_txt for VEP R100 ANNOTATE: COVHA-20200315-P9-D01-N due to error\n"
     ]
    },
    {
     "name": "stderr",
     "output_type": "stream",
     "text": [
      "Valid task found VEP R100 ANNOTATE: COVHA-20200314-P9-F07-N\n",
      "Valid task found VEP R100 ANNOTATE: COVHA-20200316-P11-A06-P\n"
     ]
    },
    {
     "name": "stdout",
     "output_type": "stream",
     "text": [
      "'NoneType' object has no attribute 'id'\n",
      "Skipping warn_txt for VEP R100 ANNOTATE: COVHA-20200314-P9-F07-N due to error\n"
     ]
    },
    {
     "name": "stderr",
     "output_type": "stream",
     "text": [
      "Valid task found VEP R100 ANNOTATE: COVHA-20200315-P9-B01-CN\n",
      "Valid task found VEP R100 ANNOTATE: COVHA-20200316-P11-E04-P\n",
      "Valid task found VEP R100 ANNOTATE: COVHA-20200316-P11-C01-N\n"
     ]
    },
    {
     "name": "stdout",
     "output_type": "stream",
     "text": [
      "'NoneType' object has no attribute 'id'\n",
      "Skipping warn_txt for VEP R100 ANNOTATE: COVHA-20200316-P11-C01-N due to error\n",
      "'NoneType' object has no attribute 'id'\n",
      "Skipping warn_txt for VEP R100 ANNOTATE: COVHA-20200314-P6-B06-N due to error\n"
     ]
    },
    {
     "name": "stderr",
     "output_type": "stream",
     "text": [
      "Valid task found VEP R100 ANNOTATE: COVHA-20200314-P6-B06-N\n",
      "Valid task found VEP R100 ANNOTATE: COVHA-20200314-P9-C04-N\n"
     ]
    },
    {
     "name": "stdout",
     "output_type": "stream",
     "text": [
      "'NoneType' object has no attribute 'id'\n",
      "Skipping warn_txt for VEP R100 ANNOTATE: COVHA-20200314-P9-C04-N due to error\n"
     ]
    },
    {
     "name": "stderr",
     "output_type": "stream",
     "text": [
      "Valid task found VEP R100 ANNOTATE: COVHA-20200315-P10-G07-P\n",
      "Valid task found VEP R100 ANNOTATE: COVHA-20200316-P11-A07-CN\n",
      "Valid task found VEP R100 ANNOTATE: COVHA-20200314-P9-H06-N\n",
      "Valid task found VEP R100 ANNOTATE: COVHA-20200315-P10-F09-P\n"
     ]
    },
    {
     "name": "stdout",
     "output_type": "stream",
     "text": [
      "'NoneType' object has no attribute 'id'\n",
      "Skipping warn_txt for VEP R100 ANNOTATE: COVHA-20200314-P9-H06-N due to error\n"
     ]
    },
    {
     "name": "stderr",
     "output_type": "stream",
     "text": [
      "Valid task found VEP R100 ANNOTATE: COVHA-20200314-P7-E07-N\n",
      "Valid task found VEP R100 ANNOTATE: COVHA-20200315-P10-F07-N\n"
     ]
    },
    {
     "name": "stdout",
     "output_type": "stream",
     "text": [
      "'NoneType' object has no attribute 'id'\n",
      "Skipping warn_txt for VEP R100 ANNOTATE: COVHA-20200314-P7-E07-N due to error\n"
     ]
    },
    {
     "name": "stderr",
     "output_type": "stream",
     "text": [
      "Valid task found VEP R100 ANNOTATE: COVHA-20200314-P6-C06-N\n"
     ]
    },
    {
     "name": "stdout",
     "output_type": "stream",
     "text": [
      "'NoneType' object has no attribute 'id'\n",
      "Skipping warn_txt for VEP R100 ANNOTATE: COVHA-20200314-P6-C06-N due to error\n"
     ]
    },
    {
     "name": "stderr",
     "output_type": "stream",
     "text": [
      "Valid task found VEP R100 ANNOTATE: COVHA-20200316-P11-A03-P\n",
      "Valid task found VEP R100 ANNOTATE: COVHA-20200315-P10-G05-P\n",
      "Valid task found VEP R100 ANNOTATE: COVHA-20200314-P6-H03-N\n"
     ]
    },
    {
     "name": "stdout",
     "output_type": "stream",
     "text": [
      "'NoneType' object has no attribute 'id'\n",
      "Skipping warn_txt for VEP R100 ANNOTATE: COVHA-20200314-P6-H03-N due to error\n"
     ]
    },
    {
     "name": "stderr",
     "output_type": "stream",
     "text": [
      "Valid task found VEP R100 ANNOTATE: COVHA-20200315-P10-D04-N\n",
      "Valid task found VEP R100 ANNOTATE: COVHA-20200315-P10-H03-N\n",
      "Valid task found VEP R100 ANNOTATE: COVHA-20200315-P10-F06-P\n"
     ]
    },
    {
     "name": "stdout",
     "output_type": "stream",
     "text": [
      "'NoneType' object has no attribute 'id'\n",
      "Skipping warn_txt for VEP R100 ANNOTATE: COVHA-20200315-P10-H03-N due to error\n"
     ]
    },
    {
     "name": "stderr",
     "output_type": "stream",
     "text": [
      "Valid task found VEP R100 ANNOTATE: COVHA-20200315-P10-H05-N\n",
      "Valid task found VEP R100 ANNOTATE: COVHA-20200316-P11-A04-CN\n"
     ]
    },
    {
     "name": "stdout",
     "output_type": "stream",
     "text": [
      "'NoneType' object has no attribute 'id'\n",
      "Skipping warn_txt for VEP R100 ANNOTATE: COVHA-20200315-P10-H05-N due to error\n"
     ]
    },
    {
     "name": "stderr",
     "output_type": "stream",
     "text": [
      "Valid task found VEP R100 ANNOTATE: COVHA-20200316-P11-D06-N\n",
      "Valid task found VEP R100 ANNOTATE: COVHA-20200316-P11-H03-P\n"
     ]
    },
    {
     "name": "stdout",
     "output_type": "stream",
     "text": [
      "'NoneType' object has no attribute 'id'\n",
      "Skipping warn_txt for VEP R100 ANNOTATE: COVHA-20200316-P11-D06-N due to error\n"
     ]
    },
    {
     "name": "stderr",
     "output_type": "stream",
     "text": [
      "Valid task found VEP R100 ANNOTATE: COVHA-20200315-P10-E02-P\n",
      "Valid task found VEP R100 ANNOTATE: COVHA-20200316-P11-G03-P\n",
      "Valid task found VEP R100 ANNOTATE: COVHA-20200314-P9-F04-P\n",
      "Valid task found VEP R100 ANNOTATE: COVHA-20200314-P9-H05-N\n"
     ]
    },
    {
     "name": "stdout",
     "output_type": "stream",
     "text": [
      "'NoneType' object has no attribute 'id'\n",
      "Skipping warn_txt for VEP R100 ANNOTATE: COVHA-20200314-P9-F04-P due to error\n"
     ]
    },
    {
     "name": "stderr",
     "output_type": "stream",
     "text": [
      "Valid task found VEP R100 ANNOTATE: COVHA-20200314-P7-H03-P\n",
      "Valid task found VEP R100 ANNOTATE: COVHA-20200316-P12-B06-N\n",
      "Valid task found VEP R100 ANNOTATE: COVHA-20200315-P10-G06-P\n"
     ]
    },
    {
     "name": "stdout",
     "output_type": "stream",
     "text": [
      "'NoneType' object has no attribute 'id'\n",
      "Skipping warn_txt for VEP R100 ANNOTATE: COVHA-20200316-P12-B06-N due to error\n"
     ]
    },
    {
     "name": "stderr",
     "output_type": "stream",
     "text": [
      "Valid task found VEP R100 ANNOTATE: COVHA-20200315-P10-C12-N\n",
      "Valid task found VEP R100 ANNOTATE: COVHA-20200314-P7-F09-N\n"
     ]
    },
    {
     "name": "stdout",
     "output_type": "stream",
     "text": [
      "'NoneType' object has no attribute 'id'\n",
      "Skipping warn_txt for VEP R100 ANNOTATE: COVHA-20200315-P10-C12-N due to error\n",
      "'NoneType' object has no attribute 'id'\n",
      "Skipping warn_txt for VEP R100 ANNOTATE: COVHA-20200314-P7-F09-N due to error\n"
     ]
    },
    {
     "name": "stderr",
     "output_type": "stream",
     "text": [
      "Valid task found VEP R100 ANNOTATE: COVHA-20200316-P11-B01-CN\n",
      "Valid task found VEP R100 ANNOTATE: COVHA-20200314-P9-F09-N\n"
     ]
    },
    {
     "name": "stdout",
     "output_type": "stream",
     "text": [
      "'NoneType' object has no attribute 'id'\n",
      "Skipping warn_txt for VEP R100 ANNOTATE: COVHA-20200316-P11-B01-CN due to error\n",
      "'NoneType' object has no attribute 'id'\n",
      "Skipping warn_txt for VEP R100 ANNOTATE: COVHA-20200314-P9-F09-N due to error\n",
      "'NoneType' object has no attribute 'id'\n",
      "Skipping warn_txt for VEP R100 ANNOTATE: COVHA-20200316-P11-B06-N due to error\n"
     ]
    },
    {
     "name": "stderr",
     "output_type": "stream",
     "text": [
      "Valid task found VEP R100 ANNOTATE: COVHA-20200316-P11-B06-N\n",
      "Valid task found VEP R100 ANNOTATE: COVHA-20200315-P10-G02-N\n"
     ]
    },
    {
     "name": "stdout",
     "output_type": "stream",
     "text": [
      "'NoneType' object has no attribute 'id'\n",
      "Skipping warn_txt for VEP R100 ANNOTATE: COVHA-20200315-P10-G02-N due to error\n"
     ]
    },
    {
     "name": "stderr",
     "output_type": "stream",
     "text": [
      "Valid task found VEP R100 ANNOTATE: COVHA-20200314-P8-G02-N\n",
      "Valid task found VEP R100 ANNOTATE: COVHA-20200315-P10-H08-P\n",
      "Valid task found VEP R100 ANNOTATE: COVHA-20200315-P10-F03-N\n"
     ]
    },
    {
     "name": "stdout",
     "output_type": "stream",
     "text": [
      "'NoneType' object has no attribute 'id'\n",
      "Skipping warn_txt for VEP R100 ANNOTATE: COVHA-20200315-P10-F03-N due to error\n"
     ]
    },
    {
     "name": "stderr",
     "output_type": "stream",
     "text": [
      "Valid task found VEP R100 ANNOTATE: COVHA-20200316-P11-E06-P\n",
      "Valid task found VEP R100 ANNOTATE: COVHA-20200316-P11-H02-P\n",
      "Valid task found VEP R100 ANNOTATE: COVHA-20200315-P10-H01-P\n",
      "Valid task found VEP R100 ANNOTATE: COVHA-20200315-P10-F04-P\n",
      "Valid task found VEP R100 ANNOTATE: COVHA-20200316-P11-D03-N\n",
      "Valid task found VEP R100 ANNOTATE: COVHA-20200315-P10-B03-P\n"
     ]
    },
    {
     "name": "stdout",
     "output_type": "stream",
     "text": [
      "'NoneType' object has no attribute 'id'\n",
      "Skipping warn_txt for VEP R100 ANNOTATE: COVHA-20200316-P11-D03-N due to error\n"
     ]
    },
    {
     "name": "stderr",
     "output_type": "stream",
     "text": [
      "Valid task found VEP R100 ANNOTATE: COVHA-20200314-P6-D09-P\n",
      "Valid task found VEP R100 ANNOTATE: COVHA-20200314-P6-C09-N\n"
     ]
    },
    {
     "name": "stdout",
     "output_type": "stream",
     "text": [
      "'NoneType' object has no attribute 'id'\n",
      "Skipping warn_txt for VEP R100 ANNOTATE: COVHA-20200314-P6-C09-N due to error\n",
      "'NoneType' object has no attribute 'id'\n",
      "Skipping warn_txt for VEP R100 ANNOTATE: COVHA-20200315-P10-F05-N due to error\n"
     ]
    },
    {
     "name": "stderr",
     "output_type": "stream",
     "text": [
      "Valid task found VEP R100 ANNOTATE: COVHA-20200315-P10-F05-N\n",
      "Valid task found VEP R100 ANNOTATE: COVHA-20200315-P10-B02-N\n"
     ]
    },
    {
     "name": "stdout",
     "output_type": "stream",
     "text": [
      "'NoneType' object has no attribute 'id'\n",
      "Skipping warn_txt for VEP R100 ANNOTATE: COVHA-20200315-P10-B02-N due to error\n"
     ]
    },
    {
     "name": "stderr",
     "output_type": "stream",
     "text": [
      "Valid task found VEP R100 ANNOTATE: COVHA-20200314-P8-D04-N\n",
      "Valid task found VEP R100 ANNOTATE: COVHA-20200314-P7-B08-P\n",
      "Valid task found VEP R100 ANNOTATE: COVHA-20200315-P10-C04-P\n",
      "Valid task found VEP R100 ANNOTATE: COVHA-20200316-P11-H06-P\n",
      "Valid task found VEP R100 ANNOTATE: COVHA-20200315-P10-G03-N\n",
      "Valid task found VEP R100 ANNOTATE: COVHA-20200315-P10-G08-P\n",
      "Valid task found VEP R100 ANNOTATE: COVHA-20200316-P12-B02-N\n"
     ]
    },
    {
     "name": "stdout",
     "output_type": "stream",
     "text": [
      "'NoneType' object has no attribute 'id'\n",
      "Skipping warn_txt for VEP R100 ANNOTATE: COVHA-20200316-P12-B02-N due to error\n"
     ]
    },
    {
     "name": "stderr",
     "output_type": "stream",
     "text": [
      "Valid task found VEP R100 ANNOTATE: COVHA-20200315-P10-D10-N\n",
      "Valid task found VEP R100 ANNOTATE: COVHA-20200316-P12-B01-CN\n",
      "Valid task found VEP R100 ANNOTATE: COVHA-20200316-P11-C03-P\n"
     ]
    },
    {
     "name": "stdout",
     "output_type": "stream",
     "text": [
      "'NoneType' object has no attribute 'id'\n",
      "Skipping warn_txt for VEP R100 ANNOTATE: COVHA-20200316-P12-B01-CN due to error\n"
     ]
    },
    {
     "name": "stderr",
     "output_type": "stream",
     "text": [
      "Valid task found VEP R100 ANNOTATE: COVHA-20200315-P10-C08-N\n",
      "Valid task found VEP R100 ANNOTATE: COVHA-20200315-P10-F11-P\n"
     ]
    },
    {
     "name": "stdout",
     "output_type": "stream",
     "text": [
      "'NoneType' object has no attribute 'id'\n",
      "Skipping warn_txt for VEP R100 ANNOTATE: COVHA-20200315-P10-C08-N due to error\n"
     ]
    },
    {
     "name": "stderr",
     "output_type": "stream",
     "text": [
      "Valid task found VEP R100 ANNOTATE: COVHA-20200315-P10-H11-P\n",
      "Valid task found VEP R100 ANNOTATE: COVHA-20200315-P9-G02-N\n",
      "Valid task found VEP R100 ANNOTATE: COVHA-20200316-P12-D06-P\n"
     ]
    },
    {
     "name": "stdout",
     "output_type": "stream",
     "text": [
      "'NoneType' object has no attribute 'id'\n",
      "Skipping warn_txt for VEP R100 ANNOTATE: COVHA-20200315-P9-G02-N due to error\n"
     ]
    },
    {
     "name": "stderr",
     "output_type": "stream",
     "text": [
      "Valid task found VEP R100 ANNOTATE: COVHA-20200316-P12-A01-CP\n",
      "Valid task found VEP R100 ANNOTATE: COVHA-20200315-P10-F01-N\n"
     ]
    },
    {
     "name": "stdout",
     "output_type": "stream",
     "text": [
      "'NoneType' object has no attribute 'id'\n",
      "Skipping warn_txt for VEP R100 ANNOTATE: COVHA-20200315-P10-F01-N due to error\n"
     ]
    },
    {
     "name": "stderr",
     "output_type": "stream",
     "text": [
      "Valid task found VEP R100 ANNOTATE: COVHA-20200314-P9-G03-N\n",
      "Valid task found VEP R100 ANNOTATE: COVHA-20200315-P10-A11-N\n",
      "Valid task found VEP R100 ANNOTATE: COVHA-20200316-P11-G01-N\n"
     ]
    },
    {
     "name": "stdout",
     "output_type": "stream",
     "text": [
      "'NoneType' object has no attribute 'id'\n",
      "Skipping warn_txt for VEP R100 ANNOTATE: COVHA-20200316-P11-G01-N due to error\n"
     ]
    },
    {
     "name": "stderr",
     "output_type": "stream",
     "text": [
      "Valid task found VEP R100 ANNOTATE: COVHA-20200315-P10-C06-N\n",
      "Valid task found VEP R100 ANNOTATE: COVHA-20200316-P11-E02-N\n",
      "Valid task found VEP R100 ANNOTATE: COVWC-20200312-P2-E02-P\n",
      "Valid task found VEP R100 ANNOTATE: COVHA-20200314-P9-G06-N\n",
      "Valid task found VEP R100 ANNOTATE: COVHA-20200315-P10-A12-P\n",
      "Valid task found VEP R100 ANNOTATE: COVHA-20200316-P11-C05-P\n",
      "Valid task found VEP R100 ANNOTATE: COVHA-20200315-P10-A03-N\n",
      "Valid task found VEP R100 ANNOTATE: COVHA-20200316-P12-E07-N\n"
     ]
    },
    {
     "name": "stdout",
     "output_type": "stream",
     "text": [
      "'NoneType' object has no attribute 'id'\n",
      "Skipping warn_txt for VEP R100 ANNOTATE: COVHA-20200315-P10-A03-N due to error\n",
      "'NoneType' object has no attribute 'id'\n",
      "Skipping warn_txt for VEP R100 ANNOTATE: COVHA-20200316-P12-E07-N due to error\n"
     ]
    },
    {
     "name": "stderr",
     "output_type": "stream",
     "text": [
      "Valid task found VEP R100 ANNOTATE: COVHA-20200314-P8-A02-N\n",
      "Valid task found VEP R100 ANNOTATE: COVHA-20200316-P11-G02-N\n"
     ]
    },
    {
     "name": "stdout",
     "output_type": "stream",
     "text": [
      "'NoneType' object has no attribute 'id'\n",
      "Skipping warn_txt for VEP R100 ANNOTATE: COVHA-20200314-P8-A02-N due to error\n"
     ]
    },
    {
     "name": "stderr",
     "output_type": "stream",
     "text": [
      "Valid task found VEP R100 ANNOTATE: COVHA-20200316-P11-C09-N\n",
      "Valid task found VEP R100 ANNOTATE: COVHA-20200315-P9-E01-N\n"
     ]
    },
    {
     "name": "stdout",
     "output_type": "stream",
     "text": [
      "'NoneType' object has no attribute 'id'\n",
      "Skipping warn_txt for VEP R100 ANNOTATE: COVHA-20200316-P11-C09-N due to error\n",
      "'NoneType' object has no attribute 'id'\n",
      "Skipping warn_txt for VEP R100 ANNOTATE: COVHA-20200315-P9-E01-N due to error\n"
     ]
    },
    {
     "name": "stderr",
     "output_type": "stream",
     "text": [
      "Valid task found VEP R100 ANNOTATE: COVHA-20200314-P6-B05-N\n",
      "Valid task found VEP R100 ANNOTATE: COVHA-20200315-P10-D01-N\n",
      "Valid task found VEP R100 ANNOTATE: COVHA-20200316-P11-B04-P\n"
     ]
    },
    {
     "name": "stdout",
     "output_type": "stream",
     "text": [
      "'NoneType' object has no attribute 'id'\n",
      "Skipping warn_txt for VEP R100 ANNOTATE: COVHA-20200315-P10-D01-N due to error\n"
     ]
    },
    {
     "name": "stderr",
     "output_type": "stream",
     "text": [
      "Valid task found VEP R100 ANNOTATE: COVHA-20200315-P9-D02-P\n",
      "Valid task found VEP R100 ANNOTATE: COVHA-20200315-P10-D08-N\n",
      "Valid task found VEP R100 ANNOTATE: COVHA-20200316-P11-H05-N\n"
     ]
    },
    {
     "name": "stdout",
     "output_type": "stream",
     "text": [
      "'NoneType' object has no attribute 'id'\n",
      "Skipping warn_txt for VEP R100 ANNOTATE: COVHA-20200315-P10-D08-N due to error\n",
      "'NoneType' object has no attribute 'id'\n",
      "Skipping warn_txt for VEP R100 ANNOTATE: COVHA-20200316-P11-H05-N due to error\n"
     ]
    },
    {
     "name": "stderr",
     "output_type": "stream",
     "text": [
      "Valid task found VEP R100 ANNOTATE: COVHA-20200315-P10-A09-N\n",
      "Valid task found VEP R100 ANNOTATE: COVHA-20200315-P9-C01-N\n"
     ]
    },
    {
     "name": "stdout",
     "output_type": "stream",
     "text": [
      "'NoneType' object has no attribute 'id'\n",
      "Skipping warn_txt for VEP R100 ANNOTATE: COVHA-20200315-P10-A09-N due to error\n"
     ]
    },
    {
     "name": "stderr",
     "output_type": "stream",
     "text": [
      "Valid task found VEP R100 ANNOTATE: COVHA-20200316-P11-E05-P\n",
      "Valid task found VEP R100 ANNOTATE: COVHA-20200314-P9-G05-N\n"
     ]
    },
    {
     "name": "stdout",
     "output_type": "stream",
     "text": [
      "'NoneType' object has no attribute 'id'\n",
      "Skipping warn_txt for VEP R100 ANNOTATE: COVHA-20200314-P9-G05-N due to error\n"
     ]
    },
    {
     "name": "stderr",
     "output_type": "stream",
     "text": [
      "Valid task found VEP R100 ANNOTATE: COVHA-20200314-P8-F06-N\n",
      "Valid task found VEP R100 ANNOTATE: COVHA-20200314-P8-H04-N\n"
     ]
    },
    {
     "name": "stdout",
     "output_type": "stream",
     "text": [
      "'NoneType' object has no attribute 'id'\n",
      "Skipping warn_txt for VEP R100 ANNOTATE: COVHA-20200314-P8-H04-N due to error\n"
     ]
    },
    {
     "name": "stderr",
     "output_type": "stream",
     "text": [
      "Valid task found VEP R100 ANNOTATE: COVHA-20200316-P12-D03-N\n",
      "Valid task found VEP R100 ANNOTATE: COVHA-20200314-P8-B06-N\n",
      "Valid task found VEP R100 ANNOTATE: COVHA-20200316-P12-A08-N\n",
      "Valid task found VEP R100 ANNOTATE: COVHA-20200316-P12-A07-CN\n"
     ]
    },
    {
     "name": "stdout",
     "output_type": "stream",
     "text": [
      "'NoneType' object has no attribute 'id'\n",
      "Skipping warn_txt for VEP R100 ANNOTATE: COVHA-20200316-P12-A08-N due to error\n",
      "'NoneType' object has no attribute 'id'\n",
      "Skipping warn_txt for VEP R100 ANNOTATE: COVHA-20200316-P12-A07-CN due to error\n"
     ]
    },
    {
     "name": "stderr",
     "output_type": "stream",
     "text": [
      "Valid task found VEP R100 ANNOTATE: COVHA-20200316-P12-H02-N\n",
      "Valid task found VEP R100 ANNOTATE: COVHA-20200315-P10-C10-N\n"
     ]
    },
    {
     "name": "stdout",
     "output_type": "stream",
     "text": [
      "'NoneType' object has no attribute 'id'\n",
      "Skipping warn_txt for VEP R100 ANNOTATE: COVHA-20200316-P12-H02-N due to error\n"
     ]
    },
    {
     "name": "stderr",
     "output_type": "stream",
     "text": [
      "Valid task found VEP R100 ANNOTATE: COVHA-20200312-P2-C03-P\n",
      "Valid task found VEP R100 ANNOTATE: COVHA-20200315-P10-C02-N\n",
      "Valid task found VEP R100 ANNOTATE: COVHA-20200403-P1-C04-P\n"
     ]
    },
    {
     "name": "stdout",
     "output_type": "stream",
     "text": [
      "'NoneType' object has no attribute 'id'\n",
      "Skipping warn_txt for VEP R100 ANNOTATE: COVHA-20200315-P10-C02-N due to error\n"
     ]
    },
    {
     "name": "stderr",
     "output_type": "stream",
     "text": [
      "Valid task found VEP R100 ANNOTATE: COVHA-20200314-P8-A07-N\n",
      "Valid task found VEP R100 ANNOTATE: COVHA-20200315-P10-G11-P\n"
     ]
    },
    {
     "name": "stdout",
     "output_type": "stream",
     "text": [
      "'NoneType' object has no attribute 'id'\n",
      "Skipping warn_txt for VEP R100 ANNOTATE: COVHA-20200314-P8-A07-N due to error\n"
     ]
    },
    {
     "name": "stderr",
     "output_type": "stream",
     "text": [
      "Valid task found VEP R100 ANNOTATE: COVHA-20200316-P11-B03-P\n",
      "Valid task found VEP R100 ANNOTATE: COVHA-20200315-P10-B11-P\n",
      "Valid task found VEP R100 ANNOTATE: COVHA-20200315-P10-D02-N\n",
      "Valid task found VEP R100 ANNOTATE: COVHA-20200403-P1-F04-P\n",
      "Valid task found VEP R100 ANNOTATE: COVHA-20200315-P10-E03-N\n",
      "Valid task found VEP R100 ANNOTATE: COVHA-20200315-P10-C01-N\n",
      "Valid task found VEP R100 ANNOTATE: COVHA-20200316-P12-E09-P\n",
      "Valid task found VEP R100 ANNOTATE: COVHA-20200403-P1-B01-CN\n",
      "Valid task found VEP R100 ANNOTATE: COVHA-20200315-P10-H12-P\n",
      "Valid task found VEP R100 ANNOTATE: COVHA-20200316-P11-A09-P\n"
     ]
    },
    {
     "name": "stdout",
     "output_type": "stream",
     "text": [
      "'NoneType' object has no attribute 'id'\n",
      "Skipping warn_txt for VEP R100 ANNOTATE: COVHA-20200315-P10-H12-P due to error\n"
     ]
    },
    {
     "name": "stderr",
     "output_type": "stream",
     "text": [
      "Valid task found VEP R100 ANNOTATE: COVHA-20200315-P10-D11-P\n",
      "Valid task found VEP R100 ANNOTATE: COVHA-20200314-P7-A03-N\n"
     ]
    },
    {
     "name": "stdout",
     "output_type": "stream",
     "text": [
      "'NoneType' object has no attribute 'id'\n",
      "Skipping warn_txt for VEP R100 ANNOTATE: COVHA-20200314-P7-A03-N due to error\n"
     ]
    },
    {
     "name": "stderr",
     "output_type": "stream",
     "text": [
      "Valid task found VEP R100 ANNOTATE: COVHA-20200314-P8-B07-N\n",
      "Valid task found VEP R100 ANNOTATE: COVHA-20200316-P12-F04-N\n"
     ]
    },
    {
     "name": "stdout",
     "output_type": "stream",
     "text": [
      "'NoneType' object has no attribute 'id'\n",
      "Skipping warn_txt for VEP R100 ANNOTATE: COVHA-20200314-P8-B07-N due to error\n"
     ]
    },
    {
     "name": "stderr",
     "output_type": "stream",
     "text": [
      "Valid task found VEP R100 ANNOTATE: COVHA-20200315-P10-B07-N\n",
      "Valid task found VEP R100 ANNOTATE: COVHA-20200403-P1-D02-P\n",
      "Valid task found VEP R100 ANNOTATE: COVHA-20200403-P1-C02-P\n",
      "Valid task found VEP R100 ANNOTATE: COVHA-20200316-P11-H08-N\n",
      "Valid task found VEP R100 ANNOTATE: COVHA-20200316-P11-A08-N\n"
     ]
    },
    {
     "name": "stdout",
     "output_type": "stream",
     "text": [
      "'NoneType' object has no attribute 'id'\n",
      "Skipping warn_txt for VEP R100 ANNOTATE: COVHA-20200316-P11-H08-N due to error\n",
      "'NoneType' object has no attribute 'id'\n",
      "Skipping warn_txt for VEP R100 ANNOTATE: COVHA-20200316-P11-A08-N due to error\n"
     ]
    },
    {
     "name": "stderr",
     "output_type": "stream",
     "text": [
      "Valid task found VEP R100 ANNOTATE: COVHA-20200315-P10-G04-P\n",
      "Valid task found VEP R100 ANNOTATE: COVHA-20200316-P11-D08-N\n",
      "Valid task found VEP R100 ANNOTATE: COVHA-20200315-P10-C11-P\n"
     ]
    },
    {
     "name": "stdout",
     "output_type": "stream",
     "text": [
      "'NoneType' object has no attribute 'id'\n",
      "Skipping warn_txt for VEP R100 ANNOTATE: COVHA-20200316-P11-D08-N due to error\n"
     ]
    },
    {
     "name": "stderr",
     "output_type": "stream",
     "text": [
      "Valid task found VEP R100 ANNOTATE: COVHA-20200315-P10-H07-N\n",
      "Valid task found VEP R100 ANNOTATE: COVHA-20200316-P11-E09-P\n"
     ]
    },
    {
     "name": "stdout",
     "output_type": "stream",
     "text": [
      "'NoneType' object has no attribute 'id'\n",
      "Skipping warn_txt for VEP R100 ANNOTATE: COVHA-20200315-P10-H07-N due to error\n"
     ]
    },
    {
     "name": "stderr",
     "output_type": "stream",
     "text": [
      "Valid task found VEP R100 ANNOTATE: COVHA-20200316-P12-G02-P\n",
      "Valid task found VEP R100 ANNOTATE: COVHA-20200316-P11-F08-N\n",
      "Valid task found VEP R100 ANNOTATE: COVHA-20200403-P1-D04-P\n"
     ]
    },
    {
     "name": "stdout",
     "output_type": "stream",
     "text": [
      "'NoneType' object has no attribute 'id'\n",
      "Skipping warn_txt for VEP R100 ANNOTATE: COVHA-20200316-P11-F08-N due to error\n"
     ]
    },
    {
     "name": "stderr",
     "output_type": "stream",
     "text": [
      "Valid task found VEP R100 ANNOTATE: COVHA-20200403-P1-A05-P\n",
      "Valid task found VEP R100 ANNOTATE: COVHA-20200316-P11-A02-N\n"
     ]
    },
    {
     "name": "stdout",
     "output_type": "stream",
     "text": [
      "'NoneType' object has no attribute 'id'\n",
      "Skipping warn_txt for VEP R100 ANNOTATE: COVHA-20200403-P1-A05-P due to error\n"
     ]
    },
    {
     "name": "stderr",
     "output_type": "stream",
     "text": [
      "Valid task found VEP R100 ANNOTATE: COVHA-20200314-P6-A05-N\n",
      "Valid task found VEP R100 ANNOTATE: COVHA-20200316-P11-C04-P\n"
     ]
    },
    {
     "name": "stdout",
     "output_type": "stream",
     "text": [
      "'NoneType' object has no attribute 'id'\n",
      "Skipping warn_txt for VEP R100 ANNOTATE: COVHA-20200314-P6-A05-N due to error\n"
     ]
    },
    {
     "name": "stderr",
     "output_type": "stream",
     "text": [
      "Valid task found VEP R100 ANNOTATE: COVHA-20200316-P12-B07-P\n",
      "Valid task found VEP R100 ANNOTATE: COVHA-20200316-P12-E05-N\n",
      "Valid task found VEP R100 ANNOTATE: COVHA-20200316-P11-D04-N\n",
      "Valid task found VEP R100 ANNOTATE: COVHA-20200316-P12-C01-P\n",
      "Valid task found VEP R100 ANNOTATE: COVHA-20200314-P8-H06-P\n",
      "Valid task found VEP R100 ANNOTATE: COVHA-20200315-P10-F10-P\n",
      "Valid task found VEP R100 ANNOTATE: COVHA-20200315-P10-F12-N\n",
      "Valid task found VEP R100 ANNOTATE: COVHA-20200314-P7-B04-N\n"
     ]
    },
    {
     "name": "stdout",
     "output_type": "stream",
     "text": [
      "'NoneType' object has no attribute 'id'\n",
      "Skipping warn_txt for VEP R100 ANNOTATE: COVHA-20200315-P10-F12-N due to error\n",
      "'NoneType' object has no attribute 'id'\n",
      "Skipping warn_txt for VEP R100 ANNOTATE: COVHA-20200314-P7-B04-N due to error\n"
     ]
    },
    {
     "name": "stderr",
     "output_type": "stream",
     "text": [
      "Valid task found VEP R100 ANNOTATE: COVHA-20200315-P9-A02-N\n",
      "Valid task found VEP R100 ANNOTATE: COVHA-20200316-P12-H04-N\n"
     ]
    },
    {
     "name": "stdout",
     "output_type": "stream",
     "text": [
      "'NoneType' object has no attribute 'id'\n",
      "Skipping warn_txt for VEP R100 ANNOTATE: COVHA-20200315-P9-A02-N due to error\n",
      "'NoneType' object has no attribute 'id'\n",
      "Skipping warn_txt for VEP R100 ANNOTATE: COVHA-20200316-P12-H04-N due to error\n",
      "'NoneType' object has no attribute 'id'\n",
      "Skipping warn_txt for VEP R100 ANNOTATE: COVHA-20200315-P10-G01-N due to error\n"
     ]
    },
    {
     "name": "stderr",
     "output_type": "stream",
     "text": [
      "Valid task found VEP R100 ANNOTATE: COVHA-20200315-P10-G01-N\n",
      "Valid task found VEP R100 ANNOTATE: COVHA-20200315-P10-A02-P\n",
      "Valid task found VEP R100 ANNOTATE: COVHA-20200315-P10-E06-P\n",
      "Valid task found VEP R100 ANNOTATE: COVHA-20200315-P10-E04-N\n",
      "Valid task found VEP R100 ANNOTATE: COVHA-20200316-P11-D05-N\n"
     ]
    },
    {
     "name": "stdout",
     "output_type": "stream",
     "text": [
      "'NoneType' object has no attribute 'id'\n",
      "Skipping warn_txt for VEP R100 ANNOTATE: COVHA-20200315-P10-E04-N due to error\n",
      "'NoneType' object has no attribute 'id'\n",
      "Skipping warn_txt for VEP R100 ANNOTATE: COVHA-20200316-P11-D05-N due to error\n"
     ]
    },
    {
     "name": "stderr",
     "output_type": "stream",
     "text": [
      "Valid task found VEP R100 ANNOTATE: COVHA-20200316-P12-A03-N\n",
      "Valid task found VEP R100 ANNOTATE: COVHA-20200316-P12-D01-N\n"
     ]
    },
    {
     "name": "stdout",
     "output_type": "stream",
     "text": [
      "'NoneType' object has no attribute 'id'\n",
      "Skipping warn_txt for VEP R100 ANNOTATE: COVHA-20200316-P12-A03-N due to error\n"
     ]
    },
    {
     "name": "stderr",
     "output_type": "stream",
     "text": [
      "Valid task found VEP R100 ANNOTATE: COVHA-20200315-P10-H02-N\n",
      "Valid task found VEP R100 ANNOTATE: COVHA-20200315-P10-D12-N\n",
      "Valid task found VEP R100 ANNOTATE: COVHA-20200315-P10-E10-N\n"
     ]
    },
    {
     "name": "stdout",
     "output_type": "stream",
     "text": [
      "'NoneType' object has no attribute 'id'\n",
      "Skipping warn_txt for VEP R100 ANNOTATE: COVHA-20200315-P10-D12-N due to error\n",
      "'NoneType' object has no attribute 'id'\n",
      "Skipping warn_txt for VEP R100 ANNOTATE: COVHA-20200315-P10-E10-N due to error\n"
     ]
    },
    {
     "name": "stderr",
     "output_type": "stream",
     "text": [
      "Valid task found VEP R100 ANNOTATE: COVHA-20200316-P11-C06-P\n",
      "Valid task found VEP R100 ANNOTATE: COVHA-20200316-P11-D02-N\n",
      "Valid task found VEP R100 ANNOTATE: COVHA-20200316-P11-F04-P\n",
      "Valid task found VEP R100 ANNOTATE: COVHA-20200316-P12-F03-P\n",
      "Valid task found VEP R100 ANNOTATE: COVHA-20200315-P10-B12-P\n",
      "Valid task found VEP R100 ANNOTATE: COVHA-20200403-P1-F03-P\n",
      "Valid task found VEP R100 ANNOTATE: COVHA-20200316-P11-H07-N\n",
      "Valid task found VEP R100 ANNOTATE: COVHA-20200403-P1-A04-CP\n",
      "Valid task found VEP R100 ANNOTATE: COVHA-20200316-P11-C07-N\n",
      "Valid task found VEP R100 ANNOTATE: COVHA-20200315-P10-A06-P\n"
     ]
    },
    {
     "name": "stdout",
     "output_type": "stream",
     "text": [
      "'NoneType' object has no attribute 'id'\n",
      "Skipping warn_txt for VEP R100 ANNOTATE: COVHA-20200316-P11-C07-N due to error\n"
     ]
    },
    {
     "name": "stderr",
     "output_type": "stream",
     "text": [
      "Valid task found VEP R100 ANNOTATE: COVHA-20200315-P10-A08-P\n"
     ]
    },
    {
     "name": "stdout",
     "output_type": "stream",
     "text": [
      "'NoneType' object has no attribute 'id'\n",
      "Skipping warn_txt for VEP R100 ANNOTATE: COVHA-20200315-P10-A08-P due to error\n"
     ]
    },
    {
     "name": "stderr",
     "output_type": "stream",
     "text": [
      "Valid task found VEP R100 ANNOTATE: COVHA-20200316-P12-F07-P\n",
      "Valid task found VEP R100 ANNOTATE: COVHA-20200403-P1-G01-P\n",
      "Valid task found VEP R100 ANNOTATE: COVHA-20200315-P10-G12-N\n",
      "Valid task found VEP R100 ANNOTATE: COVHA-20200314-P6-H04-N\n"
     ]
    },
    {
     "name": "stdout",
     "output_type": "stream",
     "text": [
      "'NoneType' object has no attribute 'id'\n",
      "Skipping warn_txt for VEP R100 ANNOTATE: COVHA-20200314-P6-H04-N due to error\n"
     ]
    },
    {
     "name": "stderr",
     "output_type": "stream",
     "text": [
      "Valid task found VEP R100 ANNOTATE: COVHA-20200316-P12-G04-P\n"
     ]
    },
    {
     "name": "stdout",
     "output_type": "stream",
     "text": [
      "'NoneType' object has no attribute 'id'\n",
      "Skipping warn_txt for VEP R100 ANNOTATE: COVHA-20200316-P12-G04-P due to error\n"
     ]
    },
    {
     "name": "stderr",
     "output_type": "stream",
     "text": [
      "Valid task found VEP R100 ANNOTATE: COVHA-20200315-P10-B09-P\n",
      "Valid task found VEP R100 ANNOTATE: COVHA-20200315-P9-H01-N\n",
      "Valid task found VEP R100 ANNOTATE: COVHA-20200316-P12-G01-P\n"
     ]
    },
    {
     "name": "stdout",
     "output_type": "stream",
     "text": [
      "'NoneType' object has no attribute 'id'\n",
      "Skipping warn_txt for VEP R100 ANNOTATE: COVHA-20200315-P9-H01-N due to error\n"
     ]
    },
    {
     "name": "stderr",
     "output_type": "stream",
     "text": [
      "Valid task found VEP R100 ANNOTATE: COVHA-20200316-P12-G06-P\n",
      "Valid task found VEP R100 ANNOTATE: COVHA-20200315-P10-G10-P\n",
      "Valid task found VEP R100 ANNOTATE: COVHA-20200316-P11-H04-N\n",
      "Valid task found VEP R100 ANNOTATE: COVHA-20200316-P11-B07-P\n"
     ]
    },
    {
     "name": "stdout",
     "output_type": "stream",
     "text": [
      "'NoneType' object has no attribute 'id'\n",
      "Skipping warn_txt for VEP R100 ANNOTATE: COVHA-20200316-P11-H04-N due to error\n"
     ]
    },
    {
     "name": "stderr",
     "output_type": "stream",
     "text": [
      "Valid task found VEP R100 ANNOTATE: COVHA-20200315-P10-F02-N\n",
      "Valid task found VEP R100 ANNOTATE: COVHA-20200313-P5-A05-N\n"
     ]
    },
    {
     "name": "stdout",
     "output_type": "stream",
     "text": [
      "'NoneType' object has no attribute 'id'\n",
      "Skipping warn_txt for VEP R100 ANNOTATE: COVHA-20200315-P10-F02-N due to error\n",
      "'NoneType' object has no attribute 'id'\n",
      "Skipping warn_txt for VEP R100 ANNOTATE: COVHA-20200313-P5-A05-N due to error\n"
     ]
    },
    {
     "name": "stderr",
     "output_type": "stream",
     "text": [
      "Valid task found VEP R100 ANNOTATE: COVHA-20200316-P12-A06-N\n",
      "Valid task found VEP R100 ANNOTATE: COVHA-20200316-P12-C04-P\n",
      "Valid task found VEP R100 ANNOTATE: COVHA-20200403-P1-G04-P\n",
      "Valid task found VEP R100 ANNOTATE: COVHA-20200403-P1-E01-P\n"
     ]
    },
    {
     "name": "stdout",
     "output_type": "stream",
     "text": [
      "'NoneType' object has no attribute 'id'\n",
      "Skipping warn_txt for VEP R100 ANNOTATE: COVHA-20200403-P1-G04-P due to error\n"
     ]
    },
    {
     "name": "stderr",
     "output_type": "stream",
     "text": [
      "Valid task found VEP R100 ANNOTATE: COVHA-20200316-P12-H07-N\n",
      "Valid task found VEP R100 ANNOTATE: COVHA-20200311-P1-B01-CN\n"
     ]
    },
    {
     "name": "stdout",
     "output_type": "stream",
     "text": [
      "'NoneType' object has no attribute 'id'\n",
      "Skipping warn_txt for VEP R100 ANNOTATE: COVHA-20200316-P12-H07-N due to error\n",
      "'NoneType' object has no attribute 'id'\n",
      "Skipping warn_txt for VEP R100 ANNOTATE: COVHA-20200311-P1-B01-CN due to error\n"
     ]
    },
    {
     "name": "stderr",
     "output_type": "stream",
     "text": [
      "Valid task found VEP R100 ANNOTATE: COVHA-20200316-P12-E08-N\n",
      "Valid task found VEP R100 ANNOTATE: COVHA-20200403-P1-A02-P\n",
      "Valid task found VEP R100 ANNOTATE: COVHA-20200403-P2-A04-CP\n",
      "Valid task found VEP R100 ANNOTATE: COVHA-20200316-P11-E08-N\n",
      "Valid task found VEP R100 ANNOTATE: COVHA-20200403-P1-B03-P\n"
     ]
    },
    {
     "name": "stdout",
     "output_type": "stream",
     "text": [
      "'NoneType' object has no attribute 'id'\n",
      "Skipping warn_txt for VEP R100 ANNOTATE: COVHA-20200316-P11-E08-N due to error\n"
     ]
    },
    {
     "name": "stderr",
     "output_type": "stream",
     "text": [
      "Valid task found VEP R100 ANNOTATE: COVHA-20200316-P11-E01-N\n",
      "Valid task found VEP R100 ANNOTATE: COVHA-20200316-P12-C02-N\n"
     ]
    },
    {
     "name": "stdout",
     "output_type": "stream",
     "text": [
      "'NoneType' object has no attribute 'id'\n",
      "Skipping warn_txt for VEP R100 ANNOTATE: COVHA-20200316-P11-E01-N due to error\n"
     ]
    },
    {
     "name": "stderr",
     "output_type": "stream",
     "text": [
      "Valid task found VEP R100 ANNOTATE: COVHA-20200316-P11-H01-N\n",
      "Valid task found VEP R100 ANNOTATE: COVHA-20200403-P1-A03-P\n",
      "Valid task found VEP R100 ANNOTATE: COVHA-20200316-P11-G08-N\n"
     ]
    },
    {
     "name": "stdout",
     "output_type": "stream",
     "text": [
      "'NoneType' object has no attribute 'id'\n",
      "Skipping warn_txt for VEP R100 ANNOTATE: COVHA-20200316-P11-G08-N due to error\n",
      "'NoneType' object has no attribute 'id'\n",
      "Skipping warn_txt for VEP R100 ANNOTATE: COVHA-20200403-P2-B03-N due to error\n"
     ]
    },
    {
     "name": "stderr",
     "output_type": "stream",
     "text": [
      "Valid task found VEP R100 ANNOTATE: COVHA-20200403-P2-B03-N\n",
      "Valid task found VEP R100 ANNOTATE: COVHA-20200316-P11-B09-N\n",
      "Valid task found VEP R100 ANNOTATE: COVHA-20200314-P7-A02-P\n",
      "Valid task found VEP R100 ANNOTATE: COVHA-20200316-P12-D05-N\n",
      "Valid task found VEP R100 ANNOTATE: COVHA-20200315-P9-B02-N\n"
     ]
    },
    {
     "name": "stdout",
     "output_type": "stream",
     "text": [
      "'NoneType' object has no attribute 'id'\n",
      "Skipping warn_txt for VEP R100 ANNOTATE: COVHA-20200316-P12-D05-N due to error\n",
      "'NoneType' object has no attribute 'id'\n",
      "Skipping warn_txt for VEP R100 ANNOTATE: COVHA-20200315-P9-B02-N due to error\n"
     ]
    },
    {
     "name": "stderr",
     "output_type": "stream",
     "text": [
      "Valid task found VEP R100 ANNOTATE: COVHA-20200403-P1-B04-CN\n",
      "Valid task found VEP R100 ANNOTATE: COVHA-20200403-P1-E02-P\n"
     ]
    },
    {
     "name": "stdout",
     "output_type": "stream",
     "text": [
      "'NoneType' object has no attribute 'id'\n",
      "Skipping warn_txt for VEP R100 ANNOTATE: COVHA-20200403-P1-B04-CN due to error\n"
     ]
    },
    {
     "name": "stderr",
     "output_type": "stream",
     "text": [
      "Valid task found VEP R100 ANNOTATE: COVHA-20200311-P1-B05-N\n",
      "Valid task found VEP R100 ANNOTATE: COVHA-20200316-P12-E02-N\n"
     ]
    },
    {
     "name": "stdout",
     "output_type": "stream",
     "text": [
      "'NoneType' object has no attribute 'id'\n",
      "Skipping warn_txt for VEP R100 ANNOTATE: COVHA-20200311-P1-B05-N due to error\n",
      "'NoneType' object has no attribute 'id'\n",
      "Skipping warn_txt for VEP R100 ANNOTATE: COVHA-20200316-P12-E02-N due to error\n"
     ]
    },
    {
     "name": "stderr",
     "output_type": "stream",
     "text": [
      "Valid task found VEP R100 ANNOTATE: COVHA-20200316-P12-G05-N\n",
      "Valid task found VEP R100 ANNOTATE: COVHA-20200316-P12-B03-N\n"
     ]
    },
    {
     "name": "stdout",
     "output_type": "stream",
     "text": [
      "'NoneType' object has no attribute 'id'\n",
      "Skipping warn_txt for VEP R100 ANNOTATE: COVHA-20200316-P12-G05-N due to error\n",
      "'NoneType' object has no attribute 'id'\n",
      "Skipping warn_txt for VEP R100 ANNOTATE: COVHA-20200316-P12-B03-N due to error\n"
     ]
    },
    {
     "name": "stderr",
     "output_type": "stream",
     "text": [
      "Valid task found VEP R100 ANNOTATE: COVHA-20200316-P12-E03-N\n",
      "Valid task found VEP R100 ANNOTATE: COVHA-20200316-P12-E04-N\n",
      "Valid task found VEP R100 ANNOTATE: COVHA-20200314-P8-A03-N\n"
     ]
    },
    {
     "name": "stdout",
     "output_type": "stream",
     "text": [
      "'NoneType' object has no attribute 'id'\n",
      "Skipping warn_txt for VEP R100 ANNOTATE: COVHA-20200316-P12-E04-N due to error\n",
      "'NoneType' object has no attribute 'id'\n",
      "Skipping warn_txt for VEP R100 ANNOTATE: COVHA-20200314-P8-A03-N due to error\n"
     ]
    },
    {
     "name": "stderr",
     "output_type": "stream",
     "text": [
      "Valid task found VEP R100 ANNOTATE: COVHA-20200315-P10-E07-P\n",
      "Valid task found VEP R100 ANNOTATE: COVHA-20200316-P12-D02-P\n",
      "Valid task found VEP R100 ANNOTATE: COVHA-20200316-P12-B04-P\n",
      "Valid task found VEP R100 ANNOTATE: COVHA-20200315-P10-E01-P\n",
      "Valid task found VEP R100 ANNOTATE: COVHA-20200403-P1-C03-P\n",
      "Valid task found VEP R100 ANNOTATE: COVHA-20200403-P1-F05-P\n"
     ]
    },
    {
     "name": "stdout",
     "output_type": "stream",
     "text": [
      "'NoneType' object has no attribute 'id'\n",
      "Skipping warn_txt for VEP R100 ANNOTATE: COVHA-20200403-P1-F05-P due to error\n"
     ]
    },
    {
     "name": "stderr",
     "output_type": "stream",
     "text": [
      "Valid task found VEP R100 ANNOTATE: COVHA-20200316-P11-C08-N\n",
      "Valid task found VEP R100 ANNOTATE: COVHA-20200316-P11-B05-N\n"
     ]
    },
    {
     "name": "stdout",
     "output_type": "stream",
     "text": [
      "'NoneType' object has no attribute 'id'\n",
      "Skipping warn_txt for VEP R100 ANNOTATE: COVHA-20200316-P11-C08-N due to error\n"
     ]
    },
    {
     "name": "stderr",
     "output_type": "stream",
     "text": [
      "Valid task found VEP R100 ANNOTATE: COVHA-20200316-P12-C06-N\n",
      "Valid task found VEP R100 ANNOTATE: COVHA-20200314-P7-A06-N\n",
      "Valid task found VEP R100 ANNOTATE: COVHA-20200403-P1-D03-P\n"
     ]
    },
    {
     "name": "stdout",
     "output_type": "stream",
     "text": [
      "'NoneType' object has no attribute 'id'\n",
      "Skipping warn_txt for VEP R100 ANNOTATE: COVHA-20200314-P7-A06-N due to error\n"
     ]
    },
    {
     "name": "stderr",
     "output_type": "stream",
     "text": [
      "Valid task found VEP R100 ANNOTATE: COVHA-20200316-P11-F07-P\n",
      "Valid task found VEP R100 ANNOTATE: COVHA-20200316-P12-H03-N\n",
      "Valid task found VEP R100 ANNOTATE: COVHA-20200314-P7-C07-P\n"
     ]
    },
    {
     "name": "stdout",
     "output_type": "stream",
     "text": [
      "'NoneType' object has no attribute 'id'\n",
      "Skipping warn_txt for VEP R100 ANNOTATE: COVHA-20200316-P12-H03-N due to error\n"
     ]
    },
    {
     "name": "stderr",
     "output_type": "stream",
     "text": [
      "Valid task found VEP R100 ANNOTATE: COVHA-20200316-P12-G07-N\n",
      "Valid task found VEP R100 ANNOTATE: COVHA-20200315-P9-G01-P\n"
     ]
    },
    {
     "name": "stdout",
     "output_type": "stream",
     "text": [
      "'NoneType' object has no attribute 'id'\n",
      "Skipping warn_txt for VEP R100 ANNOTATE: COVHA-20200316-P12-G07-N due to error\n"
     ]
    },
    {
     "name": "stderr",
     "output_type": "stream",
     "text": [
      "Valid task found VEP R100 ANNOTATE: COVHA-20200316-P11-D07-N\n",
      "Valid task found VEP R100 ANNOTATE: COVHA-20200315-P10-D07-N\n"
     ]
    },
    {
     "name": "stdout",
     "output_type": "stream",
     "text": [
      "'NoneType' object has no attribute 'id'\n",
      "Skipping warn_txt for VEP R100 ANNOTATE: COVHA-20200316-P11-D07-N due to error\n"
     ]
    },
    {
     "name": "stderr",
     "output_type": "stream",
     "text": [
      "Valid task found VEP R100 ANNOTATE: COVHA-20200314-P6-D07-N\n",
      "Valid task found VEP R100 ANNOTATE: COVHA-20200403-P1-E05-P\n"
     ]
    },
    {
     "name": "stdout",
     "output_type": "stream",
     "text": [
      "'NoneType' object has no attribute 'id'\n",
      "Skipping warn_txt for VEP R100 ANNOTATE: COVHA-20200314-P6-D07-N due to error\n",
      "'NoneType' object has no attribute 'id'\n",
      "Skipping warn_txt for VEP R100 ANNOTATE: COVHA-20200403-P1-E05-P due to error\n"
     ]
    },
    {
     "name": "stderr",
     "output_type": "stream",
     "text": [
      "Valid task found VEP R100 ANNOTATE: COVHA-20200316-P12-G08-P\n",
      "Valid task found VEP R100 ANNOTATE: COVHA-20200315-P10-C05-N\n"
     ]
    },
    {
     "name": "stdout",
     "output_type": "stream",
     "text": [
      "'NoneType' object has no attribute 'id'\n",
      "Skipping warn_txt for VEP R100 ANNOTATE: COVHA-20200315-P10-C05-N due to error\n",
      "'NoneType' object has no attribute 'id'\n",
      "Skipping warn_txt for VEP R100 ANNOTATE: COVHA-20200316-P11-C02-N due to error\n"
     ]
    },
    {
     "name": "stderr",
     "output_type": "stream",
     "text": [
      "Valid task found VEP R100 ANNOTATE: COVHA-20200316-P11-C02-N\n",
      "Valid task found VEP R100 ANNOTATE: COVHA-20200314-P9-H04-N\n"
     ]
    },
    {
     "name": "stdout",
     "output_type": "stream",
     "text": [
      "'NoneType' object has no attribute 'id'\n",
      "Skipping warn_txt for VEP R100 ANNOTATE: COVHA-20200314-P9-H04-N due to error\n",
      "'NoneType' object has no attribute 'id'\n",
      "Skipping warn_txt for VEP R100 ANNOTATE: COVHA-20200316-P11-F01-N due to error\n"
     ]
    },
    {
     "name": "stderr",
     "output_type": "stream",
     "text": [
      "Valid task found VEP R100 ANNOTATE: COVHA-20200316-P11-F01-N\n",
      "Valid task found VEP R100 ANNOTATE: COVHA-20200311-P1-E07-N\n"
     ]
    },
    {
     "name": "stdout",
     "output_type": "stream",
     "text": [
      "'NoneType' object has no attribute 'id'\n",
      "Skipping warn_txt for VEP R100 ANNOTATE: COVHA-20200311-P1-E07-N due to error\n"
     ]
    },
    {
     "name": "stderr",
     "output_type": "stream",
     "text": [
      "Valid task found VEP R100 ANNOTATE: COVHA-20200316-P12-F06-N\n",
      "Valid task found VEP R100 ANNOTATE: COVHA-20200315-P10-E11-N\n",
      "Valid task found VEP R100 ANNOTATE: COVHA-20200403-P1-D05-P\n",
      "Valid task found VEP R100 ANNOTATE: COVWC-20200313-P4-H01-N\n",
      "Valid task found VEP R100 ANNOTATE: COVHA-20200316-P12-G03-P\n",
      "Valid task found VEP R100 ANNOTATE: COVHA-20200316-P12-A09-P\n",
      "Valid task found VEP R100 ANNOTATE: COVHA-20200315-P9-H02-N\n",
      "Valid task found VEP R100 ANNOTATE: COVHA-20200315-P10-H04-P\n"
     ]
    },
    {
     "name": "stdout",
     "output_type": "stream",
     "text": [
      "'NoneType' object has no attribute 'id'\n",
      "Skipping warn_txt for VEP R100 ANNOTATE: COVHA-20200315-P9-H02-N due to error\n"
     ]
    },
    {
     "name": "stderr",
     "output_type": "stream",
     "text": [
      "Valid task found VEP R100 ANNOTATE: COVHA-20200403-P2-A01-CP\n",
      "Valid task found VEP R100 ANNOTATE: COVHA-20200316-P11-G06-N\n",
      "Valid task found VEP R100 ANNOTATE: COVHA-20200313-P4-C05-N\n"
     ]
    },
    {
     "name": "stdout",
     "output_type": "stream",
     "text": [
      "'NoneType' object has no attribute 'id'\n",
      "Skipping warn_txt for VEP R100 ANNOTATE: COVHA-20200313-P4-C05-N due to error\n"
     ]
    },
    {
     "name": "stderr",
     "output_type": "stream",
     "text": [
      "Valid task found VEP R100 ANNOTATE: COVHA-20200314-P7-H02-P\n",
      "Valid task found VEP R100 ANNOTATE: COVHA-20200403-P2-C05-N\n"
     ]
    },
    {
     "name": "stdout",
     "output_type": "stream",
     "text": [
      "'NoneType' object has no attribute 'id'\n",
      "Skipping warn_txt for VEP R100 ANNOTATE: COVHA-20200403-P2-C05-N due to error\n"
     ]
    },
    {
     "name": "stderr",
     "output_type": "stream",
     "text": [
      "Valid task found VEP R100 ANNOTATE: COVHA-20200316-P12-D09-P\n"
     ]
    },
    {
     "name": "stdout",
     "output_type": "stream",
     "text": [
      "'NoneType' object has no attribute 'id'\n",
      "Skipping warn_txt for VEP R100 ANNOTATE: COVHA-20200316-P12-B09-N due to error\n"
     ]
    },
    {
     "name": "stderr",
     "output_type": "stream",
     "text": [
      "Valid task found VEP R100 ANNOTATE: COVHA-20200316-P12-B09-N\n",
      "Valid task found VEP R100 ANNOTATE: COVHA-20200316-P12-H05-N\n",
      "Valid task found VEP R100 ANNOTATE: COVHA-20200316-P12-B08-N\n",
      "Valid task found VEP R100 ANNOTATE: COVHA-20200316-P11-F06-P\n",
      "Valid task found VEP R100 ANNOTATE: COVHA-20200403-P1-D01-P\n",
      "Valid task found VEP R100 ANNOTATE: COVHA-20200403-P1-H04-P\n",
      "Valid task found VEP R100 ANNOTATE: COVHA-20200316-P12-C07-N\n",
      "Valid task found VEP R100 ANNOTATE: COVHA-20200316-P12-F08-P\n",
      "Valid task found VEP R100 ANNOTATE: COVHA-20200316-P12-H01-P\n",
      "Valid task found VEP R100 ANNOTATE: COVHA-20200403-P1-D06-P\n",
      "Valid task found VEP R100 ANNOTATE: COVHA-20200316-P12-F02-P\n",
      "Valid task found VEP R100 ANNOTATE: COVHA-20200403-P1-F02-P\n",
      "Valid task found VEP R100 ANNOTATE: COVHA-20200312-P2-A01-CP\n",
      "Valid task found VEP R100 ANNOTATE: COVHA-20200403-P1-E03-P\n",
      "Valid task found VEP R100 ANNOTATE: COVHA-20200403-P2-B04-CN\n",
      "Valid task found VEP R100 ANNOTATE: COVWC-20200313-P4-D01-P\n"
     ]
    },
    {
     "name": "stdout",
     "output_type": "stream",
     "text": [
      "'NoneType' object has no attribute 'id'\n",
      "Skipping warn_txt for VEP R100 ANNOTATE: COVHA-20200403-P2-B04-CN due to error\n"
     ]
    },
    {
     "name": "stderr",
     "output_type": "stream",
     "text": [
      "Valid task found VEP R100 ANNOTATE: COVHA-20200403-P2-C02-N\n",
      "Valid task found VEP R100 ANNOTATE: COVHA-20200403-P1-B05-P\n"
     ]
    },
    {
     "name": "stdout",
     "output_type": "stream",
     "text": [
      "'NoneType' object has no attribute 'id'\n",
      "Skipping warn_txt for VEP R100 ANNOTATE: COVHA-20200403-P2-C02-N due to error\n"
     ]
    },
    {
     "name": "stderr",
     "output_type": "stream",
     "text": [
      "Valid task found VEP R100 ANNOTATE: COVHA-20200316-P12-B05-N\n",
      "Valid task found VEP R100 ANNOTATE: COVHA-20200403-P1-C05-P\n"
     ]
    },
    {
     "name": "stdout",
     "output_type": "stream",
     "text": [
      "'NoneType' object has no attribute 'id'\n",
      "Skipping warn_txt for VEP R100 ANNOTATE: COVHA-20200316-P12-B05-N due to error\n"
     ]
    },
    {
     "name": "stderr",
     "output_type": "stream",
     "text": [
      "Valid task found VEP R100 ANNOTATE: COVHA-20200403-P2-B01-CN\n",
      "Valid task found VEP R100 ANNOTATE: COVHA-20200403-P2-A05-N\n"
     ]
    },
    {
     "name": "stdout",
     "output_type": "stream",
     "text": [
      "'NoneType' object has no attribute 'id'\n",
      "Skipping warn_txt for VEP R100 ANNOTATE: COVHA-20200403-P2-B01-CN due to error\n",
      "'NoneType' object has no attribute 'id'\n",
      "Skipping warn_txt for VEP R100 ANNOTATE: COVHA-20200403-P2-A05-N due to error\n"
     ]
    },
    {
     "name": "stderr",
     "output_type": "stream",
     "text": [
      "Valid task found VEP R100 ANNOTATE: COVHA-20200316-P12-C09-P\n",
      "Valid task found VEP R100 ANNOTATE: COVHA-20200316-P12-E01-P\n",
      "Valid task found VEP R100 ANNOTATE: COVHA-20200316-P11-A05-N\n",
      "Valid task found VEP R100 ANNOTATE: COVHA-20200403-P1-C06-P\n",
      "Valid task found VEP R100 ANNOTATE: COVHA-20200403-P2-E01-N\n"
     ]
    },
    {
     "name": "stdout",
     "output_type": "stream",
     "text": [
      "'NoneType' object has no attribute 'id'\n",
      "Skipping warn_txt for VEP R100 ANNOTATE: COVHA-20200403-P2-E01-N due to error\n"
     ]
    },
    {
     "name": "stderr",
     "output_type": "stream",
     "text": [
      "Valid task found VEP R100 ANNOTATE: COVHA-20200311-P7-H09-N\n",
      "Valid task found VEP R100 ANNOTATE: COVHA-20200403-P1-G02-P\n",
      "Valid task found VEP R100 ANNOTATE: COVHA-20200316-P12-D07-N\n",
      "Valid task found VEP R100 ANNOTATE: COVHA-20200403-P2-C06-N\n"
     ]
    },
    {
     "name": "stdout",
     "output_type": "stream",
     "text": [
      "'NoneType' object has no attribute 'id'\n",
      "Skipping warn_txt for VEP R100 ANNOTATE: COVHA-20200403-P2-C06-N due to error\n"
     ]
    },
    {
     "name": "stderr",
     "output_type": "stream",
     "text": [
      "Valid task found VEP R100 ANNOTATE: COVHA-20200314-P6-G07-N\n",
      "Valid task found VEP R100 ANNOTATE: COVHA-20200316-P12-F05-N\n",
      "Valid task found VEP R100 ANNOTATE: COVHA-20200403-P1-F01-P\n",
      "Valid task found VEP R100 ANNOTATE: COVHA-20200403-P1-H03-P\n",
      "Valid task found VEP R100 ANNOTATE: COVHA-20200403-P2-F02-N\n",
      "Valid task found VEP R100 ANNOTATE: COVHA-20200403-P2-C04-N\n"
     ]
    },
    {
     "name": "stdout",
     "output_type": "stream",
     "text": [
      "'NoneType' object has no attribute 'id'\n",
      "Skipping warn_txt for VEP R100 ANNOTATE: COVHA-20200403-P2-F02-N due to error\n",
      "'NoneType' object has no attribute 'id'\n",
      "Skipping warn_txt for VEP R100 ANNOTATE: COVHA-20200403-P2-C04-N due to error\n"
     ]
    },
    {
     "name": "stderr",
     "output_type": "stream",
     "text": [
      "Valid task found VEP R100 ANNOTATE: COVHA-20200403-P2-D01-N\n",
      "Valid task found VEP R100 ANNOTATE: COVHA-20200403-P2-A02-N\n"
     ]
    },
    {
     "name": "stdout",
     "output_type": "stream",
     "text": [
      "'NoneType' object has no attribute 'id'\n",
      "Skipping warn_txt for VEP R100 ANNOTATE: COVHA-20200403-P2-D01-N due to error\n",
      "'NoneType' object has no attribute 'id'\n",
      "Skipping warn_txt for VEP R100 ANNOTATE: COVHA-20200403-P2-A02-N due to error\n"
     ]
    },
    {
     "name": "stderr",
     "output_type": "stream",
     "text": [
      "Valid task found VEP R100 ANNOTATE: COVHA-20200403-P2-D03-N\n",
      "Valid task found VEP R100 ANNOTATE: COVHA-20200315-P10-E08-P\n"
     ]
    },
    {
     "name": "stdout",
     "output_type": "stream",
     "text": [
      "'NoneType' object has no attribute 'id'\n",
      "Skipping warn_txt for VEP R100 ANNOTATE: COVHA-20200403-P2-D03-N due to error\n"
     ]
    },
    {
     "name": "stderr",
     "output_type": "stream",
     "text": [
      "Valid task found VEP R100 ANNOTATE: COVHA-20200316-P12-H08-N\n",
      "Valid task found VEP R100 ANNOTATE: COVHA-20200403-P2-H03-N\n"
     ]
    },
    {
     "name": "stdout",
     "output_type": "stream",
     "text": [
      "'NoneType' object has no attribute 'id'\n",
      "Skipping warn_txt for VEP R100 ANNOTATE: COVHA-20200316-P12-H08-N due to error\n",
      "'NoneType' object has no attribute 'id'\n",
      "Skipping warn_txt for VEP R100 ANNOTATE: COVHA-20200403-P2-H03-N due to error\n"
     ]
    },
    {
     "name": "stderr",
     "output_type": "stream",
     "text": [
      "Valid task found VEP R100 ANNOTATE: COVHA-20200314-P9-F03-N\n",
      "Valid task found VEP R100 ANNOTATE: COVHA-20200403-P2-G01-N\n"
     ]
    },
    {
     "name": "stdout",
     "output_type": "stream",
     "text": [
      "'NoneType' object has no attribute 'id'\n",
      "Skipping warn_txt for VEP R100 ANNOTATE: COVHA-20200314-P9-F03-N due to error\n",
      "'NoneType' object has no attribute 'id'\n",
      "Skipping warn_txt for VEP R100 ANNOTATE: COVHA-20200403-P2-G01-N due to error\n"
     ]
    },
    {
     "name": "stderr",
     "output_type": "stream",
     "text": [
      "Valid task found VEP R100 ANNOTATE: COVHA-20200315-P9-F02-N\n",
      "Valid task found VEP R100 ANNOTATE: COVHA-20200313-P5-A01-CP\n"
     ]
    },
    {
     "name": "stdout",
     "output_type": "stream",
     "text": [
      "'NoneType' object has no attribute 'id'\n",
      "Skipping warn_txt for VEP R100 ANNOTATE: COVHA-20200315-P9-F02-N due to error\n"
     ]
    },
    {
     "name": "stderr",
     "output_type": "stream",
     "text": [
      "Valid task found VEP R100 ANNOTATE: COVHA-20200403-P1-G03-P\n",
      "Valid task found VEP R100 ANNOTATE: COVWC-20200313-P4-C01-P\n",
      "Valid task found VEP R100 ANNOTATE: COVHA-20200403-P2-B02-N\n",
      "Valid task found VEP R100 ANNOTATE: COVHA-20200403-P1-H02-P\n",
      "Valid task found VEP R100 ANNOTATE: COVHA-20200314-P7-A07-CN\n",
      "Valid task found VEP R100 ANNOTATE: COVHA-20200403-P1-E04-P\n"
     ]
    },
    {
     "name": "stdout",
     "output_type": "stream",
     "text": [
      "'NoneType' object has no attribute 'id'\n",
      "Skipping warn_txt for VEP R100 ANNOTATE: COVHA-20200314-P7-A07-CN due to error\n"
     ]
    },
    {
     "name": "stderr",
     "output_type": "stream",
     "text": [
      "Valid task found VEP R100 ANNOTATE: COVHA-20200312-P3-F01-N\n"
     ]
    },
    {
     "name": "stdout",
     "output_type": "stream",
     "text": [
      "'NoneType' object has no attribute 'id'\n",
      "Skipping warn_txt for VEP R100 ANNOTATE: COVHA-20200312-P3-F01-N due to error\n",
      "'NoneType' object has no attribute 'id'\n",
      "Skipping warn_txt for VEP R100 ANNOTATE: COVHA-20200403-P2-D02-N due to error\n"
     ]
    },
    {
     "name": "stderr",
     "output_type": "stream",
     "text": [
      "Valid task found VEP R100 ANNOTATE: COVHA-20200403-P2-D02-N\n",
      "Valid task found VEP R100 ANNOTATE: COVWC-20200313-P4-G01-N\n",
      "Valid task found VEP R100 ANNOTATE: COVHA-20200313-P5-F03-N\n",
      "Valid task found VEP R100 ANNOTATE: COVHA-20200314-P6-F06-N\n"
     ]
    },
    {
     "name": "stdout",
     "output_type": "stream",
     "text": [
      "'NoneType' object has no attribute 'id'\n",
      "Skipping warn_txt for VEP R100 ANNOTATE: COVHA-20200313-P5-F03-N due to error\n",
      "'NoneType' object has no attribute 'id'\n",
      "Skipping warn_txt for VEP R100 ANNOTATE: COVHA-20200314-P6-F06-N due to error\n"
     ]
    },
    {
     "name": "stderr",
     "output_type": "stream",
     "text": [
      "Valid task found VEP R100 ANNOTATE: COVHA-20200314-P7-H06-N\n",
      "Valid task found VEP R100 ANNOTATE: COVHA-20200403-P2-E02-N\n"
     ]
    },
    {
     "name": "stdout",
     "output_type": "stream",
     "text": [
      "'NoneType' object has no attribute 'id'\n",
      "Skipping warn_txt for VEP R100 ANNOTATE: COVHA-20200314-P7-H06-N due to error\n"
     ]
    },
    {
     "name": "stderr",
     "output_type": "stream",
     "text": [
      "Valid task found VEP R100 ANNOTATE: COVHA-20200403-P2-G02-N\n",
      "Valid task found VEP R100 ANNOTATE: COVHA-20200403-P2-A06-N\n"
     ]
    },
    {
     "name": "stdout",
     "output_type": "stream",
     "text": [
      "'NoneType' object has no attribute 'id'\n",
      "Skipping warn_txt for VEP R100 ANNOTATE: COVHA-20200403-P2-G02-N due to error\n",
      "'NoneType' object has no attribute 'id'\n",
      "Skipping warn_txt for VEP R100 ANNOTATE: COVHA-20200403-P2-A06-N due to error\n"
     ]
    },
    {
     "name": "stderr",
     "output_type": "stream",
     "text": [
      "Valid task found VEP R100 ANNOTATE: COVHA-20200403-P1-A01-CP\n",
      "Valid task found VEP R100 ANNOTATE: COVHA-20200316-P12-A04-CN\n",
      "Valid task found VEP R100 ANNOTATE: COVHA-20200314-P6-D04-N\n",
      "Valid task found VEP R100 ANNOTATE: COVHA-20200314-P8-C03-N\n"
     ]
    },
    {
     "name": "stdout",
     "output_type": "stream",
     "text": [
      "'NoneType' object has no attribute 'id'\n",
      "Skipping warn_txt for VEP R100 ANNOTATE: COVHA-20200314-P6-D04-N due to error\n",
      "'NoneType' object has no attribute 'id'\n",
      "Skipping warn_txt for VEP R100 ANNOTATE: COVHA-20200314-P8-C03-N due to error\n"
     ]
    },
    {
     "name": "stderr",
     "output_type": "stream",
     "text": [
      "Valid task found VEP R100 ANNOTATE: COVHA-20200403-P2-D04-N\n",
      "Valid task found VEP R100 ANNOTATE: COVHA-20200314-P6-B04-N\n"
     ]
    },
    {
     "name": "stdout",
     "output_type": "stream",
     "text": [
      "'NoneType' object has no attribute 'id'\n",
      "Skipping warn_txt for VEP R100 ANNOTATE: COVHA-20200403-P2-D04-N due to error\n",
      "'NoneType' object has no attribute 'id'\n",
      "Skipping warn_txt for VEP R100 ANNOTATE: COVHA-20200314-P6-B04-N due to error\n"
     ]
    },
    {
     "name": "stderr",
     "output_type": "stream",
     "text": [
      "Valid task found VEP R100 ANNOTATE: COVHA-20200403-P2-G03-N\n",
      "Valid task found VEP R100 ANNOTATE: COVHA-20200314-P6-F01-N\n"
     ]
    },
    {
     "name": "stdout",
     "output_type": "stream",
     "text": [
      "'NoneType' object has no attribute 'id'\n",
      "Skipping warn_txt for VEP R100 ANNOTATE: COVHA-20200403-P2-G03-N due to error\n",
      "'NoneType' object has no attribute 'id'\n",
      "Skipping warn_txt for VEP R100 ANNOTATE: COVHA-20200314-P6-F01-N due to error\n"
     ]
    },
    {
     "name": "stderr",
     "output_type": "stream",
     "text": [
      "Valid task found VEP R100 ANNOTATE: COVHA-20200314-P7-B09-N\n",
      "Valid task found VEP R100 ANNOTATE: COVHA-20200403-P2-F03-N\n",
      "Valid task found VEP R100 ANNOTATE: COVHA-20200316-P12-D04-P\n"
     ]
    },
    {
     "name": "stdout",
     "output_type": "stream",
     "text": [
      "'NoneType' object has no attribute 'id'\n",
      "Skipping warn_txt for VEP R100 ANNOTATE: COVHA-20200403-P2-F03-N due to error\n"
     ]
    },
    {
     "name": "stderr",
     "output_type": "stream",
     "text": [
      "Valid task found VEP R100 ANNOTATE: COVHA-20200313-P5-G05-P\n",
      "Valid task found VEP R100 ANNOTATE: COVHA-20200314-P7-H01-P\n",
      "Valid task found VEP R100 ANNOTATE: COVHA-20200403-P2-C03-N\n",
      "Valid task found VEP R100 ANNOTATE: COVHA-20200316-P12-F01-P\n"
     ]
    },
    {
     "name": "stdout",
     "output_type": "stream",
     "text": [
      "'NoneType' object has no attribute 'id'\n",
      "Skipping warn_txt for VEP R100 ANNOTATE: COVHA-20200403-P2-C03-N due to error\n"
     ]
    },
    {
     "name": "stderr",
     "output_type": "stream",
     "text": [
      "Valid task found VEP R100 ANNOTATE: COVHA-20200316-P11-F05-N\n",
      "Valid task found VEP R100 ANNOTATE: COVHA-20200403-P2-F01-N\n"
     ]
    },
    {
     "name": "stdout",
     "output_type": "stream",
     "text": [
      "'NoneType' object has no attribute 'id'\n",
      "Skipping warn_txt for VEP R100 ANNOTATE: COVHA-20200316-P11-F05-N due to error\n",
      "'NoneType' object has no attribute 'id'\n",
      "Skipping warn_txt for VEP R100 ANNOTATE: COVHA-20200403-P2-F01-N due to error\n"
     ]
    },
    {
     "name": "stderr",
     "output_type": "stream",
     "text": [
      "Valid task found VEP R100 ANNOTATE: COVHA-20200403-P2-G04-N\n",
      "Valid task found VEP R100 ANNOTATE: COVHA-20200314-P9-B08-P\n"
     ]
    },
    {
     "name": "stdout",
     "output_type": "stream",
     "text": [
      "'NoneType' object has no attribute 'id'\n",
      "Skipping warn_txt for VEP R100 ANNOTATE: COVHA-20200403-P2-G04-N due to error\n"
     ]
    },
    {
     "name": "stderr",
     "output_type": "stream",
     "text": [
      "Valid task found VEP R100 ANNOTATE: COVHA-20200315-P10-D06-P\n",
      "Valid task found VEP R100 ANNOTATE: COVHA-20200315-P9-C02-N\n",
      "Valid task found VEP R100 ANNOTATE: COVHA-20200316-P11-B02-N\n",
      "Valid task found VEP R100 ANNOTATE: COVHA-20200315-P10-B08-P\n",
      "Valid task found VEP R100 ANNOTATE: COVHA-20200316-P11-F09-P\n",
      "Valid task found VEP R100 ANNOTATE: COVHA-20200312-P3-E03-N\n",
      "Valid task found VEP R100 ANNOTATE: COVHA-20200312-P2-F04-N\n"
     ]
    },
    {
     "name": "stdout",
     "output_type": "stream",
     "text": [
      "'NoneType' object has no attribute 'id'\n",
      "Skipping warn_txt for VEP R100 ANNOTATE: COVHA-20200312-P3-E03-N due to error\n",
      "'NoneType' object has no attribute 'id'\n",
      "Skipping warn_txt for VEP R100 ANNOTATE: COVHA-20200312-P2-F04-N due to error\n"
     ]
    },
    {
     "name": "stderr",
     "output_type": "stream",
     "text": [
      "Valid task found VEP R100 ANNOTATE: COVHA-20200315-P10-C07-N\n",
      "Valid task found VEP R100 ANNOTATE: COVHA-20200316-P12-C05-N\n"
     ]
    },
    {
     "name": "stdout",
     "output_type": "stream",
     "text": [
      "'NoneType' object has no attribute 'id'\n",
      "Skipping warn_txt for VEP R100 ANNOTATE: COVHA-20200315-P10-C07-N due to error\n",
      "'NoneType' object has no attribute 'id'\n",
      "Skipping warn_txt for VEP R100 ANNOTATE: COVHA-20200316-P12-C05-N due to error\n"
     ]
    },
    {
     "name": "stderr",
     "output_type": "stream",
     "text": [
      "Valid task found VEP R100 ANNOTATE: COVHA-20200314-P8-H03-N\n",
      "Valid task found VEP R100 ANNOTATE: COVHA-20200403-P2-F05-N\n"
     ]
    },
    {
     "name": "stdout",
     "output_type": "stream",
     "text": [
      "'NoneType' object has no attribute 'id'\n",
      "Skipping warn_txt for VEP R100 ANNOTATE: COVHA-20200314-P8-H03-N due to error\n",
      "'NoneType' object has no attribute 'id'\n",
      "Skipping warn_txt for VEP R100 ANNOTATE: COVHA-20200403-P2-F05-N due to error\n"
     ]
    },
    {
     "name": "stderr",
     "output_type": "stream",
     "text": [
      "Valid task found VEP R100 ANNOTATE: COVHA-20200314-P7-D05-N\n",
      "Valid task found VEP R100 ANNOTATE: COVHA-20200403-P1-H05-P\n"
     ]
    },
    {
     "name": "stdout",
     "output_type": "stream",
     "text": [
      "'NoneType' object has no attribute 'id'\n",
      "Skipping warn_txt for VEP R100 ANNOTATE: COVHA-20200314-P7-D05-N due to error\n",
      "'NoneType' object has no attribute 'id'\n",
      "Skipping warn_txt for VEP R100 ANNOTATE: COVHA-20200403-P1-H05-P due to error\n"
     ]
    },
    {
     "name": "stderr",
     "output_type": "stream",
     "text": [
      "Valid task found VEP R100 ANNOTATE: COVHA-20200314-P9-E04-P\n",
      "Valid task found VEP R100 ANNOTATE: COVHA-20200316-P11-D01-N\n",
      "Valid task found VEP R100 ANNOTATE: COVHA-20200316-P12-F09-N\n",
      "Valid task found VEP R100 ANNOTATE: COVHA-20200315-P9-F01-N\n",
      "Valid task found VEP R100 ANNOTATE: COVHA-20200316-P11-B08-P\n",
      "Valid task found VEP R100 ANNOTATE: COVHA-20200316-P11-G04-N\n"
     ]
    },
    {
     "name": "stdout",
     "output_type": "stream",
     "text": [
      "'NoneType' object has no attribute 'id'\n",
      "Skipping warn_txt for VEP R100 ANNOTATE: COVHA-20200316-P11-G04-N due to error\n",
      "'NoneType' object has no attribute 'id'\n",
      "Skipping warn_txt for VEP R100 ANNOTATE: COVHA-20200316-P12-H06-N due to error\n"
     ]
    },
    {
     "name": "stderr",
     "output_type": "stream",
     "text": [
      "Valid task found VEP R100 ANNOTATE: COVHA-20200316-P12-H06-N\n",
      "Valid task found VEP R100 ANNOTATE: COVHA-20200316-P12-D08-P\n",
      "Valid task found VEP R100 ANNOTATE: COVHA-20200314-P7-B02-P\n",
      "Valid task found VEP R100 ANNOTATE: COVHA-20200403-P2-E05-N\n"
     ]
    },
    {
     "name": "stdout",
     "output_type": "stream",
     "text": [
      "'NoneType' object has no attribute 'id'\n",
      "Skipping warn_txt for VEP R100 ANNOTATE: COVHA-20200403-P2-E05-N due to error\n"
     ]
    },
    {
     "name": "stderr",
     "output_type": "stream",
     "text": [
      "Valid task found VEP R100 ANNOTATE: COVHA-20200403-P2-A03-N\n",
      "Valid task found VEP R100 ANNOTATE: COVHA-20200315-P10-C09-P\n",
      "Valid task found VEP R100 ANNOTATE: COVHA-20200403-P2-D06-N\n",
      "Valid task found VEP R100 ANNOTATE: COVHA-20200403-P2-E03-N\n"
     ]
    },
    {
     "name": "stdout",
     "output_type": "stream",
     "text": [
      "'NoneType' object has no attribute 'id'\n",
      "Skipping warn_txt for VEP R100 ANNOTATE: COVHA-20200403-P2-D06-N due to error\n",
      "'NoneType' object has no attribute 'id'\n",
      "Skipping warn_txt for VEP R100 ANNOTATE: COVHA-20200403-P2-E03-N due to error\n"
     ]
    },
    {
     "name": "stderr",
     "output_type": "stream",
     "text": [
      "Valid task found VEP R100 ANNOTATE: COVHA-20200403-P2-B05-N\n",
      "Valid task found VEP R100 ANNOTATE: COVWC-20200313-P4-F01-N\n",
      "Valid task found VEP R100 ANNOTATE: COVHA-20200314-P7-F04-P\n",
      "Valid task found VEP R100 ANNOTATE: COVHA-20200316-P12-A05-N\n",
      "Valid task found VEP R100 ANNOTATE: COVHA-20200314-P6-G04-N\n",
      "Valid task found VEP R100 ANNOTATE: COVHA-20200403-P2-H01-N\n"
     ]
    },
    {
     "name": "stdout",
     "output_type": "stream",
     "text": [
      "'NoneType' object has no attribute 'id'\n",
      "Skipping warn_txt for VEP R100 ANNOTATE: COVHA-20200314-P6-G04-N due to error\n",
      "'NoneType' object has no attribute 'id'\n",
      "Skipping warn_txt for VEP R100 ANNOTATE: COVHA-20200403-P2-H01-N due to error\n"
     ]
    },
    {
     "name": "stderr",
     "output_type": "stream",
     "text": [
      "Valid task found VEP R100 ANNOTATE: COVHA-20200316-P12-E06-P\n",
      "Valid task found VEP R100 ANNOTATE: COVHA-20200403-P2-C01-N\n"
     ]
    },
    {
     "name": "stdout",
     "output_type": "stream",
     "text": [
      "'NoneType' object has no attribute 'id'\n",
      "Skipping warn_txt for VEP R100 ANNOTATE: COVHA-20200403-P2-C01-N due to error\n"
     ]
    },
    {
     "name": "stderr",
     "output_type": "stream",
     "text": [
      "Valid task found VEP R100 ANNOTATE: COVHA-20200403-P1-B02-P\n",
      "Valid task found VEP R100 ANNOTATE: COVHA-20200314-P8-F02-N\n",
      "Valid task found VEP R100 ANNOTATE: COVHA-20200313-P5-A02-N\n"
     ]
    },
    {
     "name": "stdout",
     "output_type": "stream",
     "text": [
      "'NoneType' object has no attribute 'id'\n",
      "Skipping warn_txt for VEP R100 ANNOTATE: COVHA-20200314-P8-F02-N due to error\n",
      "'NoneType' object has no attribute 'id'\n",
      "Skipping warn_txt for VEP R100 ANNOTATE: COVHA-20200313-P5-A02-N due to error\n"
     ]
    },
    {
     "name": "stderr",
     "output_type": "stream",
     "text": [
      "Valid task found VEP R100 ANNOTATE: COVHA-20200403-P2-D05-N\n",
      "Valid task found VEP R100 ANNOTATE: COVHA-20200316-P11-G05-N\n",
      "Valid task found VEP R100 ANNOTATE: COVHA-20200403-P2-H04-N\n",
      "Valid task found VEP R100 ANNOTATE: COVHA-20200314-P7-G09-N\n"
     ]
    },
    {
     "name": "stdout",
     "output_type": "stream",
     "text": [
      "'NoneType' object has no attribute 'id'\n",
      "Skipping warn_txt for VEP R100 ANNOTATE: COVHA-20200403-P2-H04-N due to error\n",
      "'NoneType' object has no attribute 'id'\n",
      "Skipping warn_txt for VEP R100 ANNOTATE: COVHA-20200314-P7-G09-N due to error\n"
     ]
    },
    {
     "name": "stderr",
     "output_type": "stream",
     "text": [
      "Valid task found VEP R100 ANNOTATE: COVHA-20200403-P2-F04-N\n",
      "Valid task found VEP R100 ANNOTATE: COVHA-20200403-P2-B06-N\n"
     ]
    },
    {
     "name": "stdout",
     "output_type": "stream",
     "text": [
      "'NoneType' object has no attribute 'id'\n",
      "Skipping warn_txt for VEP R100 ANNOTATE: COVHA-20200403-P2-F04-N due to error\n",
      "'NoneType' object has no attribute 'id'\n",
      "Skipping warn_txt for VEP R100 ANNOTATE: COVHA-20200403-P2-B06-N due to error\n"
     ]
    },
    {
     "name": "stderr",
     "output_type": "stream",
     "text": [
      "Valid task found VEP R100 ANNOTATE: COVHA-20200314-P6-H05-N\n"
     ]
    },
    {
     "name": "stdout",
     "output_type": "stream",
     "text": [
      "'NoneType' object has no attribute 'id'\n",
      "Skipping warn_txt for VEP R100 ANNOTATE: COVHA-20200314-P6-H05-N due to error\n"
     ]
    },
    {
     "name": "stderr",
     "output_type": "stream",
     "text": [
      "Valid task found VEP R100 ANNOTATE: COVHA-20200403-P2-E04-N\n"
     ]
    },
    {
     "name": "stdout",
     "output_type": "stream",
     "text": [
      "'NoneType' object has no attribute 'id'\n",
      "Skipping warn_txt for VEP R100 ANNOTATE: COVHA-20200403-P2-E04-N due to error\n"
     ]
    },
    {
     "name": "stderr",
     "output_type": "stream",
     "text": [
      "Valid task found VEP R100 ANNOTATE: COVHA-20200314-P7-C08-P\n",
      "Valid task found VEP R100 ANNOTATE: COVHA-20200403-P2-G05-N\n",
      "Valid task found VEP R100 ANNOTATE: COVHA-20200316-P11-G07-N\n"
     ]
    },
    {
     "name": "stdout",
     "output_type": "stream",
     "text": [
      "'NoneType' object has no attribute 'id'\n",
      "Skipping warn_txt for VEP R100 ANNOTATE: COVHA-20200403-P2-G05-N due to error\n"
     ]
    },
    {
     "name": "stderr",
     "output_type": "stream",
     "text": [
      "Valid task found VEP R100 ANNOTATE: COVHA-20200314-P8-G01-P\n"
     ]
    }
   ],
   "source": [
    "prefix = 'VEP R100 ANNOTATE'\n",
    "project = \"d3b-bixu/rs-vpf5jbc3-cov-irt-controlled-access-study\"\n",
    "key = 'input_vcf'\n",
    "print(\"You sure tag outputs with task prefix: \" + prefix + \"? Type \\\"YASS\\\" if so\")\n",
    "check = input()\n",
    "if check == \"YASS\":\n",
    "    tasks = api.tasks.query(project=project, status=\"COMPLETED\").all()\n",
    "    for task in tasks:\n",
    "        add_metadata_to_outputs(task, prefix, key)\n",
    "else:\n",
    "    sys.stderr.write(\"User did not type YASS, skipping\\n\")"
   ]
  },
  {
   "cell_type": "markdown",
   "metadata": {},
   "source": [
    "## Get task outputs"
   ]
  },
  {
   "cell_type": "code",
   "execution_count": 2,
   "metadata": {},
   "outputs": [],
   "source": [
    "def write_to_manifest(out_fh, file_obj, out_key, task_name):\n",
    "    out_fh.write(\",\".join([file_obj.id, file_obj.name, out_key, task_name]) + \"\\n\")"
   ]
  },
  {
   "cell_type": "code",
   "execution_count": 5,
   "metadata": {},
   "outputs": [
    {
     "name": "stderr",
     "output_type": "stream",
     "text": [
      "Processing task: VEP R100 ANNOTATE: COVHA-20200311-P1-A01-CP\n"
     ]
    }
   ],
   "source": [
    "project = \"d3b-bixu/rs-vpf5jbc3-cov-irt-controlled-access-study\"\n",
    "tasks = api.tasks.query(project=project, status=\"COMPLETED\").all()\n",
    "out = open('/Users/brownm28/Documents/2020-Apr-8_RNAseq_snv_dev/manifests/test_vep_out.txt', 'w')\n",
    "out.write(\"id,name,output_category,task_name\\n\")\n",
    "phrase = \"VEP R100 ANNOTATE: COVHA-20200311-P1-A01-CP\"\n",
    "\n",
    "for task in tasks:\n",
    "    if re.search(phrase, task.name):\n",
    "        sys.stderr.write('Processing task: ' + task.name + \"\\n\")\n",
    "        for out_key in task.outputs:\n",
    "#             try:\n",
    "            if type(task.outputs[out_key]) is not list:\n",
    "                file_obj = task.outputs[out_key]\n",
    "                write_to_manifest(out, file_obj, out_key, task.name)\n",
    "                if task.outputs[out_key].secondary_files is not None:\n",
    "                    write_to_manifest(out, task.outputs[out_key].secondary_files[0], out_key, task.name)\n",
    "            else:\n",
    "                for i in range(len(task.outputs[out_key])):\n",
    "                    if type(task.outputs[out_key][i]) is not list:\n",
    "                        write_to_manifest(out, task.outputs[out_key][i], out_key, task.name)\n",
    "                        if task.outputs[out_key][i].secondary_files is not None:\n",
    "                            write_to_manifest(out, task.outputs[out_key][i].secondary_files[0], out_key, task.name)\n",
    "                    else:\n",
    "                        for j in range(len(task.outputs[out_key][i])):\n",
    "                            if task.outputs[out_key][i][j] is not None:\n",
    "                                write_to_manifest(out, task.outputs[out_key][i][j], out_key, task.name)\n",
    "                                if task.outputs[out_key][i][j].secondary_files is not None:\n",
    "                                    write_to_manifest(out, task.outputs[out_key][i][j].secondary_files[0], out_key, task.name)\n",
    "#             except Exception as e:\n",
    "#                 print(e)\n",
    "#                 print(\"Skipping \" + out_key + \" for \" + task.name + \" due to error\")\n",
    "out.close()\n"
   ]
  },
  {
   "cell_type": "markdown",
   "metadata": {},
   "source": [
    "## Abort unresponsive and restart tasks"
   ]
  },
  {
   "cell_type": "code",
   "execution_count": 23,
   "metadata": {},
   "outputs": [
    {
     "name": "stderr",
     "output_type": "stream",
     "text": [
      "Aborting 2b233b53-4e04-4691-ba01-114e806a27b6\tGATK RNAseq SNV: COVHA-20200403-P2-B06-N\n",
      "Aborting 26c0855b-3116-48fa-9f6f-680b3eadd3ef\tGATK RNAseq SNV: COVHA-20200403-P2-E04-N\n",
      "Aborting 44d400a2-4d1f-464e-93cf-32668e5da436\tGATK RNAseq SNV: COVHA-20200314-P7-C08-P\n"
     ]
    }
   ],
   "source": [
    "import datetime\n",
    "import pytz\n",
    "\n",
    "project = \"d3b-bixu/rs-vpf5jbc3-cov-irt-controlled-access-study\"\n",
    "tasks = api.tasks.query(project=project, status=\"RUNNING\")\n",
    "current = datetime.datetime.now()\n",
    "tz = pytz.timezone('America/New_York')\n",
    "prefix = \"GATK RNAseq SNV\"\n",
    "task_abort = open(\"/Users/brownm28/Documents/2020-Apr-8_RNAseq_snv_dev/TASK_RUN/aborted_and_restarted2.log\", 'w')\n",
    "task_abort.write(\"Task ID\\tTask name\\tNew Task ID\")\n",
    "for task in tasks:\n",
    "    if re.search(prefix, task.name):\n",
    "        for job in task.get_execution_details().jobs:\n",
    "            if job.name == \"preprocess_rnaseq_bam_sambamba_md_sorted\":\n",
    "                if job.status == \"RUNNING\":\n",
    "                    diff = (current-pytz.utc.localize(job.start_time, is_dst=None).astimezone(tz).replace(tzinfo=None)).seconds/3600\n",
    "                    if diff > 2:\n",
    "                        task_abort.write(task.id + \"\\t\" + task.name)\n",
    "                        in_dict = {}\n",
    "                        sys.stderr.write(\"Aborting \" + task.id + \"\\t\" + task.name + \"\\n\" )\n",
    "                        task.abort()\n",
    "                        new_task = task.clone(run=False)\n",
    "                        new_task.inputs['output_basename'] = new_task.id\n",
    "                        new_task.save()\n",
    "                        task_abort.write(\"\\t\" + new_task.id + \"\\n\")\n",
    "                        task_abort.flush()\n",
    "                    else:\n",
    "                        break\n",
    "                else:\n",
    "                    break\n",
    "task_abort.close()"
   ]
  },
  {
   "cell_type": "markdown",
   "metadata": {},
   "source": [
    "## Restart failed tasks"
   ]
  },
  {
   "cell_type": "code",
   "execution_count": 20,
   "metadata": {},
   "outputs": [],
   "source": [
    "project = \"d3b-bixu/rs-vpf5jbc3-cov-irt-controlled-access-study\"\n",
    "tasks = api.tasks.query(project=project, status=\"FAILED\")\n",
    "prefix = \"GATK RNAseq SNV\"\n",
    "task_restart = open(\"/Users/brownm28/Documents/2020-Apr-8_RNAseq_snv_dev/TASK_RUN/failed_and_restarted2.log\", 'w')\n",
    "task_restart.write(\"Task ID\\tTask name\\tNew Task ID\\n\")\n",
    "run_list = [\"GATK RNAseq SNV: COVHA-20200315-P9-F02-N\",\n",
    "             \"GATK RNAseq SNV: COVHA-20200316-P12-F01-P\",\"GATK RNAseq SNV: COVHA-20200403-P1-C06-P\"]\n",
    "for task in tasks:\n",
    "    if re.search(prefix, task.name) and task.name in run_list:\n",
    "        task_restart.write(task.id + \"\\t\" + task.name)\n",
    "        new_task = task.clone(run=False)\n",
    "        new_task.inputs['output_basename'] = new_task.id\n",
    "        new_task.save()\n",
    "        task_restart.write(\"\\t\" + new_task.id + \"\\n\")\n",
    "        task_restart.flush()\n",
    "task_restart.close()\n"
   ]
  },
  {
   "cell_type": "markdown",
   "metadata": {},
   "source": [
    "### Get Failed list"
   ]
  },
  {
   "cell_type": "code",
   "execution_count": 18,
   "metadata": {},
   "outputs": [],
   "source": [
    "project = \"d3b-bixu/rs-vpf5jbc3-cov-irt-controlled-access-study\"\n",
    "tasks = api.tasks.query(project=project, status=\"FAILED\")\n",
    "prefix = \"GATK RNAseq SNV\"\n",
    "task_failed = open(\"/Users/brownm28/Documents/2020-Apr-8_RNAseq_snv_dev/TASK_RUN/failed.log\", 'w')\n",
    "task_failed.write(\"Task ID\\tTask name\\n\")\n",
    "for task in tasks:\n",
    "    if re.search(prefix, task.name):\n",
    "        task_failed.write(task.id + \"\\t\" + task.name + \"\\n\")\n",
    "task_failed.close()"
   ]
  },
  {
   "cell_type": "markdown",
   "metadata": {},
   "source": [
    "### Remove outputs from failed and aborted tasks"
   ]
  },
  {
   "cell_type": "code",
   "execution_count": 9,
   "metadata": {},
   "outputs": [
    {
     "name": "stdout",
     "output_type": "stream",
     "text": [
      "You sure remove outputs from failed tasks with prefix: GATK RNAseq SNV? Type \"YASS\" if so\n",
      "YASS\n"
     ]
    }
   ],
   "source": [
    "project = \"d3b-bixu/rs-vpf5jbc3-cov-irt-controlled-access-study\"\n",
    "tasks = api.tasks.query(project=project, status=\"ABORTED\")\n",
    "prefix = \"GATK RNAseq SNV\"\n",
    "print(\"You sure remove outputs from failed tasks with prefix: \" + prefix + \"? Type \\\"YASS\\\" if so\")\n",
    "check = input()\n",
    "if check == \"YASS\":\n",
    "\n",
    "    for task in tasks:\n",
    "        if re.search(prefix, task.name):\n",
    "            for key in task.outputs:\n",
    "                if task.outputs[key] is not None:\n",
    "                    sys.stderr.write(\"Found files to remove from failed task: \" + task.id + \" \" + task.name + \"\\n\")\n",
    "                    try:\n",
    "                        if task.outputs[key].secondary_files is not None:\n",
    "                            sys.stderr.write(\"Removing secondary files\\n\")\n",
    "                            for i in range(0, len(task.outputs[key].secondary_files), 1):\n",
    "                                task.outputs[key].secondary_files[i].delete()\n",
    "                    except Exception as e:\n",
    "                        sys.stderr.write(str(e) + \"\\nFile with key \" + key + \" probably does not have secondaryFiles, skipping\\n\")\n",
    "                    try:\n",
    "                        task.outputs[key].delete()\n",
    "                    except Exception as e:\n",
    "                        sys.stderr.write(str(e) + \"\\nFile with key \" + key + \" was probably deleted before, skipping\\n\")            \n",
    "                    sys.stderr.write(\"Finished processing \" + task.id + \"\\n\")\n"
   ]
  },
  {
   "cell_type": "markdown",
   "metadata": {},
   "source": [
    "### Rename _\\d_ files"
   ]
  },
  {
   "cell_type": "code",
   "execution_count": 11,
   "metadata": {},
   "outputs": [
    {
     "name": "stdout",
     "output_type": "stream",
     "text": [
      "You sure you want to rename the files in that manifest? Type \"YASS\" if so\n",
      "YASS\n"
     ]
    },
    {
     "name": "stderr",
     "output_type": "stream",
     "text": [
      "Renaming file with ID 5eed644ae4b03703de625f64 _1_COVHA-20200314-P7-C07-P.all-reads_Aligned.sortedByCoord.out.md.splitn.recal_data.csv to COVHA-20200314-P7-C07-P.all-reads_Aligned.sortedByCoord.out.md.splitn.recal_data.csv\n",
      "Renaming file with ID 5eed644ae4b03703de625fd9 _1_COVHA-20200314-P7-C07-P.all-reads_Aligned.sortedByCoord.out.md.splitn.aligned.duplicates_marked.recalibrated.bam to COVHA-20200314-P7-C07-P.all-reads_Aligned.sortedByCoord.out.md.splitn.aligned.duplicates_marked.recalibrated.bam\n",
      "Renaming file with ID 5eed644ae4b03703de625fe1 _1_COVHA-20200314-P7-C07-P.all-reads_Aligned.sortedByCoord.out.md.splitn.aligned.duplicates_marked.recalibrated.bam.md5 to COVHA-20200314-P7-C07-P.all-reads_Aligned.sortedByCoord.out.md.splitn.aligned.duplicates_marked.recalibrated.bam.md5\n",
      "Renaming file with ID 5eed644ae4b03703de625fe3 _1_COVHA-20200314-P7-C07-P.all-reads_Aligned.sortedByCoord.out.md.splitn.aligned.duplicates_marked.recalibrated.bai to COVHA-20200314-P7-C07-P.all-reads_Aligned.sortedByCoord.out.md.splitn.aligned.duplicates_marked.recalibrated.bai\n",
      "Renaming file with ID 5eed644ae4b0a6d3113eaae6 _1_COVHA-20200316-P11-F01-N.all-reads_Aligned.sortedByCoord.out.md.splitn.recal_data.csv to COVHA-20200316-P11-F01-N.all-reads_Aligned.sortedByCoord.out.md.splitn.recal_data.csv\n",
      "Renaming file with ID 5eed644ae4b0a6d3113eaaf0 _1_COVHA-20200314-P6-D07-N.all-reads_Aligned.sortedByCoord.out.md.splitn.recal_data.csv to COVHA-20200314-P6-D07-N.all-reads_Aligned.sortedByCoord.out.md.splitn.recal_data.csv\n",
      "Renaming file with ID 5eed644be4b0a6d3113eab01 _1_COVHA-20200314-P6-D07-N.all-reads_Aligned.sortedByCoord.out.md.splitn.aligned.duplicates_marked.recalibrated.bam to COVHA-20200314-P6-D07-N.all-reads_Aligned.sortedByCoord.out.md.splitn.aligned.duplicates_marked.recalibrated.bam\n",
      "Renaming file with ID 5eed644be4b0a6d3113eab05 _1_COVHA-20200314-P6-D07-N.all-reads_Aligned.sortedByCoord.out.md.splitn.aligned.duplicates_marked.recalibrated.bam.md5 to COVHA-20200314-P6-D07-N.all-reads_Aligned.sortedByCoord.out.md.splitn.aligned.duplicates_marked.recalibrated.bam.md5\n",
      "Renaming file with ID 5eed644be4b0a6d3113eab06 _1_COVHA-20200314-P6-D07-N.all-reads_Aligned.sortedByCoord.out.md.splitn.aligned.duplicates_marked.recalibrated.bai to COVHA-20200314-P6-D07-N.all-reads_Aligned.sortedByCoord.out.md.splitn.aligned.duplicates_marked.recalibrated.bai\n",
      "Renaming file with ID 5eed644be4b0a6d3113eab0c _1_COVHA-20200316-P11-F01-N.all-reads_Aligned.sortedByCoord.out.md.splitn.aligned.duplicates_marked.recalibrated.bam to COVHA-20200316-P11-F01-N.all-reads_Aligned.sortedByCoord.out.md.splitn.aligned.duplicates_marked.recalibrated.bam\n",
      "Renaming file with ID 5eed644be4b0a6d3113eab10 _1_COVHA-20200315-P10-C05-N.all-reads_Aligned.sortedByCoord.out.md.splitn.recal_data.csv to COVHA-20200315-P10-C05-N.all-reads_Aligned.sortedByCoord.out.md.splitn.recal_data.csv\n",
      "Renaming file with ID 5eed644be4b0a6d3113eab14 _1_COVHA-20200316-P11-F01-N.all-reads_Aligned.sortedByCoord.out.md.splitn.aligned.duplicates_marked.recalibrated.bai to COVHA-20200316-P11-F01-N.all-reads_Aligned.sortedByCoord.out.md.splitn.aligned.duplicates_marked.recalibrated.bai\n",
      "Renaming file with ID 5eed644be4b0a6d3113eab15 _1_COVHA-20200316-P11-F01-N.all-reads_Aligned.sortedByCoord.out.md.splitn.aligned.duplicates_marked.recalibrated.bam.md5 to COVHA-20200316-P11-F01-N.all-reads_Aligned.sortedByCoord.out.md.splitn.aligned.duplicates_marked.recalibrated.bam.md5\n",
      "Renaming file with ID 5eed644ce4b03703de6260c1 _1_COVHA-20200315-P10-D07-N.all-reads_Aligned.sortedByCoord.out.md.splitn.recal_data.csv to COVHA-20200315-P10-D07-N.all-reads_Aligned.sortedByCoord.out.md.splitn.recal_data.csv\n",
      "Renaming file with ID 5eed644ce4b03703de6260c5 _1_COVHA-20200313-P4-C05-N.all-reads_Aligned.sortedByCoord.out.md.splitn.recal_data.csv to COVHA-20200313-P4-C05-N.all-reads_Aligned.sortedByCoord.out.md.splitn.recal_data.csv\n",
      "Renaming file with ID 5eed644ce4b0a6d3113eab23 _1_COVHA-20200315-P10-C05-N.all-reads_Aligned.sortedByCoord.out.md.splitn.aligned.duplicates_marked.recalibrated.bam to COVHA-20200315-P10-C05-N.all-reads_Aligned.sortedByCoord.out.md.splitn.aligned.duplicates_marked.recalibrated.bam\n",
      "Renaming file with ID 5eed644ce4b0a6d3113eab27 _1_COVHA-20200315-P10-C05-N.all-reads_Aligned.sortedByCoord.out.md.splitn.aligned.duplicates_marked.recalibrated.bai to COVHA-20200315-P10-C05-N.all-reads_Aligned.sortedByCoord.out.md.splitn.aligned.duplicates_marked.recalibrated.bai\n",
      "Renaming file with ID 5eed644ce4b0a6d3113eab29 _1_COVHA-20200315-P10-C05-N.all-reads_Aligned.sortedByCoord.out.md.splitn.aligned.duplicates_marked.recalibrated.bam.md5 to COVHA-20200315-P10-C05-N.all-reads_Aligned.sortedByCoord.out.md.splitn.aligned.duplicates_marked.recalibrated.bam.md5\n",
      "Renaming file with ID 5eed644de4b03703de6260c9 _1_COVHA-20200313-P4-C05-N.all-reads_Aligned.sortedByCoord.out.md.splitn.aligned.duplicates_marked.recalibrated.bam to COVHA-20200313-P4-C05-N.all-reads_Aligned.sortedByCoord.out.md.splitn.aligned.duplicates_marked.recalibrated.bam\n",
      "Renaming file with ID 5eed644de4b03703de6260cd _1_COVHA-20200313-P4-C05-N.all-reads_Aligned.sortedByCoord.out.md.splitn.aligned.duplicates_marked.recalibrated.bam.md5 to COVHA-20200313-P4-C05-N.all-reads_Aligned.sortedByCoord.out.md.splitn.aligned.duplicates_marked.recalibrated.bam.md5\n",
      "Renaming file with ID 5eed644de4b03703de6260cf _1_COVHA-20200313-P4-C05-N.all-reads_Aligned.sortedByCoord.out.md.splitn.aligned.duplicates_marked.recalibrated.bai to COVHA-20200313-P4-C05-N.all-reads_Aligned.sortedByCoord.out.md.splitn.aligned.duplicates_marked.recalibrated.bai\n",
      "Renaming file with ID 5eed644de4b03703de6260d6 _1_COVHA-20200315-P10-D07-N.all-reads_Aligned.sortedByCoord.out.md.splitn.aligned.duplicates_marked.recalibrated.bam to COVHA-20200315-P10-D07-N.all-reads_Aligned.sortedByCoord.out.md.splitn.aligned.duplicates_marked.recalibrated.bam\n",
      "Renaming file with ID 5eed644de4b03703de6260da _1_COVHA-20200315-P10-D07-N.all-reads_Aligned.sortedByCoord.out.md.splitn.aligned.duplicates_marked.recalibrated.bai to COVHA-20200315-P10-D07-N.all-reads_Aligned.sortedByCoord.out.md.splitn.aligned.duplicates_marked.recalibrated.bai\n",
      "Renaming file with ID 5eed644de4b03703de6260dc _1_COVHA-20200315-P10-D07-N.all-reads_Aligned.sortedByCoord.out.md.splitn.aligned.duplicates_marked.recalibrated.bam.md5 to COVHA-20200315-P10-D07-N.all-reads_Aligned.sortedByCoord.out.md.splitn.aligned.duplicates_marked.recalibrated.bam.md5\n",
      "Renaming file with ID 5eed644de4b03703de6260ed _1_COVHA-20200403-P2-B01-CN.all-reads_Aligned.sortedByCoord.out.md.splitn.recal_data.csv to COVHA-20200403-P2-B01-CN.all-reads_Aligned.sortedByCoord.out.md.splitn.recal_data.csv\n",
      "Renaming file with ID 5eed7130e4b0a6d3113f4126 _1_COVHA-20200403-P1-C06-P.all-reads_Aligned.sortedByCoord.out.md.splitn.recal_data.csv to COVHA-20200403-P1-C06-P.all-reads_Aligned.sortedByCoord.out.md.splitn.recal_data.csv\n",
      "Renaming file with ID 5eed7131e4b0a6d3113f412d _1_COVHA-20200315-P9-F02-N.all-reads_Aligned.sortedByCoord.out.md.splitn.recal_data.csv to COVHA-20200315-P9-F02-N.all-reads_Aligned.sortedByCoord.out.md.splitn.recal_data.csv\n",
      "Renaming file with ID 5eed7131e4b0a6d3113f4131 _1_COVHA-20200403-P1-C06-P.all-reads_Aligned.sortedByCoord.out.md.splitn.aligned.duplicates_marked.recalibrated.bam to COVHA-20200403-P1-C06-P.all-reads_Aligned.sortedByCoord.out.md.splitn.aligned.duplicates_marked.recalibrated.bam\n",
      "Renaming file with ID 5eed7131e4b0a6d3113f4135 _1_COVHA-20200403-P1-C06-P.all-reads_Aligned.sortedByCoord.out.md.splitn.aligned.duplicates_marked.recalibrated.bam.md5 to COVHA-20200403-P1-C06-P.all-reads_Aligned.sortedByCoord.out.md.splitn.aligned.duplicates_marked.recalibrated.bam.md5\n",
      "Renaming file with ID 5eed7131e4b0a6d3113f4137 _1_COVHA-20200403-P1-C06-P.all-reads_Aligned.sortedByCoord.out.md.splitn.aligned.duplicates_marked.recalibrated.bai to COVHA-20200403-P1-C06-P.all-reads_Aligned.sortedByCoord.out.md.splitn.aligned.duplicates_marked.recalibrated.bai\n",
      "Renaming file with ID 5eed7131e4b0a6d3113f4148 _1_COVHA-20200315-P9-F02-N.all-reads_Aligned.sortedByCoord.out.md.splitn.aligned.duplicates_marked.recalibrated.bam to COVHA-20200315-P9-F02-N.all-reads_Aligned.sortedByCoord.out.md.splitn.aligned.duplicates_marked.recalibrated.bam\n",
      "Renaming file with ID 5eed7131e4b0a6d3113f414e _1_COVHA-20200315-P9-F02-N.all-reads_Aligned.sortedByCoord.out.md.splitn.aligned.duplicates_marked.recalibrated.bai to COVHA-20200315-P9-F02-N.all-reads_Aligned.sortedByCoord.out.md.splitn.aligned.duplicates_marked.recalibrated.bai\n"
     ]
    }
   ],
   "source": [
    "manifest = open(\"/Users/brownm28/Documents/2020-Apr-8_RNAseq_snv_dev/manifests/to_rename-manifest.csv\")\n",
    "head = next(manifest)\n",
    "print(\"You sure you want to rename the files in that manifest? Type \\\"YASS\\\" if so\")\n",
    "check = input()\n",
    "if check == \"YASS\":\n",
    "    for line in manifest:\n",
    "        info = line.split(',')\n",
    "        cur = api.files.get(info[0])\n",
    "        new_name = cur.name[3:]\n",
    "        sys.stderr.write(\"Renaming file with ID \" + cur.id + \" \" + cur.name + \" to \" + new_name + \"\\n\")\n",
    "        cur.name = new_name\n",
    "        cur.save()"
   ]
  },
  {
   "cell_type": "code",
   "execution_count": null,
   "metadata": {},
   "outputs": [],
   "source": []
  }
 ],
 "metadata": {
  "kernelspec": {
   "display_name": "Python 3",
   "language": "python",
   "name": "python3"
  },
  "language_info": {
   "codemirror_mode": {
    "name": "ipython",
    "version": 3
   },
   "file_extension": ".py",
   "mimetype": "text/x-python",
   "name": "python",
   "nbconvert_exporter": "python",
   "pygments_lexer": "ipython3",
   "version": "3.7.3"
  }
 },
 "nbformat": 4,
 "nbformat_minor": 2
}
